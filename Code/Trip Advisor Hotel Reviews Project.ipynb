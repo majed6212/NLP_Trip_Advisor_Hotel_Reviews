{
 "cells": [
  {
   "cell_type": "markdown",
   "metadata": {},
   "source": [
    "# **Natural Language Processing (NLP)**"
   ]
  },
  {
   "cell_type": "markdown",
   "metadata": {},
   "source": [
    "## **Project: Trip Advisor Hotel Reviews**"
   ]
  },
  {
   "cell_type": "markdown",
   "metadata": {},
   "source": [
    "- ## **Introduction**\n",
    "\n",
    "Hotels play a crucial role in traveling, and with the increased access to information new pathways of selecting the best ones emerged. With this dataset, you can explore what makes a great hotel and maybe even use this model in your travels!\n",
    "\n",
    "#### We will answer some questions, which are:\n",
    "> * #### What is the distribution for each supervised learning and unsupervised learning?\n",
    "> * #### What are the most frequent comment words in each rating?\n",
    "> * #### What is the best model for each supervised learning and unsupervised learning?\n",
    "\n",
    "\n"
   ]
  },
  {
   "cell_type": "markdown",
   "metadata": {},
   "source": [
    "## **About the dataset**\n",
    "The dataset called **Trip Advisor Hotel Reviews**, and was downloaded from **Kaggle**, and contains more than 20K reviews.\n",
    "\n",
    "You can find and download the dataset from [here](https://www.kaggle.com/andrewmvd/trip-advisor-hotel-reviews)\n"
   ]
  },
  {
   "cell_type": "markdown",
   "metadata": {},
   "source": [
    "# **Section 1: Supervised Learning**"
   ]
  },
  {
   "cell_type": "markdown",
   "metadata": {},
   "source": [
    "# **Part 1: Text Preprocessing**"
   ]
  },
  {
   "cell_type": "markdown",
   "metadata": {},
   "source": [
    "### Import libraries and load the dataset"
   ]
  },
  {
   "cell_type": "code",
   "execution_count": 1,
   "metadata": {},
   "outputs": [],
   "source": [
    "import numpy as np\n",
    "import pandas as pd\n",
    "\n",
    "import matplotlib.pyplot as plt\n",
    "import seaborn as sns\n",
    "import plotly.express as px\n",
    "import plotly.graph_objects as go\n",
    "import plotly.figure_factory as ff\n",
    "from bs4 import BeautifulSoup\n",
    "import math\n",
    "import re\n",
    "import random as rn\n",
    "import string\n",
    "import bert\n",
    "import spacy\n",
    "import joblib\n",
    "\n",
    "\n",
    "from sklearn.model_selection import train_test_split\n",
    "from sklearn.metrics import precision_score, recall_score, accuracy_score, roc_auc_score, roc_curve, confusion_matrix, f1_score, classification_report\n",
    "from sklearn.metrics.pairwise import cosine_similarity\n",
    "from sklearn.feature_extraction.text import CountVectorizer, TfidfVectorizer\n",
    "from sklearn.decomposition import TruncatedSVD, NMF, PCA\n",
    "from sklearn.preprocessing import StandardScaler, MinMaxScaler, OrdinalEncoder, LabelEncoder\n",
    "from sklearn.model_selection import RandomizedSearchCV, GridSearchCV \n",
    "\n",
    "from sklearn.linear_model import LogisticRegression, RidgeClassifier\n",
    "from sklearn.naive_bayes import MultinomialNB, GaussianNB, BernoulliNB\n",
    "from sklearn.ensemble import RandomForestClassifier, ExtraTreesClassifier, AdaBoostClassifier, GradientBoostingClassifier\n",
    "from sklearn.tree import DecisionTreeClassifier\n",
    "from sklearn.cluster import DBSCAN, SpectralClustering, MeanShift, KMeans\n",
    "from sklearn.neighbors import KNeighborsClassifier\n",
    "from sklearn.neural_network import MLPClassifier\n",
    "from sklearn import svm\n",
    "from sklearn.svm import SVC\n",
    "import xgboost as xgb\n",
    "from xgboost import XGBClassifier\n",
    "from catboost import CatBoostClassifier\n",
    "import lightgbm as lgb\n",
    "\n",
    "\n",
    "from imblearn.pipeline import Pipeline\n",
    "from imblearn.over_sampling import SMOTE, SMOTENC, ADASYN, SVMSMOTE, RandomOverSampler, BorderlineSMOTE\n",
    "from imblearn.under_sampling import NearMiss, RandomUnderSampler, EditedNearestNeighbours\n",
    "from imblearn.combine import SMOTETomek\n",
    "\n",
    "\n",
    "import tensorflow as tf\n",
    "import tensorflow_hub as hub\n",
    "from tensorflow.keras import layers\n",
    "from tensorflow.keras.preprocessing.text import Tokenizer\n",
    "from tensorflow.keras.preprocessing.sequence import pad_sequences\n",
    "from tensorflow.keras.losses import SparseCategoricalCrossentropy\n",
    "from tensorflow.keras.optimizers import Adam\n",
    "\n",
    "\n",
    "import nltk\n",
    "from nltk import pos_tag\n",
    "from nltk.stem import WordNetLemmatizer\n",
    "from nltk.stem.porter import PorterStemmer\n",
    "from nltk.tokenize import word_tokenize, WhitespaceTokenizer\n",
    "from nltk.corpus import stopwords, wordnet\n",
    "\n",
    "from textblob import TextBlob\n",
    "from wordcloud import WordCloud, STOPWORDS \n",
    "from autocorrect import Speller\n",
    "from collections import Counter\n",
    "\n",
    "\n",
    "import warnings\n",
    "warnings.filterwarnings(\"ignore\")\n",
    "\n",
    "\n",
    "%matplotlib inline"
   ]
  },
  {
   "cell_type": "code",
   "execution_count": 2,
   "metadata": {
    "scrolled": false
   },
   "outputs": [
    {
     "data": {
      "text/html": [
       "<div>\n",
       "<style scoped>\n",
       "    .dataframe tbody tr th:only-of-type {\n",
       "        vertical-align: middle;\n",
       "    }\n",
       "\n",
       "    .dataframe tbody tr th {\n",
       "        vertical-align: top;\n",
       "    }\n",
       "\n",
       "    .dataframe thead th {\n",
       "        text-align: right;\n",
       "    }\n",
       "</style>\n",
       "<table border=\"1\" class=\"dataframe\">\n",
       "  <thead>\n",
       "    <tr style=\"text-align: right;\">\n",
       "      <th></th>\n",
       "      <th>Review</th>\n",
       "      <th>Rating</th>\n",
       "    </tr>\n",
       "  </thead>\n",
       "  <tbody>\n",
       "    <tr>\n",
       "      <th>0</th>\n",
       "      <td>nice hotel expensive parking got good deal sta...</td>\n",
       "      <td>4</td>\n",
       "    </tr>\n",
       "    <tr>\n",
       "      <th>1</th>\n",
       "      <td>ok nothing special charge diamond member hilto...</td>\n",
       "      <td>2</td>\n",
       "    </tr>\n",
       "    <tr>\n",
       "      <th>2</th>\n",
       "      <td>nice rooms not 4* experience hotel monaco seat...</td>\n",
       "      <td>3</td>\n",
       "    </tr>\n",
       "    <tr>\n",
       "      <th>3</th>\n",
       "      <td>unique, great stay, wonderful time hotel monac...</td>\n",
       "      <td>5</td>\n",
       "    </tr>\n",
       "    <tr>\n",
       "      <th>4</th>\n",
       "      <td>great stay great stay, went seahawk game aweso...</td>\n",
       "      <td>5</td>\n",
       "    </tr>\n",
       "  </tbody>\n",
       "</table>\n",
       "</div>"
      ],
      "text/plain": [
       "                                              Review  Rating\n",
       "0  nice hotel expensive parking got good deal sta...       4\n",
       "1  ok nothing special charge diamond member hilto...       2\n",
       "2  nice rooms not 4* experience hotel monaco seat...       3\n",
       "3  unique, great stay, wonderful time hotel monac...       5\n",
       "4  great stay great stay, went seahawk game aweso...       5"
      ]
     },
     "execution_count": 2,
     "metadata": {},
     "output_type": "execute_result"
    }
   ],
   "source": [
    "df = pd.read_csv(\"tripadvisor_hotel_reviews.csv\")\n",
    "df.head()"
   ]
  },
  {
   "cell_type": "markdown",
   "metadata": {},
   "source": [
    "----"
   ]
  },
  {
   "cell_type": "markdown",
   "metadata": {},
   "source": [
    "### Creating sample of the dataset"
   ]
  },
  {
   "cell_type": "code",
   "execution_count": 3,
   "metadata": {},
   "outputs": [
    {
     "data": {
      "text/html": [
       "<div>\n",
       "<style scoped>\n",
       "    .dataframe tbody tr th:only-of-type {\n",
       "        vertical-align: middle;\n",
       "    }\n",
       "\n",
       "    .dataframe tbody tr th {\n",
       "        vertical-align: top;\n",
       "    }\n",
       "\n",
       "    .dataframe thead th {\n",
       "        text-align: right;\n",
       "    }\n",
       "</style>\n",
       "<table border=\"1\" class=\"dataframe\">\n",
       "  <thead>\n",
       "    <tr style=\"text-align: right;\">\n",
       "      <th></th>\n",
       "      <th>Review</th>\n",
       "      <th>Rating</th>\n",
       "    </tr>\n",
       "  </thead>\n",
       "  <tbody>\n",
       "    <tr>\n",
       "      <th>10726</th>\n",
       "      <td>not recommend hotel did reviewers actually sta...</td>\n",
       "      <td>1</td>\n",
       "    </tr>\n",
       "    <tr>\n",
       "      <th>14919</th>\n",
       "      <td>barcelona rocks, stayed hotel jazz girlfriend ...</td>\n",
       "      <td>4</td>\n",
       "    </tr>\n",
       "    <tr>\n",
       "      <th>19098</th>\n",
       "      <td>ok hotel good location stayed night way beijin...</td>\n",
       "      <td>3</td>\n",
       "    </tr>\n",
       "    <tr>\n",
       "      <th>2450</th>\n",
       "      <td>great service nice pool ok beach lovely ground...</td>\n",
       "      <td>4</td>\n",
       "    </tr>\n",
       "    <tr>\n",
       "      <th>960</th>\n",
       "      <td>surprising treat spent weekend july 15/16 2006...</td>\n",
       "      <td>5</td>\n",
       "    </tr>\n",
       "  </tbody>\n",
       "</table>\n",
       "</div>"
      ],
      "text/plain": [
       "                                                  Review  Rating\n",
       "10726  not recommend hotel did reviewers actually sta...       1\n",
       "14919  barcelona rocks, stayed hotel jazz girlfriend ...       4\n",
       "19098  ok hotel good location stayed night way beijin...       3\n",
       "2450   great service nice pool ok beach lovely ground...       4\n",
       "960    surprising treat spent weekend july 15/16 2006...       5"
      ]
     },
     "execution_count": 3,
     "metadata": {},
     "output_type": "execute_result"
    }
   ],
   "source": [
    "df_sample = df.sample(frac = 1, replace = False, random_state=42)\n",
    "df_sample.head()"
   ]
  },
  {
   "cell_type": "code",
   "execution_count": 4,
   "metadata": {},
   "outputs": [
    {
     "data": {
      "text/plain": [
       "(20491, 2)"
      ]
     },
     "execution_count": 4,
     "metadata": {},
     "output_type": "execute_result"
    }
   ],
   "source": [
    "df_sample.shape"
   ]
  },
  {
   "cell_type": "markdown",
   "metadata": {},
   "source": [
    "### Taking only positive (rating = 5) and negative (rating = 1 & 2) reviews"
   ]
  },
  {
   "cell_type": "code",
   "execution_count": 5,
   "metadata": {},
   "outputs": [],
   "source": [
    "# df_sample = df_sample[(df_sample['Rating'] ==5) | (df_sample['Rating']==1) | (df_sample['Rating']== 2)][['Review','Rating']]\n",
    "df_sample = df_sample[(df_sample['Rating'] ==5) | (df_sample['Rating']==1)][['Review','Rating']]"
   ]
  },
  {
   "cell_type": "markdown",
   "metadata": {},
   "source": [
    "### Cleaning the reviews"
   ]
  },
  {
   "cell_type": "code",
   "execution_count": 6,
   "metadata": {},
   "outputs": [
    {
     "data": {
      "text/html": [
       "<div>\n",
       "<style scoped>\n",
       "    .dataframe tbody tr th:only-of-type {\n",
       "        vertical-align: middle;\n",
       "    }\n",
       "\n",
       "    .dataframe tbody tr th {\n",
       "        vertical-align: top;\n",
       "    }\n",
       "\n",
       "    .dataframe thead th {\n",
       "        text-align: right;\n",
       "    }\n",
       "</style>\n",
       "<table border=\"1\" class=\"dataframe\">\n",
       "  <thead>\n",
       "    <tr style=\"text-align: right;\">\n",
       "      <th></th>\n",
       "      <th>Review</th>\n",
       "      <th>Rating</th>\n",
       "      <th>Cleaned_Review</th>\n",
       "    </tr>\n",
       "  </thead>\n",
       "  <tbody>\n",
       "    <tr>\n",
       "      <th>10726</th>\n",
       "      <td>not recommend hotel did reviewers actually sta...</td>\n",
       "      <td>1</td>\n",
       "      <td>not recommend hotel reviewer actually stay hot...</td>\n",
       "    </tr>\n",
       "    <tr>\n",
       "      <th>960</th>\n",
       "      <td>surprising treat spent weekend july 15/16 2006...</td>\n",
       "      <td>5</td>\n",
       "      <td>surprising treat spend weekend july cartwright...</td>\n",
       "    </tr>\n",
       "    <tr>\n",
       "      <th>17525</th>\n",
       "      <td>fantastic stay affinia 50 stayed affinia 50 de...</td>\n",
       "      <td>5</td>\n",
       "      <td>fantastic stay affinia stay affinia december n...</td>\n",
       "    </tr>\n",
       "    <tr>\n",
       "      <th>13241</th>\n",
       "      <td>great choice, stayed argonaut 7th 10th sepembe...</td>\n",
       "      <td>5</td>\n",
       "      <td>great choice stay argonaut sepember second leg...</td>\n",
       "    </tr>\n",
       "    <tr>\n",
       "      <th>12134</th>\n",
       "      <td>treat good room glimpse bridge, thought room, ...</td>\n",
       "      <td>5</td>\n",
       "      <td>treat good room glimpse bridge think room impe...</td>\n",
       "    </tr>\n",
       "  </tbody>\n",
       "</table>\n",
       "</div>"
      ],
      "text/plain": [
       "                                                  Review  Rating  \\\n",
       "10726  not recommend hotel did reviewers actually sta...       1   \n",
       "960    surprising treat spent weekend july 15/16 2006...       5   \n",
       "17525  fantastic stay affinia 50 stayed affinia 50 de...       5   \n",
       "13241  great choice, stayed argonaut 7th 10th sepembe...       5   \n",
       "12134  treat good room glimpse bridge, thought room, ...       5   \n",
       "\n",
       "                                          Cleaned_Review  \n",
       "10726  not recommend hotel reviewer actually stay hot...  \n",
       "960    surprising treat spend weekend july cartwright...  \n",
       "17525  fantastic stay affinia stay affinia december n...  \n",
       "13241  great choice stay argonaut sepember second leg...  \n",
       "12134  treat good room glimpse bridge think room impe...  "
      ]
     },
     "execution_count": 6,
     "metadata": {},
     "output_type": "execute_result"
    }
   ],
   "source": [
    "def get_wordnet_pos(pos_tag):\n",
    "    if pos_tag.startswith('J'):\n",
    "        return wordnet.ADJ\n",
    "    elif pos_tag.startswith('V'):\n",
    "        return wordnet.VERB\n",
    "    elif pos_tag.startswith('N'):\n",
    "        return wordnet.NOUN\n",
    "    elif pos_tag.startswith('R'):\n",
    "        return wordnet.ADV\n",
    "    else:\n",
    "        return wordnet.NOUN\n",
    "\n",
    "\n",
    "def clean_text(text):\n",
    "    # lower text\n",
    "    text = text.lower()\n",
    "    \n",
    "    # tokenize text and remove punctuations\n",
    "    text = [word.strip(string.punctuation) for word in text.split(\" \")]\n",
    "    \n",
    "    # remove words that contain numbers\n",
    "    text = [word for word in text if not any(c.isdigit() for c in word)]\n",
    "    \n",
    "    # remove stop words\n",
    "    stop = stopwords.words('english')\n",
    "    stop.remove('not')\n",
    "    stop.remove('but')\n",
    "    text = [x for x in text if x not in stop]\n",
    "    \n",
    "    # remove empty tokens\n",
    "    text = [t for t in text if len(t) > 0]\n",
    "    \n",
    "    # pos tag text\n",
    "    pos_tags = pos_tag(text)\n",
    "    \n",
    "    # lemmatize text\n",
    "    text = [WordNetLemmatizer().lemmatize(t[0], get_wordnet_pos(t[1])) for t in pos_tags]\n",
    "    \n",
    "    # remove words with only one letter\n",
    "    text = [t for t in text if len(t) > 1]\n",
    "\n",
    "    # join all\n",
    "    text = \" \".join(text)\n",
    "    \n",
    "    return(text)\n",
    "\n",
    "\n",
    "\n",
    "df_sample[\"Cleaned_Review\"] = df_sample[\"Review\"].apply(lambda x: clean_text(x))\n",
    "\n",
    "repeated_chars = lambda x: re.sub('(.)\\\\1{2,}', '\\\\1', x)\n",
    "df_sample['Cleaned_Review'] = df_sample.Cleaned_Review.map(repeated_chars)\n",
    "\n",
    "df_sample = df_sample[df_sample['Cleaned_Review'].map(lambda x: x.isascii())]\n",
    "\n",
    "#data cleaned\n",
    "df_sample.head()"
   ]
  },
  {
   "cell_type": "markdown",
   "metadata": {},
   "source": [
    "### Making the dataframe more clear"
   ]
  },
  {
   "cell_type": "code",
   "execution_count": 7,
   "metadata": {},
   "outputs": [
    {
     "data": {
      "text/html": [
       "<div>\n",
       "<style scoped>\n",
       "    .dataframe tbody tr th:only-of-type {\n",
       "        vertical-align: middle;\n",
       "    }\n",
       "\n",
       "    .dataframe tbody tr th {\n",
       "        vertical-align: top;\n",
       "    }\n",
       "\n",
       "    .dataframe thead th {\n",
       "        text-align: right;\n",
       "    }\n",
       "</style>\n",
       "<table border=\"1\" class=\"dataframe\">\n",
       "  <thead>\n",
       "    <tr style=\"text-align: right;\">\n",
       "      <th></th>\n",
       "      <th>Review</th>\n",
       "      <th>Cleaned_Review</th>\n",
       "      <th>Rating</th>\n",
       "    </tr>\n",
       "  </thead>\n",
       "  <tbody>\n",
       "    <tr>\n",
       "      <th>10726</th>\n",
       "      <td>not recommend hotel did reviewers actually sta...</td>\n",
       "      <td>not recommend hotel reviewer actually stay hot...</td>\n",
       "      <td>1</td>\n",
       "    </tr>\n",
       "    <tr>\n",
       "      <th>960</th>\n",
       "      <td>surprising treat spent weekend july 15/16 2006...</td>\n",
       "      <td>surprising treat spend weekend july cartwright...</td>\n",
       "      <td>5</td>\n",
       "    </tr>\n",
       "    <tr>\n",
       "      <th>17525</th>\n",
       "      <td>fantastic stay affinia 50 stayed affinia 50 de...</td>\n",
       "      <td>fantastic stay affinia stay affinia december n...</td>\n",
       "      <td>5</td>\n",
       "    </tr>\n",
       "    <tr>\n",
       "      <th>13241</th>\n",
       "      <td>great choice, stayed argonaut 7th 10th sepembe...</td>\n",
       "      <td>great choice stay argonaut sepember second leg...</td>\n",
       "      <td>5</td>\n",
       "    </tr>\n",
       "    <tr>\n",
       "      <th>12134</th>\n",
       "      <td>treat good room glimpse bridge, thought room, ...</td>\n",
       "      <td>treat good room glimpse bridge think room impe...</td>\n",
       "      <td>5</td>\n",
       "    </tr>\n",
       "  </tbody>\n",
       "</table>\n",
       "</div>"
      ],
      "text/plain": [
       "                                                  Review  \\\n",
       "10726  not recommend hotel did reviewers actually sta...   \n",
       "960    surprising treat spent weekend july 15/16 2006...   \n",
       "17525  fantastic stay affinia 50 stayed affinia 50 de...   \n",
       "13241  great choice, stayed argonaut 7th 10th sepembe...   \n",
       "12134  treat good room glimpse bridge, thought room, ...   \n",
       "\n",
       "                                          Cleaned_Review  Rating  \n",
       "10726  not recommend hotel reviewer actually stay hot...       1  \n",
       "960    surprising treat spend weekend july cartwright...       5  \n",
       "17525  fantastic stay affinia stay affinia december n...       5  \n",
       "13241  great choice stay argonaut sepember second leg...       5  \n",
       "12134  treat good room glimpse bridge think room impe...       5  "
      ]
     },
     "execution_count": 7,
     "metadata": {},
     "output_type": "execute_result"
    }
   ],
   "source": [
    "df_sample = df_sample.reindex(columns=['Review', 'Cleaned_Review', 'Rating',])\n",
    "\n",
    "df_sample.head()"
   ]
  },
  {
   "cell_type": "markdown",
   "metadata": {},
   "source": [
    "### Changing the number of ratings to positive (rating = 1) and negative (rating = 0)"
   ]
  },
  {
   "cell_type": "code",
   "execution_count": 8,
   "metadata": {},
   "outputs": [
    {
     "data": {
      "text/html": [
       "<div>\n",
       "<style scoped>\n",
       "    .dataframe tbody tr th:only-of-type {\n",
       "        vertical-align: middle;\n",
       "    }\n",
       "\n",
       "    .dataframe tbody tr th {\n",
       "        vertical-align: top;\n",
       "    }\n",
       "\n",
       "    .dataframe thead th {\n",
       "        text-align: right;\n",
       "    }\n",
       "</style>\n",
       "<table border=\"1\" class=\"dataframe\">\n",
       "  <thead>\n",
       "    <tr style=\"text-align: right;\">\n",
       "      <th></th>\n",
       "      <th>Review</th>\n",
       "      <th>Cleaned_Review</th>\n",
       "      <th>Rating</th>\n",
       "      <th>Sentiment_Supervised</th>\n",
       "    </tr>\n",
       "  </thead>\n",
       "  <tbody>\n",
       "    <tr>\n",
       "      <th>10726</th>\n",
       "      <td>not recommend hotel did reviewers actually sta...</td>\n",
       "      <td>not recommend hotel reviewer actually stay hot...</td>\n",
       "      <td>0</td>\n",
       "      <td>Negative</td>\n",
       "    </tr>\n",
       "    <tr>\n",
       "      <th>960</th>\n",
       "      <td>surprising treat spent weekend july 15/16 2006...</td>\n",
       "      <td>surprising treat spend weekend july cartwright...</td>\n",
       "      <td>1</td>\n",
       "      <td>Positive</td>\n",
       "    </tr>\n",
       "    <tr>\n",
       "      <th>17525</th>\n",
       "      <td>fantastic stay affinia 50 stayed affinia 50 de...</td>\n",
       "      <td>fantastic stay affinia stay affinia december n...</td>\n",
       "      <td>1</td>\n",
       "      <td>Positive</td>\n",
       "    </tr>\n",
       "    <tr>\n",
       "      <th>13241</th>\n",
       "      <td>great choice, stayed argonaut 7th 10th sepembe...</td>\n",
       "      <td>great choice stay argonaut sepember second leg...</td>\n",
       "      <td>1</td>\n",
       "      <td>Positive</td>\n",
       "    </tr>\n",
       "    <tr>\n",
       "      <th>12134</th>\n",
       "      <td>treat good room glimpse bridge, thought room, ...</td>\n",
       "      <td>treat good room glimpse bridge think room impe...</td>\n",
       "      <td>1</td>\n",
       "      <td>Positive</td>\n",
       "    </tr>\n",
       "    <tr>\n",
       "      <th>18083</th>\n",
       "      <td>great value money tegal sari lovely hotel, wif...</td>\n",
       "      <td>great value money tegal sari lovely hotel wife...</td>\n",
       "      <td>1</td>\n",
       "      <td>Positive</td>\n",
       "    </tr>\n",
       "    <tr>\n",
       "      <th>3505</th>\n",
       "      <td>great hotel perfect central location just came...</td>\n",
       "      <td>great hotel perfect central location come trip...</td>\n",
       "      <td>1</td>\n",
       "      <td>Positive</td>\n",
       "    </tr>\n",
       "    <tr>\n",
       "      <th>2751</th>\n",
       "      <td>beautiful just returned 5 night stay beach hot...</td>\n",
       "      <td>beautiful return night stay beach hotel experi...</td>\n",
       "      <td>1</td>\n",
       "      <td>Positive</td>\n",
       "    </tr>\n",
       "    <tr>\n",
       "      <th>1580</th>\n",
       "      <td>hope come chose hotel based location reviews t...</td>\n",
       "      <td>hope come chose hotel base location review tri...</td>\n",
       "      <td>1</td>\n",
       "      <td>Positive</td>\n",
       "    </tr>\n",
       "    <tr>\n",
       "      <th>6245</th>\n",
       "      <td>awesome hotel stayed luanna week 1 6. visit oa...</td>\n",
       "      <td>awesome hotel stay luanna week visit oahu hote...</td>\n",
       "      <td>1</td>\n",
       "      <td>Positive</td>\n",
       "    </tr>\n",
       "  </tbody>\n",
       "</table>\n",
       "</div>"
      ],
      "text/plain": [
       "                                                  Review  \\\n",
       "10726  not recommend hotel did reviewers actually sta...   \n",
       "960    surprising treat spent weekend july 15/16 2006...   \n",
       "17525  fantastic stay affinia 50 stayed affinia 50 de...   \n",
       "13241  great choice, stayed argonaut 7th 10th sepembe...   \n",
       "12134  treat good room glimpse bridge, thought room, ...   \n",
       "18083  great value money tegal sari lovely hotel, wif...   \n",
       "3505   great hotel perfect central location just came...   \n",
       "2751   beautiful just returned 5 night stay beach hot...   \n",
       "1580   hope come chose hotel based location reviews t...   \n",
       "6245   awesome hotel stayed luanna week 1 6. visit oa...   \n",
       "\n",
       "                                          Cleaned_Review  Rating  \\\n",
       "10726  not recommend hotel reviewer actually stay hot...       0   \n",
       "960    surprising treat spend weekend july cartwright...       1   \n",
       "17525  fantastic stay affinia stay affinia december n...       1   \n",
       "13241  great choice stay argonaut sepember second leg...       1   \n",
       "12134  treat good room glimpse bridge think room impe...       1   \n",
       "18083  great value money tegal sari lovely hotel wife...       1   \n",
       "3505   great hotel perfect central location come trip...       1   \n",
       "2751   beautiful return night stay beach hotel experi...       1   \n",
       "1580   hope come chose hotel base location review tri...       1   \n",
       "6245   awesome hotel stay luanna week visit oahu hote...       1   \n",
       "\n",
       "      Sentiment_Supervised  \n",
       "10726             Negative  \n",
       "960               Positive  \n",
       "17525             Positive  \n",
       "13241             Positive  \n",
       "12134             Positive  \n",
       "18083             Positive  \n",
       "3505              Positive  \n",
       "2751              Positive  \n",
       "1580              Positive  \n",
       "6245              Positive  "
      ]
     },
     "execution_count": 8,
     "metadata": {},
     "output_type": "execute_result"
    }
   ],
   "source": [
    "\n",
    "df_sample['Rating'] = df_sample['Rating'].apply(lambda x: 1 if x == 5 else 0 )\n",
    "df_sample['Sentiment_Supervised'] = df_sample['Rating'].apply(lambda x: 'Positive' if x == 1 else 'Negative')\n",
    "\n",
    "df_sample.head(10)"
   ]
  },
  {
   "cell_type": "markdown",
   "metadata": {},
   "source": [
    "### Distribution of each rating"
   ]
  },
  {
   "cell_type": "code",
   "execution_count": 9,
   "metadata": {
    "scrolled": true
   },
   "outputs": [
    {
     "data": {
      "image/png": "[encoded data removed]",
      "text/plain": [
       "<Figure size 864x360 with 1 Axes>"
      ]
     },
     "metadata": {
      "needs_background": "light"
     },
     "output_type": "display_data"
    }
   ],
   "source": [
    "total = len(df_sample)\n",
    "ax1 = plt.figure(figsize=(12,5))\n",
    "\n",
    "g = sns.countplot(x='Sentiment_Supervised', data=df_sample)\n",
    "g.set_title(\"Percentage of the reviews for each rating\", fontsize=20)\n",
    "g.set_xlabel(\"Sentiment\", fontsize=17)\n",
    "g.set_ylabel(\"Percentage\", fontsize=17)\n",
    "sizes = []\n",
    "for p in g.patches:\n",
    "    height = p.get_height()\n",
    "    sizes.append(height)\n",
    "    g.text(p.get_x()+p.get_width()/2.,\n",
    "            height + 3,\n",
    "            '{:1.2f}%'.format(height/total*100),\n",
    "            ha=\"center\", fontsize=10) \n",
    "g.set_ylim(0, max(sizes) * 1.1);"
   ]
  },
  {
   "cell_type": "code",
   "execution_count": 10,
   "metadata": {
    "scrolled": true
   },
   "outputs": [
    {
     "data": {
      "text/plain": [
       "Positive    8693\n",
       "Negative    1328\n",
       "Name: Sentiment_Supervised, dtype: int64"
      ]
     },
     "execution_count": 10,
     "metadata": {},
     "output_type": "execute_result"
    }
   ],
   "source": [
    "df_sample.Sentiment_Supervised.value_counts()"
   ]
  },
  {
   "cell_type": "markdown",
   "metadata": {},
   "source": [
    "### Most frequent comment words for each rating"
   ]
  },
  {
   "cell_type": "code",
   "execution_count": 11,
   "metadata": {},
   "outputs": [],
   "source": [
    "Positive = df_sample[df_sample['Rating'] == 1]\n",
    "Negative = df_sample[df_sample['Rating'] == 0]"
   ]
  },
  {
   "cell_type": "code",
   "execution_count": 12,
   "metadata": {},
   "outputs": [
    {
     "data": {
      "image/png": "[encoded data removed]",
      "text/plain": [
       "<Figure size 720x720 with 1 Axes>"
      ]
     },
     "metadata": {
      "needs_background": "light"
     },
     "output_type": "display_data"
    }
   ],
   "source": [
    "plt.rcParams['figure.figsize'] = (10, 10)\n",
    "plt.style.use('fast')\n",
    "\n",
    "wc = WordCloud(background_color = 'white', width = 1500, height = 1500).generate(str(Positive['Cleaned_Review']))\n",
    "plt.title('Description of most frequent positive comment words', fontsize = 15)\n",
    "\n",
    "plt.imshow(wc)\n",
    "plt.axis('off')\n",
    "plt.show()"
   ]
  },
  {
   "cell_type": "code",
   "execution_count": 13,
   "metadata": {},
   "outputs": [
    {
     "data": {
      "image/png": "[encoded data removed]",
      "text/plain": [
       "<Figure size 720x720 with 1 Axes>"
      ]
     },
     "metadata": {
      "needs_background": "light"
     },
     "output_type": "display_data"
    }
   ],
   "source": [
    "plt.rcParams['figure.figsize'] = (10, 10)\n",
    "plt.style.use('fast')\n",
    "\n",
    "wc = WordCloud(background_color = 'black', width = 1500, height = 1500).generate(str(Negative['Cleaned_Review']))\n",
    "plt.title('Description of most frequent negative comment words', fontsize = 15)\n",
    "\n",
    "plt.imshow(wc)\n",
    "plt.axis('off')\n",
    "plt.show()"
   ]
  },
  {
   "cell_type": "markdown",
   "metadata": {},
   "source": [
    "# **Part 2: Modeling**"
   ]
  },
  {
   "cell_type": "markdown",
   "metadata": {},
   "source": [
    "### Splitting the data into train dataset and test dataset"
   ]
  },
  {
   "cell_type": "code",
   "execution_count": 14,
   "metadata": {},
   "outputs": [],
   "source": [
    "X = df_sample.Cleaned_Review\n",
    "y = df_sample.Sentiment_Supervised\n",
    "\n",
    "X_train, X_test, y_train, y_test = train_test_split(X, y, test_size=0.2, random_state=101)"
   ]
  },
  {
   "cell_type": "markdown",
   "metadata": {},
   "source": [
    "### Initializing the models"
   ]
  },
  {
   "cell_type": "code",
   "execution_count": 15,
   "metadata": {},
   "outputs": [],
   "source": [
    "std_slc = StandardScaler()\n",
    "\n",
    "tvec = TfidfVectorizer()\n",
    "\n",
    "knn = KNeighborsClassifier() \n",
    "\n",
    "lr = LogisticRegression()\n",
    "\n",
    "sv = SVC()\n",
    "\n",
    "dt = DecisionTreeClassifier()\n",
    "\n",
    "rf = RandomForestClassifier()\n",
    "\n",
    "et = ExtraTreesClassifier()\n",
    "\n",
    "xgbc = xgb.XGBClassifier()\n",
    "\n",
    "cbc = CatBoostClassifier()\n",
    "\n",
    "lgbm = lgb.LGBMClassifier()\n",
    "\n",
    "mlp = MLPClassifier(hidden_layer_sizes=(8), max_iter=50, activation = 'relu', solver='adam')"
   ]
  },
  {
   "cell_type": "markdown",
   "metadata": {},
   "source": [
    "* ### K-Nearest Neighbors (KNN) Classifier"
   ]
  },
  {
   "cell_type": "code",
   "execution_count": 16,
   "metadata": {},
   "outputs": [
    {
     "name": "stdout",
     "output_type": "stream",
     "text": [
      "0.9137978509745597\n",
      "\n",
      "\n",
      "{'classifier__n_neighbors': 1, 'classifier__weights': 'uniform'}\n",
      "\n",
      "\n",
      "              precision    recall  f1-score   support\n",
      "\n",
      "    Negative       0.72      0.58      0.65       253\n",
      "    Positive       0.94      0.97      0.95      1752\n",
      "\n",
      "    accuracy                           0.92      2005\n",
      "   macro avg       0.83      0.78      0.80      2005\n",
      "weighted avg       0.91      0.92      0.92      2005\n",
      "\n"
     ]
    }
   ],
   "source": [
    "params = { 'classifier__n_neighbors': list(range(1, 20)),'classifier__weights': ['uniform', 'distance']}\n",
    "\n",
    "steps = [('victorizer', tvec),(\"ROS\", RandomOverSampler()),('classifier', knn)]\n",
    "pipeline = Pipeline(steps)\n",
    "\n",
    "knn_rs = GridSearchCV(pipeline, param_grid=params, n_jobs = -1)\n",
    "\n",
    "knn_rs.fit(X_train,y_train)\n",
    "\n",
    "y_pred_knn_rs = knn_rs.predict(X_test)\n",
    "\n",
    "print(knn_rs.best_score_)\n",
    "print('\\n')\n",
    "print(knn_rs.best_params_)\n",
    "print('\\n')\n",
    "print(classification_report(y_test, y_pred_knn_rs))"
   ]
  },
  {
   "cell_type": "code",
   "execution_count": 17,
   "metadata": {
    "scrolled": true
   },
   "outputs": [
    {
     "data": {
      "text/plain": [
       "<AxesSubplot:>"
      ]
     },
     "execution_count": 17,
     "metadata": {},
     "output_type": "execute_result"
    },
    {
     "data": {
      "image/png": "[encoded data removed]",
      "text/plain": [
       "<Figure size 720x720 with 2 Axes>"
      ]
     },
     "metadata": {
      "needs_background": "light"
     },
     "output_type": "display_data"
    }
   ],
   "source": [
    "cm_knn_rs = confusion_matrix(y_test, y_pred_knn_rs)\n",
    "sns.heatmap(cm_knn_rs, annot=True, fmt='1')"
   ]
  },
  {
   "cell_type": "code",
   "execution_count": 18,
   "metadata": {
    "scrolled": true
   },
   "outputs": [
    {
     "name": "stdout",
     "output_type": "stream",
     "text": [
      "Negative feedback\n"
     ]
    }
   ],
   "source": [
    "example = ['The first time I try to live there, and God willing, the last timeI came around the time of the crowd, the apartments and hotels, and I decided to take them 😭Give us a bridal room 🤣 The sofa is red, Bluetooth speakersThe bed is bad, the air-conditioner is exactly above the bed, its old type, but it killed me with a coldAnd there is an air conditioner above the TV. You imagine air conditioning in a small room ☹️The bathroom is opposite the bed, and the door is closed and does not lockThe bathroom is large and has a jacuzzi, but the drawback is that the sink is very close to the chair (the cabin) with difficulty for one to sit.It has a small fridge and kettleThe room does not have a mirror. How is a bridal room?The room is narrow in the sense of the word, and the poor bride is the one who rents itPictures I tried to adjust too much']\n",
    "result = knn_rs.predict(example)\n",
    "\n",
    "for i in result:\n",
    "    if i == 0:\n",
    "        print(\"Positive feedback\")\n",
    "  \n",
    "    else:\n",
    "        print(\"Negative feedback\")\n"
   ]
  },
  {
   "cell_type": "markdown",
   "metadata": {},
   "source": [
    "* ### Logistic Regression Classifier"
   ]
  },
  {
   "cell_type": "code",
   "execution_count": 19,
   "metadata": {
    "scrolled": true
   },
   "outputs": [
    {
     "name": "stdout",
     "output_type": "stream",
     "text": [
      "0.9875311720698254\n",
      "\n",
      "\n",
      "              precision    recall  f1-score   support\n",
      "\n",
      "    Negative       0.94      0.96      0.95       253\n",
      "    Positive       0.99      0.99      0.99      1752\n",
      "\n",
      "    accuracy                           0.99      2005\n",
      "   macro avg       0.97      0.98      0.97      2005\n",
      "weighted avg       0.99      0.99      0.99      2005\n",
      "\n"
     ]
    }
   ],
   "source": [
    "model_lr = Pipeline(steps=[('victorizer', tvec),(\"ROS\", RandomOverSampler()), ('classifier', lr)])\n",
    "\n",
    "model_lr.fit(X_train,y_train)\n",
    "\n",
    "y_pred_model_lr = model_lr.predict(X_test)\n",
    "\n",
    "print(accuracy_score(y_test,y_pred_model_lr))\n",
    "print('\\n')\n",
    "print(classification_report(y_test,y_pred_model_lr))"
   ]
  },
  {
   "cell_type": "code",
   "execution_count": 20,
   "metadata": {
    "scrolled": true
   },
   "outputs": [
    {
     "data": {
      "text/plain": [
       "<AxesSubplot:>"
      ]
     },
     "execution_count": 20,
     "metadata": {},
     "output_type": "execute_result"
    },
    {
     "data": {
      "image/png": "[encoded data removed]",
      "text/plain": [
       "<Figure size 720x720 with 2 Axes>"
      ]
     },
     "metadata": {
      "needs_background": "light"
     },
     "output_type": "display_data"
    }
   ],
   "source": [
    "cm_model_lr = confusion_matrix(y_test, y_pred_model_lr)\n",
    "sns.heatmap(cm_model_lr, annot=True, fmt='1')"
   ]
  },
  {
   "cell_type": "markdown",
   "metadata": {
    "cell_style": "center"
   },
   "source": [
    "> #### Write a review to test the model"
   ]
  },
  {
   "cell_type": "code",
   "execution_count": 21,
   "metadata": {
    "scrolled": true
   },
   "outputs": [
    {
     "name": "stdout",
     "output_type": "stream",
     "text": [
      "Negative feedback\n"
     ]
    }
   ],
   "source": [
    "example = ['The first time I try to live there, and God willing, the last timeI came around the time of the crowd, the apartments and hotels, and I decided to take them 😭Give us a bridal room 🤣 The sofa is red, Bluetooth speakersThe bed is bad, the air-conditioner is exactly above the bed, its old type, but it killed me with a coldAnd there is an air conditioner above the TV. You imagine air conditioning in a small room ☹️The bathroom is opposite the bed, and the door is closed and does not lockThe bathroom is large and has a jacuzzi, but the drawback is that the sink is very close to the chair (the cabin) with difficulty for one to sit.It has a small fridge and kettleThe room does not have a mirror. How is a bridal room?The room is narrow in the sense of the word, and the poor bride is the one who rents itPictures I tried to adjust too much']\n",
    "result = model_lr.predict(example)\n",
    "\n",
    "for i in result:\n",
    "    if i == 0:\n",
    "        print(\"Positive feedback\")\n",
    "  \n",
    "    else:\n",
    "        print(\"Negative feedback\")"
   ]
  },
  {
   "cell_type": "markdown",
   "metadata": {},
   "source": [
    "* ### Support Vector Classifier"
   ]
  },
  {
   "cell_type": "code",
   "execution_count": 22,
   "metadata": {
    "scrolled": true
   },
   "outputs": [
    {
     "name": "stdout",
     "output_type": "stream",
     "text": [
      "0.9845386533665835\n",
      "\n",
      "\n",
      "              precision    recall  f1-score   support\n",
      "\n",
      "    Negative       0.99      0.89      0.94       253\n",
      "    Positive       0.98      1.00      0.99      1752\n",
      "\n",
      "    accuracy                           0.98      2005\n",
      "   macro avg       0.99      0.94      0.96      2005\n",
      "weighted avg       0.98      0.98      0.98      2005\n",
      "\n"
     ]
    }
   ],
   "source": [
    "model_SVC = Pipeline(steps=[('victorizer', tvec),(\"ROS\", RandomOverSampler()), ('classifier', sv)])\n",
    "\n",
    "model_SVC.fit(X_train,y_train)\n",
    "\n",
    "y_pred_model_SVC = model_SVC.predict(X_test)\n",
    "\n",
    "print(accuracy_score(y_test,y_pred_model_SVC))\n",
    "print('\\n')\n",
    "print(classification_report(y_test,y_pred_model_SVC))"
   ]
  },
  {
   "cell_type": "code",
   "execution_count": 23,
   "metadata": {
    "scrolled": true
   },
   "outputs": [
    {
     "data": {
      "text/plain": [
       "<AxesSubplot:>"
      ]
     },
     "execution_count": 23,
     "metadata": {},
     "output_type": "execute_result"
    },
    {
     "data": {
      "image/png": "[encoded data removed]",
      "text/plain": [
       "<Figure size 720x720 with 2 Axes>"
      ]
     },
     "metadata": {
      "needs_background": "light"
     },
     "output_type": "display_data"
    }
   ],
   "source": [
    "cm_model_SVC = confusion_matrix(y_test, y_pred_model_SVC)\n",
    "sns.heatmap(cm_model_SVC, annot=True, fmt='1')"
   ]
  },
  {
   "cell_type": "markdown",
   "metadata": {
    "cell_style": "center"
   },
   "source": [
    "> #### Write a review to test the model"
   ]
  },
  {
   "cell_type": "code",
   "execution_count": 24,
   "metadata": {
    "scrolled": true
   },
   "outputs": [
    {
     "name": "stdout",
     "output_type": "stream",
     "text": [
      "Negative feedback\n"
     ]
    }
   ],
   "source": [
    "example = ['The first time I try to live there, and God willing, the last timeI came around the time of the crowd, the apartments and hotels, and I decided to take them 😭Give us a bridal room 🤣 The sofa is red, Bluetooth speakersThe bed is bad, the air-conditioner is exactly above the bed, its old type, but it killed me with a coldAnd there is an air conditioner above the TV. You imagine air conditioning in a small room ☹️The bathroom is opposite the bed, and the door is closed and does not lockThe bathroom is large and has a jacuzzi, but the drawback is that the sink is very close to the chair (the cabin) with difficulty for one to sit.It has a small fridge and kettleThe room does not have a mirror. How is a bridal room?The room is narrow in the sense of the word, and the poor bride is the one who rents itPictures I tried to adjust too much']\n",
    "result = model_SVC.predict(example)\n",
    "\n",
    "for i in result:\n",
    "    if i == 0:\n",
    "        print(\"Positive feedback\")\n",
    "  \n",
    "    else:\n",
    "        print(\"Negative feedback\")"
   ]
  },
  {
   "cell_type": "markdown",
   "metadata": {},
   "source": [
    "* ### Decision Tree Classifier"
   ]
  },
  {
   "cell_type": "code",
   "execution_count": 25,
   "metadata": {},
   "outputs": [
    {
     "name": "stdout",
     "output_type": "stream",
     "text": [
      "0.9047381546134663\n",
      "\n",
      "\n",
      "              precision    recall  f1-score   support\n",
      "\n",
      "    Negative       0.61      0.70      0.65       253\n",
      "    Positive       0.96      0.93      0.94      1752\n",
      "\n",
      "    accuracy                           0.90      2005\n",
      "   macro avg       0.78      0.82      0.80      2005\n",
      "weighted avg       0.91      0.90      0.91      2005\n",
      "\n"
     ]
    }
   ],
   "source": [
    "model_dt = Pipeline(steps=[('victorizer', tvec),(\"ROS\", RandomOverSampler()), ('classifier', dt)])\n",
    "\n",
    "model_dt.fit(X_train,y_train)\n",
    "\n",
    "y_pred_model_dt = model_dt.predict(X_test)\n",
    "\n",
    "print(accuracy_score(y_test,y_pred_model_dt))\n",
    "print('\\n')\n",
    "print(classification_report(y_test,y_pred_model_dt))"
   ]
  },
  {
   "cell_type": "code",
   "execution_count": 26,
   "metadata": {
    "scrolled": true
   },
   "outputs": [
    {
     "data": {
      "text/plain": [
       "<AxesSubplot:>"
      ]
     },
     "execution_count": 26,
     "metadata": {},
     "output_type": "execute_result"
    },
    {
     "data": {
      "image/png": "[encoded data removed]",
      "text/plain": [
       "<Figure size 720x720 with 2 Axes>"
      ]
     },
     "metadata": {
      "needs_background": "light"
     },
     "output_type": "display_data"
    }
   ],
   "source": [
    "cm_model_dt = confusion_matrix(y_test, y_pred_model_dt)\n",
    "sns.heatmap(cm_model_dt, annot=True, fmt='1')"
   ]
  },
  {
   "cell_type": "markdown",
   "metadata": {
    "cell_style": "center"
   },
   "source": [
    "> #### Write a review to test the model"
   ]
  },
  {
   "cell_type": "code",
   "execution_count": 27,
   "metadata": {
    "scrolled": true
   },
   "outputs": [
    {
     "name": "stdout",
     "output_type": "stream",
     "text": [
      "Negative feedback\n"
     ]
    }
   ],
   "source": [
    "example = ['The first time I try to live there, and God willing, the last timeI came around the time of the crowd, the apartments and hotels, and I decided to take them 😭Give us a bridal room 🤣 The sofa is red, Bluetooth speakersThe bed is bad, the air-conditioner is exactly above the bed, its old type, but it killed me with a coldAnd there is an air conditioner above the TV. You imagine air conditioning in a small room ☹️The bathroom is opposite the bed, and the door is closed and does not lockThe bathroom is large and has a jacuzzi, but the drawback is that the sink is very close to the chair (the cabin) with difficulty for one to sit.It has a small fridge and kettleThe room does not have a mirror. How is a bridal room?The room is narrow in the sense of the word, and the poor bride is the one who rents itPictures I tried to adjust too much']\n",
    "result = model_dt.predict(example)\n",
    "\n",
    "for i in result:\n",
    "    if i == 0:\n",
    "        print(\"Positive feedback\")\n",
    "  \n",
    "    else:\n",
    "        print(\"Negative feedback\")"
   ]
  },
  {
   "cell_type": "markdown",
   "metadata": {},
   "source": [
    "* ### Random Forest Classifier"
   ]
  },
  {
   "cell_type": "code",
   "execution_count": 28,
   "metadata": {
    "scrolled": true
   },
   "outputs": [
    {
     "name": "stdout",
     "output_type": "stream",
     "text": [
      "0.9630922693266832\n",
      "\n",
      "\n",
      "              precision    recall  f1-score   support\n",
      "\n",
      "    Negative       0.98      0.72      0.83       253\n",
      "    Positive       0.96      1.00      0.98      1752\n",
      "\n",
      "    accuracy                           0.96      2005\n",
      "   macro avg       0.97      0.86      0.91      2005\n",
      "weighted avg       0.96      0.96      0.96      2005\n",
      "\n"
     ]
    }
   ],
   "source": [
    "model_rf = Pipeline(steps=[('victorizer', tvec),(\"ROS\", RandomOverSampler(sampling_strategy=\"not majority\")), ('classifier', rf)])\n",
    "\n",
    "model_rf.fit(X_train,y_train)\n",
    "\n",
    "y_pred_model_rf = model_rf.predict(X_test)\n",
    "\n",
    "print(accuracy_score(y_test,y_pred_model_rf))\n",
    "print('\\n')\n",
    "print(classification_report(y_test,y_pred_model_rf))"
   ]
  },
  {
   "cell_type": "code",
   "execution_count": 29,
   "metadata": {
    "scrolled": true
   },
   "outputs": [
    {
     "data": {
      "text/plain": [
       "<AxesSubplot:>"
      ]
     },
     "execution_count": 29,
     "metadata": {},
     "output_type": "execute_result"
    },
    {
     "data": {
      "image/png": "[encoded data removed]",
      "text/plain": [
       "<Figure size 720x720 with 2 Axes>"
      ]
     },
     "metadata": {
      "needs_background": "light"
     },
     "output_type": "display_data"
    }
   ],
   "source": [
    "cm_model_rf = confusion_matrix(y_test, y_pred_model_rf)\n",
    "sns.heatmap(cm_model_rf, annot=True, fmt='1')"
   ]
  },
  {
   "cell_type": "markdown",
   "metadata": {
    "cell_style": "center"
   },
   "source": [
    "> #### Write a review to test the model"
   ]
  },
  {
   "cell_type": "code",
   "execution_count": 30,
   "metadata": {
    "scrolled": true
   },
   "outputs": [
    {
     "name": "stdout",
     "output_type": "stream",
     "text": [
      "Negative feedback\n"
     ]
    }
   ],
   "source": [
    "example = ['The first time I try to live there, and God willing, the last timeI came around the time of the crowd, the apartments and hotels, and I decided to take them 😭Give us a bridal room 🤣 The sofa is red, Bluetooth speakersThe bed is bad, the air-conditioner is exactly above the bed, its old type, but it killed me with a coldAnd there is an air conditioner above the TV. You imagine air conditioning in a small room ☹️The bathroom is opposite the bed, and the door is closed and does not lockThe bathroom is large and has a jacuzzi, but the drawback is that the sink is very close to the chair (the cabin) with difficulty for one to sit.It has a small fridge and kettleThe room does not have a mirror. How is a bridal room?The room is narrow in the sense of the word, and the poor bride is the one who rents itPictures I tried to adjust too much']\n",
    "result = model_rf.predict(example)\n",
    "\n",
    "for i in result:\n",
    "    if i == 0:\n",
    "        print(\"Positive feedback\")\n",
    "  \n",
    "    else:\n",
    "        print(\"Negative feedback\")"
   ]
  },
  {
   "cell_type": "markdown",
   "metadata": {},
   "source": [
    "* ### Extra Trees Classifier"
   ]
  },
  {
   "cell_type": "code",
   "execution_count": 31,
   "metadata": {
    "scrolled": true
   },
   "outputs": [
    {
     "name": "stdout",
     "output_type": "stream",
     "text": [
      "0.9336658354114713\n",
      "\n",
      "\n",
      "              precision    recall  f1-score   support\n",
      "\n",
      "    Negative       1.00      0.47      0.64       253\n",
      "    Positive       0.93      1.00      0.96      1752\n",
      "\n",
      "    accuracy                           0.93      2005\n",
      "   macro avg       0.96      0.74      0.80      2005\n",
      "weighted avg       0.94      0.93      0.92      2005\n",
      "\n"
     ]
    }
   ],
   "source": [
    "model_et = Pipeline(steps=[('victorizer', tvec),(\"ROS\", RandomOverSampler()), ('classifier', et)])\n",
    "\n",
    "model_et.fit(X_train,y_train)\n",
    "\n",
    "y_pred_model_et = model_et.predict(X_test)\n",
    "\n",
    "print(accuracy_score(y_test,y_pred_model_et))\n",
    "print('\\n')\n",
    "print(classification_report(y_test,y_pred_model_et))"
   ]
  },
  {
   "cell_type": "code",
   "execution_count": 32,
   "metadata": {
    "scrolled": true
   },
   "outputs": [
    {
     "data": {
      "text/plain": [
       "<AxesSubplot:>"
      ]
     },
     "execution_count": 32,
     "metadata": {},
     "output_type": "execute_result"
    },
    {
     "data": {
      "image/png": "[encoded data removed]",
      "text/plain": [
       "<Figure size 720x720 with 2 Axes>"
      ]
     },
     "metadata": {
      "needs_background": "light"
     },
     "output_type": "display_data"
    }
   ],
   "source": [
    "cm_model_et = confusion_matrix(y_test, y_pred_model_et)\n",
    "sns.heatmap(cm_model_et, annot=True, fmt='1')"
   ]
  },
  {
   "cell_type": "markdown",
   "metadata": {
    "cell_style": "center"
   },
   "source": [
    "> #### Write a review to test the model"
   ]
  },
  {
   "cell_type": "code",
   "execution_count": 33,
   "metadata": {
    "scrolled": true
   },
   "outputs": [
    {
     "name": "stdout",
     "output_type": "stream",
     "text": [
      "Negative feedback\n"
     ]
    }
   ],
   "source": [
    "example = ['The first time I try to live there, and God willing, the last timeI came around the time of the crowd, the apartments and hotels, and I decided to take them 😭Give us a bridal room 🤣 The sofa is red, Bluetooth speakersThe bed is bad, the air-conditioner is exactly above the bed, its old type, but it killed me with a coldAnd there is an air conditioner above the TV. You imagine air conditioning in a small room ☹️The bathroom is opposite the bed, and the door is closed and does not lockThe bathroom is large and has a jacuzzi, but the drawback is that the sink is very close to the chair (the cabin) with difficulty for one to sit.It has a small fridge and kettleThe room does not have a mirror. How is a bridal room?The room is narrow in the sense of the word, and the poor bride is the one who rents itPictures I tried to adjust too much']\n",
    "result = model_et.predict(example)\n",
    "\n",
    "for i in result:\n",
    "    if i == 0:\n",
    "        print(\"Positive feedback\")\n",
    "  \n",
    "    else:\n",
    "        print(\"Negative feedback\")"
   ]
  },
  {
   "cell_type": "markdown",
   "metadata": {},
   "source": [
    "* ### XGBoost Classifier"
   ]
  },
  {
   "cell_type": "code",
   "execution_count": 34,
   "metadata": {
    "scrolled": true
   },
   "outputs": [
    {
     "name": "stdout",
     "output_type": "stream",
     "text": [
      "[09:30:16] WARNING: C:/Users/Administrator/workspace/xgboost-win64_release_1.5.1/src/learner.cc:1115: Starting in XGBoost 1.3.0, the default evaluation metric used with the objective 'binary:logistic' was changed from 'error' to 'logloss'. Explicitly set eval_metric if you'd like to restore the old behavior.\n",
      "0.9705735660847881\n",
      "\n",
      "\n",
      "              precision    recall  f1-score   support\n",
      "\n",
      "    Negative       0.90      0.86      0.88       253\n",
      "    Positive       0.98      0.99      0.98      1752\n",
      "\n",
      "    accuracy                           0.97      2005\n",
      "   macro avg       0.94      0.92      0.93      2005\n",
      "weighted avg       0.97      0.97      0.97      2005\n",
      "\n"
     ]
    }
   ],
   "source": [
    "model_xgb = Pipeline(steps=[('victorizer', tvec),(\"ROS\", RandomOverSampler(sampling_strategy=\"not majority\")), ('classifier', xgbc)])\n",
    "\n",
    "model_xgb.fit(X_train,y_train)\n",
    "\n",
    "y_pred_model_xgb = model_xgb.predict(X_test)\n",
    "\n",
    "print(accuracy_score(y_test,y_pred_model_xgb))\n",
    "print('\\n')\n",
    "print(classification_report(y_test,y_pred_model_xgb))"
   ]
  },
  {
   "cell_type": "code",
   "execution_count": 35,
   "metadata": {
    "scrolled": true
   },
   "outputs": [
    {
     "data": {
      "text/plain": [
       "<AxesSubplot:>"
      ]
     },
     "execution_count": 35,
     "metadata": {},
     "output_type": "execute_result"
    },
    {
     "data": {
      "image/png": "[encoded data removed]",
      "text/plain": [
       "<Figure size 720x720 with 2 Axes>"
      ]
     },
     "metadata": {
      "needs_background": "light"
     },
     "output_type": "display_data"
    }
   ],
   "source": [
    "cm_model_xgb = confusion_matrix(y_test, y_pred_model_xgb)\n",
    "sns.heatmap(cm_model_xgb, annot=True, fmt='1')"
   ]
  },
  {
   "cell_type": "markdown",
   "metadata": {
    "cell_style": "center"
   },
   "source": [
    "> #### Write a review to test the model"
   ]
  },
  {
   "cell_type": "code",
   "execution_count": 36,
   "metadata": {
    "scrolled": true
   },
   "outputs": [
    {
     "name": "stdout",
     "output_type": "stream",
     "text": [
      "Negative feedback\n"
     ]
    }
   ],
   "source": [
    "example = ['The first time I try to live there, and God willing, the last timeI came around the time of the crowd, the apartments and hotels, and I decided to take them 😭Give us a bridal room 🤣 The sofa is red, Bluetooth speakersThe bed is bad, the air-conditioner is exactly above the bed, its old type, but it killed me with a coldAnd there is an air conditioner above the TV. You imagine air conditioning in a small room ☹️The bathroom is opposite the bed, and the door is closed and does not lockThe bathroom is large and has a jacuzzi, but the drawback is that the sink is very close to the chair (the cabin) with difficulty for one to sit.It has a small fridge and kettleThe room does not have a mirror. How is a bridal room?The room is narrow in the sense of the word, and the poor bride is the one who rents itPictures I tried to adjust too much']\n",
    "result = model_xgb.predict(example)\n",
    "\n",
    "for i in result:\n",
    "    if i == 0:\n",
    "        print(\"Positive feedback\")\n",
    "  \n",
    "    else:\n",
    "        print(\"Negative feedback\")"
   ]
  },
  {
   "cell_type": "markdown",
   "metadata": {},
   "source": [
    "* ### CatBoost Classifier"
   ]
  },
  {
   "cell_type": "code",
   "execution_count": 37,
   "metadata": {
    "scrolled": true
   },
   "outputs": [
    {
     "name": "stdout",
     "output_type": "stream",
     "text": [
      "Learning rate set to 0.031678\n",
      "0:\tlearn: 0.6634564\ttotal: 305ms\tremaining: 5m 5s\n",
      "1:\tlearn: 0.6336814\ttotal: 397ms\tremaining: 3m 17s\n",
      "2:\tlearn: 0.6093089\ttotal: 489ms\tremaining: 2m 42s\n",
      "3:\tlearn: 0.5852127\ttotal: 587ms\tremaining: 2m 26s\n",
      "4:\tlearn: 0.5659834\ttotal: 681ms\tremaining: 2m 15s\n",
      "5:\tlearn: 0.5457264\ttotal: 775ms\tremaining: 2m 8s\n",
      "6:\tlearn: 0.5290215\ttotal: 870ms\tremaining: 2m 3s\n",
      "7:\tlearn: 0.5125619\ttotal: 966ms\tremaining: 1m 59s\n",
      "8:\tlearn: 0.4955627\ttotal: 1.06s\tremaining: 1m 56s\n",
      "9:\tlearn: 0.4809225\ttotal: 1.16s\tremaining: 1m 54s\n",
      "10:\tlearn: 0.4671832\ttotal: 1.25s\tremaining: 1m 52s\n",
      "11:\tlearn: 0.4533853\ttotal: 1.34s\tremaining: 1m 50s\n",
      "12:\tlearn: 0.4427182\ttotal: 1.44s\tremaining: 1m 49s\n",
      "13:\tlearn: 0.4315960\ttotal: 1.53s\tremaining: 1m 47s\n",
      "14:\tlearn: 0.4215804\ttotal: 1.63s\tremaining: 1m 47s\n",
      "15:\tlearn: 0.4116805\ttotal: 1.73s\tremaining: 1m 46s\n",
      "16:\tlearn: 0.4025344\ttotal: 1.82s\tremaining: 1m 45s\n",
      "17:\tlearn: 0.3940059\ttotal: 1.91s\tremaining: 1m 44s\n",
      "18:\tlearn: 0.3864425\ttotal: 2.01s\tremaining: 1m 43s\n",
      "19:\tlearn: 0.3785269\ttotal: 2.1s\tremaining: 1m 42s\n",
      "20:\tlearn: 0.3711332\ttotal: 2.19s\tremaining: 1m 42s\n",
      "21:\tlearn: 0.3641802\ttotal: 2.29s\tremaining: 1m 41s\n",
      "22:\tlearn: 0.3579141\ttotal: 2.38s\tremaining: 1m 41s\n",
      "23:\tlearn: 0.3516264\ttotal: 2.48s\tremaining: 1m 40s\n",
      "24:\tlearn: 0.3448773\ttotal: 2.57s\tremaining: 1m 40s\n",
      "25:\tlearn: 0.3392337\ttotal: 2.66s\tremaining: 1m 39s\n",
      "26:\tlearn: 0.3342862\ttotal: 2.75s\tremaining: 1m 39s\n",
      "27:\tlearn: 0.3296285\ttotal: 2.85s\tremaining: 1m 38s\n",
      "28:\tlearn: 0.3252216\ttotal: 2.94s\tremaining: 1m 38s\n",
      "29:\tlearn: 0.3202768\ttotal: 3.04s\tremaining: 1m 38s\n",
      "30:\tlearn: 0.3155816\ttotal: 3.13s\tremaining: 1m 37s\n",
      "31:\tlearn: 0.3107294\ttotal: 3.22s\tremaining: 1m 37s\n",
      "32:\tlearn: 0.3066345\ttotal: 3.32s\tremaining: 1m 37s\n",
      "33:\tlearn: 0.3025849\ttotal: 3.41s\tremaining: 1m 36s\n",
      "34:\tlearn: 0.2985298\ttotal: 3.5s\tremaining: 1m 36s\n",
      "35:\tlearn: 0.2948617\ttotal: 3.59s\tremaining: 1m 36s\n",
      "36:\tlearn: 0.2908297\ttotal: 3.68s\tremaining: 1m 35s\n",
      "37:\tlearn: 0.2866992\ttotal: 3.77s\tremaining: 1m 35s\n",
      "38:\tlearn: 0.2833092\ttotal: 3.87s\tremaining: 1m 35s\n",
      "39:\tlearn: 0.2806079\ttotal: 3.96s\tremaining: 1m 35s\n",
      "40:\tlearn: 0.2774010\ttotal: 4.05s\tremaining: 1m 34s\n",
      "41:\tlearn: 0.2744414\ttotal: 4.14s\tremaining: 1m 34s\n",
      "42:\tlearn: 0.2711046\ttotal: 4.24s\tremaining: 1m 34s\n",
      "43:\tlearn: 0.2680759\ttotal: 4.33s\tremaining: 1m 34s\n",
      "44:\tlearn: 0.2648662\ttotal: 4.42s\tremaining: 1m 33s\n",
      "45:\tlearn: 0.2621904\ttotal: 4.52s\tremaining: 1m 33s\n",
      "46:\tlearn: 0.2591344\ttotal: 4.61s\tremaining: 1m 33s\n",
      "47:\tlearn: 0.2563087\ttotal: 4.7s\tremaining: 1m 33s\n",
      "48:\tlearn: 0.2540557\ttotal: 4.79s\tremaining: 1m 33s\n",
      "49:\tlearn: 0.2517866\ttotal: 4.89s\tremaining: 1m 32s\n",
      "50:\tlearn: 0.2494954\ttotal: 4.98s\tremaining: 1m 32s\n",
      "51:\tlearn: 0.2467893\ttotal: 5.08s\tremaining: 1m 32s\n",
      "52:\tlearn: 0.2446608\ttotal: 5.17s\tremaining: 1m 32s\n",
      "53:\tlearn: 0.2422198\ttotal: 5.26s\tremaining: 1m 32s\n",
      "54:\tlearn: 0.2404178\ttotal: 5.36s\tremaining: 1m 32s\n",
      "55:\tlearn: 0.2383247\ttotal: 5.45s\tremaining: 1m 31s\n",
      "56:\tlearn: 0.2365185\ttotal: 5.54s\tremaining: 1m 31s\n",
      "57:\tlearn: 0.2349225\ttotal: 5.63s\tremaining: 1m 31s\n",
      "58:\tlearn: 0.2330645\ttotal: 5.73s\tremaining: 1m 31s\n",
      "59:\tlearn: 0.2309300\ttotal: 5.82s\tremaining: 1m 31s\n",
      "60:\tlearn: 0.2292343\ttotal: 5.92s\tremaining: 1m 31s\n",
      "61:\tlearn: 0.2272584\ttotal: 6.01s\tremaining: 1m 30s\n",
      "62:\tlearn: 0.2252885\ttotal: 6.1s\tremaining: 1m 30s\n",
      "63:\tlearn: 0.2234917\ttotal: 6.2s\tremaining: 1m 30s\n",
      "64:\tlearn: 0.2219660\ttotal: 6.29s\tremaining: 1m 30s\n",
      "65:\tlearn: 0.2203277\ttotal: 6.38s\tremaining: 1m 30s\n",
      "66:\tlearn: 0.2190042\ttotal: 6.47s\tremaining: 1m 30s\n",
      "67:\tlearn: 0.2169904\ttotal: 6.57s\tremaining: 1m 30s\n",
      "68:\tlearn: 0.2154460\ttotal: 6.66s\tremaining: 1m 29s\n",
      "69:\tlearn: 0.2137735\ttotal: 6.76s\tremaining: 1m 29s\n",
      "70:\tlearn: 0.2119696\ttotal: 6.84s\tremaining: 1m 29s\n",
      "71:\tlearn: 0.2104455\ttotal: 6.94s\tremaining: 1m 29s\n",
      "72:\tlearn: 0.2087096\ttotal: 7.03s\tremaining: 1m 29s\n",
      "73:\tlearn: 0.2073698\ttotal: 7.12s\tremaining: 1m 29s\n",
      "74:\tlearn: 0.2058870\ttotal: 7.21s\tremaining: 1m 28s\n",
      "75:\tlearn: 0.2044991\ttotal: 7.31s\tremaining: 1m 28s\n",
      "76:\tlearn: 0.2029374\ttotal: 7.4s\tremaining: 1m 28s\n",
      "77:\tlearn: 0.2015321\ttotal: 7.49s\tremaining: 1m 28s\n",
      "78:\tlearn: 0.2000160\ttotal: 7.58s\tremaining: 1m 28s\n",
      "79:\tlearn: 0.1984119\ttotal: 7.68s\tremaining: 1m 28s\n",
      "80:\tlearn: 0.1970661\ttotal: 7.78s\tremaining: 1m 28s\n",
      "81:\tlearn: 0.1959179\ttotal: 7.87s\tremaining: 1m 28s\n",
      "82:\tlearn: 0.1946331\ttotal: 7.96s\tremaining: 1m 28s\n",
      "83:\tlearn: 0.1934939\ttotal: 8.06s\tremaining: 1m 27s\n",
      "84:\tlearn: 0.1923732\ttotal: 8.15s\tremaining: 1m 27s\n",
      "85:\tlearn: 0.1912865\ttotal: 8.24s\tremaining: 1m 27s\n",
      "86:\tlearn: 0.1898981\ttotal: 8.34s\tremaining: 1m 27s\n",
      "87:\tlearn: 0.1888446\ttotal: 8.44s\tremaining: 1m 27s\n",
      "88:\tlearn: 0.1876404\ttotal: 8.53s\tremaining: 1m 27s\n",
      "89:\tlearn: 0.1864240\ttotal: 8.63s\tremaining: 1m 27s\n",
      "90:\tlearn: 0.1851960\ttotal: 8.72s\tremaining: 1m 27s\n",
      "91:\tlearn: 0.1839440\ttotal: 8.81s\tremaining: 1m 26s\n",
      "92:\tlearn: 0.1828125\ttotal: 8.91s\tremaining: 1m 26s\n",
      "93:\tlearn: 0.1817687\ttotal: 9s\tremaining: 1m 26s\n",
      "94:\tlearn: 0.1807420\ttotal: 9.09s\tremaining: 1m 26s\n",
      "95:\tlearn: 0.1798863\ttotal: 9.18s\tremaining: 1m 26s\n",
      "96:\tlearn: 0.1790152\ttotal: 9.28s\tremaining: 1m 26s\n",
      "97:\tlearn: 0.1779549\ttotal: 9.37s\tremaining: 1m 26s\n",
      "98:\tlearn: 0.1767745\ttotal: 9.46s\tremaining: 1m 26s\n",
      "99:\tlearn: 0.1757757\ttotal: 9.55s\tremaining: 1m 25s\n",
      "100:\tlearn: 0.1746286\ttotal: 9.64s\tremaining: 1m 25s\n",
      "101:\tlearn: 0.1738630\ttotal: 9.73s\tremaining: 1m 25s\n",
      "102:\tlearn: 0.1730422\ttotal: 9.83s\tremaining: 1m 25s\n",
      "103:\tlearn: 0.1722976\ttotal: 9.92s\tremaining: 1m 25s\n",
      "104:\tlearn: 0.1715487\ttotal: 10s\tremaining: 1m 25s\n",
      "105:\tlearn: 0.1704028\ttotal: 10.1s\tremaining: 1m 25s\n",
      "106:\tlearn: 0.1696463\ttotal: 10.2s\tremaining: 1m 25s\n",
      "107:\tlearn: 0.1688409\ttotal: 10.3s\tremaining: 1m 24s\n",
      "108:\tlearn: 0.1680191\ttotal: 10.4s\tremaining: 1m 24s\n",
      "109:\tlearn: 0.1669605\ttotal: 10.5s\tremaining: 1m 24s\n",
      "110:\tlearn: 0.1661140\ttotal: 10.6s\tremaining: 1m 24s\n",
      "111:\tlearn: 0.1653020\ttotal: 10.7s\tremaining: 1m 24s\n",
      "112:\tlearn: 0.1643149\ttotal: 10.7s\tremaining: 1m 24s\n",
      "113:\tlearn: 0.1634308\ttotal: 10.8s\tremaining: 1m 24s\n",
      "114:\tlearn: 0.1623779\ttotal: 10.9s\tremaining: 1m 24s\n",
      "115:\tlearn: 0.1615044\ttotal: 11s\tremaining: 1m 23s\n",
      "116:\tlearn: 0.1606104\ttotal: 11.1s\tremaining: 1m 23s\n",
      "117:\tlearn: 0.1597456\ttotal: 11.2s\tremaining: 1m 23s\n",
      "118:\tlearn: 0.1589489\ttotal: 11.3s\tremaining: 1m 23s\n",
      "119:\tlearn: 0.1582479\ttotal: 11.4s\tremaining: 1m 23s\n",
      "120:\tlearn: 0.1575846\ttotal: 11.5s\tremaining: 1m 23s\n",
      "121:\tlearn: 0.1568741\ttotal: 11.6s\tremaining: 1m 23s\n",
      "122:\tlearn: 0.1561091\ttotal: 11.7s\tremaining: 1m 23s\n",
      "123:\tlearn: 0.1554503\ttotal: 11.8s\tremaining: 1m 23s\n",
      "124:\tlearn: 0.1546145\ttotal: 11.9s\tremaining: 1m 22s\n",
      "125:\tlearn: 0.1539429\ttotal: 11.9s\tremaining: 1m 22s\n",
      "126:\tlearn: 0.1530911\ttotal: 12s\tremaining: 1m 22s\n",
      "127:\tlearn: 0.1525357\ttotal: 12.1s\tremaining: 1m 22s\n",
      "128:\tlearn: 0.1517946\ttotal: 12.2s\tremaining: 1m 22s\n",
      "129:\tlearn: 0.1509289\ttotal: 12.3s\tremaining: 1m 22s\n",
      "130:\tlearn: 0.1502445\ttotal: 12.4s\tremaining: 1m 22s\n",
      "131:\tlearn: 0.1495012\ttotal: 12.5s\tremaining: 1m 22s\n",
      "132:\tlearn: 0.1489985\ttotal: 12.6s\tremaining: 1m 22s\n",
      "133:\tlearn: 0.1484438\ttotal: 12.7s\tremaining: 1m 21s\n",
      "134:\tlearn: 0.1479243\ttotal: 12.8s\tremaining: 1m 21s\n",
      "135:\tlearn: 0.1473036\ttotal: 12.9s\tremaining: 1m 21s\n",
      "136:\tlearn: 0.1466021\ttotal: 13s\tremaining: 1m 21s\n",
      "137:\tlearn: 0.1460538\ttotal: 13.1s\tremaining: 1m 21s\n",
      "138:\tlearn: 0.1454812\ttotal: 13.2s\tremaining: 1m 21s\n",
      "139:\tlearn: 0.1448558\ttotal: 13.2s\tremaining: 1m 21s\n",
      "140:\tlearn: 0.1442915\ttotal: 13.3s\tremaining: 1m 21s\n",
      "141:\tlearn: 0.1438139\ttotal: 13.4s\tremaining: 1m 21s\n",
      "142:\tlearn: 0.1430143\ttotal: 13.5s\tremaining: 1m 21s\n",
      "143:\tlearn: 0.1424251\ttotal: 13.6s\tremaining: 1m 20s\n",
      "144:\tlearn: 0.1418441\ttotal: 13.7s\tremaining: 1m 20s\n",
      "145:\tlearn: 0.1413475\ttotal: 13.8s\tremaining: 1m 20s\n",
      "146:\tlearn: 0.1407665\ttotal: 13.9s\tremaining: 1m 20s\n",
      "147:\tlearn: 0.1402952\ttotal: 14s\tremaining: 1m 20s\n",
      "148:\tlearn: 0.1398284\ttotal: 14.1s\tremaining: 1m 20s\n",
      "149:\tlearn: 0.1390259\ttotal: 14.2s\tremaining: 1m 20s\n",
      "150:\tlearn: 0.1383894\ttotal: 14.2s\tremaining: 1m 20s\n",
      "151:\tlearn: 0.1377385\ttotal: 14.3s\tremaining: 1m 20s\n",
      "152:\tlearn: 0.1371513\ttotal: 14.4s\tremaining: 1m 19s\n",
      "153:\tlearn: 0.1368000\ttotal: 14.5s\tremaining: 1m 19s\n",
      "154:\tlearn: 0.1362376\ttotal: 14.6s\tremaining: 1m 19s\n",
      "155:\tlearn: 0.1357807\ttotal: 14.7s\tremaining: 1m 19s\n",
      "156:\tlearn: 0.1352201\ttotal: 14.8s\tremaining: 1m 19s\n"
     ]
    },
    {
     "name": "stdout",
     "output_type": "stream",
     "text": [
      "157:\tlearn: 0.1346171\ttotal: 14.9s\tremaining: 1m 19s\n",
      "158:\tlearn: 0.1341831\ttotal: 15s\tremaining: 1m 19s\n",
      "159:\tlearn: 0.1335836\ttotal: 15.1s\tremaining: 1m 19s\n",
      "160:\tlearn: 0.1329886\ttotal: 15.2s\tremaining: 1m 19s\n",
      "161:\tlearn: 0.1324066\ttotal: 15.3s\tremaining: 1m 18s\n",
      "162:\tlearn: 0.1318199\ttotal: 15.4s\tremaining: 1m 18s\n",
      "163:\tlearn: 0.1313884\ttotal: 15.5s\tremaining: 1m 18s\n",
      "164:\tlearn: 0.1309328\ttotal: 15.5s\tremaining: 1m 18s\n",
      "165:\tlearn: 0.1304293\ttotal: 15.6s\tremaining: 1m 18s\n",
      "166:\tlearn: 0.1300169\ttotal: 15.7s\tremaining: 1m 18s\n",
      "167:\tlearn: 0.1295767\ttotal: 15.8s\tremaining: 1m 18s\n",
      "168:\tlearn: 0.1291585\ttotal: 15.9s\tremaining: 1m 18s\n",
      "169:\tlearn: 0.1286517\ttotal: 16s\tremaining: 1m 18s\n",
      "170:\tlearn: 0.1280917\ttotal: 16.1s\tremaining: 1m 18s\n",
      "171:\tlearn: 0.1276690\ttotal: 16.2s\tremaining: 1m 17s\n",
      "172:\tlearn: 0.1272978\ttotal: 16.3s\tremaining: 1m 17s\n",
      "173:\tlearn: 0.1266436\ttotal: 16.4s\tremaining: 1m 17s\n",
      "174:\tlearn: 0.1263125\ttotal: 16.5s\tremaining: 1m 17s\n",
      "175:\tlearn: 0.1258623\ttotal: 16.6s\tremaining: 1m 17s\n",
      "176:\tlearn: 0.1253838\ttotal: 16.7s\tremaining: 1m 17s\n",
      "177:\tlearn: 0.1249076\ttotal: 16.8s\tremaining: 1m 17s\n",
      "178:\tlearn: 0.1245898\ttotal: 16.8s\tremaining: 1m 17s\n",
      "179:\tlearn: 0.1241946\ttotal: 16.9s\tremaining: 1m 17s\n",
      "180:\tlearn: 0.1237964\ttotal: 17s\tremaining: 1m 17s\n",
      "181:\tlearn: 0.1232716\ttotal: 17.1s\tremaining: 1m 16s\n",
      "182:\tlearn: 0.1228505\ttotal: 17.2s\tremaining: 1m 16s\n",
      "183:\tlearn: 0.1223911\ttotal: 17.3s\tremaining: 1m 16s\n",
      "184:\tlearn: 0.1219870\ttotal: 17.4s\tremaining: 1m 16s\n",
      "185:\tlearn: 0.1216469\ttotal: 17.5s\tremaining: 1m 16s\n",
      "186:\tlearn: 0.1212368\ttotal: 17.6s\tremaining: 1m 16s\n",
      "187:\tlearn: 0.1208254\ttotal: 17.7s\tremaining: 1m 16s\n",
      "188:\tlearn: 0.1203203\ttotal: 17.8s\tremaining: 1m 16s\n",
      "189:\tlearn: 0.1199631\ttotal: 17.9s\tremaining: 1m 16s\n",
      "190:\tlearn: 0.1195091\ttotal: 17.9s\tremaining: 1m 16s\n",
      "191:\tlearn: 0.1191644\ttotal: 18s\tremaining: 1m 15s\n",
      "192:\tlearn: 0.1189010\ttotal: 18.1s\tremaining: 1m 15s\n",
      "193:\tlearn: 0.1184711\ttotal: 18.2s\tremaining: 1m 15s\n",
      "194:\tlearn: 0.1179920\ttotal: 18.3s\tremaining: 1m 15s\n",
      "195:\tlearn: 0.1176692\ttotal: 18.4s\tremaining: 1m 15s\n",
      "196:\tlearn: 0.1170511\ttotal: 18.5s\tremaining: 1m 15s\n",
      "197:\tlearn: 0.1167006\ttotal: 18.6s\tremaining: 1m 15s\n",
      "198:\tlearn: 0.1163062\ttotal: 18.7s\tremaining: 1m 15s\n",
      "199:\tlearn: 0.1160263\ttotal: 18.8s\tremaining: 1m 15s\n",
      "200:\tlearn: 0.1156333\ttotal: 18.9s\tremaining: 1m 15s\n",
      "201:\tlearn: 0.1152197\ttotal: 19s\tremaining: 1m 14s\n",
      "202:\tlearn: 0.1147961\ttotal: 19s\tremaining: 1m 14s\n",
      "203:\tlearn: 0.1145167\ttotal: 19.1s\tremaining: 1m 14s\n",
      "204:\tlearn: 0.1141711\ttotal: 19.2s\tremaining: 1m 14s\n",
      "205:\tlearn: 0.1137350\ttotal: 19.3s\tremaining: 1m 14s\n",
      "206:\tlearn: 0.1133666\ttotal: 19.4s\tremaining: 1m 14s\n",
      "207:\tlearn: 0.1130762\ttotal: 19.5s\tremaining: 1m 14s\n",
      "208:\tlearn: 0.1127583\ttotal: 19.6s\tremaining: 1m 14s\n",
      "209:\tlearn: 0.1123834\ttotal: 19.7s\tremaining: 1m 14s\n",
      "210:\tlearn: 0.1121180\ttotal: 19.8s\tremaining: 1m 13s\n",
      "211:\tlearn: 0.1118212\ttotal: 19.9s\tremaining: 1m 13s\n",
      "212:\tlearn: 0.1113839\ttotal: 20s\tremaining: 1m 13s\n",
      "213:\tlearn: 0.1110240\ttotal: 20.1s\tremaining: 1m 13s\n",
      "214:\tlearn: 0.1105559\ttotal: 20.1s\tremaining: 1m 13s\n",
      "215:\tlearn: 0.1102002\ttotal: 20.2s\tremaining: 1m 13s\n",
      "216:\tlearn: 0.1099186\ttotal: 20.3s\tremaining: 1m 13s\n",
      "217:\tlearn: 0.1096865\ttotal: 20.4s\tremaining: 1m 13s\n",
      "218:\tlearn: 0.1093215\ttotal: 20.5s\tremaining: 1m 13s\n",
      "219:\tlearn: 0.1089304\ttotal: 20.6s\tremaining: 1m 13s\n",
      "220:\tlearn: 0.1086317\ttotal: 20.7s\tremaining: 1m 12s\n",
      "221:\tlearn: 0.1083101\ttotal: 20.8s\tremaining: 1m 12s\n",
      "222:\tlearn: 0.1079567\ttotal: 20.9s\tremaining: 1m 12s\n",
      "223:\tlearn: 0.1077450\ttotal: 21s\tremaining: 1m 12s\n",
      "224:\tlearn: 0.1073770\ttotal: 21.1s\tremaining: 1m 12s\n",
      "225:\tlearn: 0.1070792\ttotal: 21.1s\tremaining: 1m 12s\n",
      "226:\tlearn: 0.1067220\ttotal: 21.2s\tremaining: 1m 12s\n",
      "227:\tlearn: 0.1064588\ttotal: 21.3s\tremaining: 1m 12s\n",
      "228:\tlearn: 0.1060668\ttotal: 21.4s\tremaining: 1m 12s\n",
      "229:\tlearn: 0.1057334\ttotal: 21.5s\tremaining: 1m 12s\n",
      "230:\tlearn: 0.1053113\ttotal: 21.6s\tremaining: 1m 11s\n",
      "231:\tlearn: 0.1049879\ttotal: 21.7s\tremaining: 1m 11s\n",
      "232:\tlearn: 0.1046467\ttotal: 21.8s\tremaining: 1m 11s\n",
      "233:\tlearn: 0.1043799\ttotal: 21.9s\tremaining: 1m 11s\n",
      "234:\tlearn: 0.1040689\ttotal: 22s\tremaining: 1m 11s\n",
      "235:\tlearn: 0.1037995\ttotal: 22.1s\tremaining: 1m 11s\n",
      "236:\tlearn: 0.1035214\ttotal: 22.2s\tremaining: 1m 11s\n",
      "237:\tlearn: 0.1032699\ttotal: 22.2s\tremaining: 1m 11s\n",
      "238:\tlearn: 0.1029896\ttotal: 22.3s\tremaining: 1m 11s\n",
      "239:\tlearn: 0.1026891\ttotal: 22.4s\tremaining: 1m 11s\n",
      "240:\tlearn: 0.1023110\ttotal: 22.5s\tremaining: 1m 10s\n",
      "241:\tlearn: 0.1018790\ttotal: 22.6s\tremaining: 1m 10s\n",
      "242:\tlearn: 0.1015532\ttotal: 22.7s\tremaining: 1m 10s\n",
      "243:\tlearn: 0.1012777\ttotal: 22.8s\tremaining: 1m 10s\n",
      "244:\tlearn: 0.1009870\ttotal: 22.9s\tremaining: 1m 10s\n",
      "245:\tlearn: 0.1007243\ttotal: 23s\tremaining: 1m 10s\n",
      "246:\tlearn: 0.1004796\ttotal: 23.1s\tremaining: 1m 10s\n",
      "247:\tlearn: 0.1001625\ttotal: 23.2s\tremaining: 1m 10s\n",
      "248:\tlearn: 0.0999085\ttotal: 23.3s\tremaining: 1m 10s\n",
      "249:\tlearn: 0.0995709\ttotal: 23.3s\tremaining: 1m 10s\n",
      "250:\tlearn: 0.0992980\ttotal: 23.4s\tremaining: 1m 9s\n",
      "251:\tlearn: 0.0990294\ttotal: 23.5s\tremaining: 1m 9s\n",
      "252:\tlearn: 0.0987868\ttotal: 23.6s\tremaining: 1m 9s\n",
      "253:\tlearn: 0.0985833\ttotal: 23.7s\tremaining: 1m 9s\n",
      "254:\tlearn: 0.0983412\ttotal: 23.8s\tremaining: 1m 9s\n",
      "255:\tlearn: 0.0982014\ttotal: 23.9s\tremaining: 1m 9s\n",
      "256:\tlearn: 0.0979066\ttotal: 24s\tremaining: 1m 9s\n",
      "257:\tlearn: 0.0976633\ttotal: 24.1s\tremaining: 1m 9s\n",
      "258:\tlearn: 0.0973318\ttotal: 24.2s\tremaining: 1m 9s\n",
      "259:\tlearn: 0.0970636\ttotal: 24.3s\tremaining: 1m 9s\n",
      "260:\tlearn: 0.0968050\ttotal: 24.3s\tremaining: 1m 8s\n",
      "261:\tlearn: 0.0964697\ttotal: 24.4s\tremaining: 1m 8s\n",
      "262:\tlearn: 0.0961980\ttotal: 24.5s\tremaining: 1m 8s\n",
      "263:\tlearn: 0.0959760\ttotal: 24.6s\tremaining: 1m 8s\n",
      "264:\tlearn: 0.0956924\ttotal: 24.7s\tremaining: 1m 8s\n",
      "265:\tlearn: 0.0953030\ttotal: 24.8s\tremaining: 1m 8s\n",
      "266:\tlearn: 0.0950015\ttotal: 24.9s\tremaining: 1m 8s\n",
      "267:\tlearn: 0.0948113\ttotal: 25s\tremaining: 1m 8s\n",
      "268:\tlearn: 0.0944917\ttotal: 25.1s\tremaining: 1m 8s\n",
      "269:\tlearn: 0.0941779\ttotal: 25.2s\tremaining: 1m 8s\n",
      "270:\tlearn: 0.0940423\ttotal: 25.3s\tremaining: 1m 7s\n",
      "271:\tlearn: 0.0938973\ttotal: 25.4s\tremaining: 1m 7s\n",
      "272:\tlearn: 0.0936538\ttotal: 25.5s\tremaining: 1m 7s\n",
      "273:\tlearn: 0.0932114\ttotal: 25.5s\tremaining: 1m 7s\n",
      "274:\tlearn: 0.0929854\ttotal: 25.6s\tremaining: 1m 7s\n",
      "275:\tlearn: 0.0926865\ttotal: 25.7s\tremaining: 1m 7s\n",
      "276:\tlearn: 0.0923132\ttotal: 25.8s\tremaining: 1m 7s\n",
      "277:\tlearn: 0.0921674\ttotal: 25.9s\tremaining: 1m 7s\n",
      "278:\tlearn: 0.0919541\ttotal: 26s\tremaining: 1m 7s\n",
      "279:\tlearn: 0.0916529\ttotal: 26.1s\tremaining: 1m 7s\n",
      "280:\tlearn: 0.0914532\ttotal: 26.2s\tremaining: 1m 6s\n",
      "281:\tlearn: 0.0910794\ttotal: 26.3s\tremaining: 1m 6s\n",
      "282:\tlearn: 0.0908240\ttotal: 26.4s\tremaining: 1m 6s\n",
      "283:\tlearn: 0.0907390\ttotal: 26.5s\tremaining: 1m 6s\n",
      "284:\tlearn: 0.0905110\ttotal: 26.6s\tremaining: 1m 6s\n",
      "285:\tlearn: 0.0904038\ttotal: 26.6s\tremaining: 1m 6s\n",
      "286:\tlearn: 0.0900762\ttotal: 26.7s\tremaining: 1m 6s\n",
      "287:\tlearn: 0.0898517\ttotal: 26.8s\tremaining: 1m 6s\n",
      "288:\tlearn: 0.0895712\ttotal: 26.9s\tremaining: 1m 6s\n",
      "289:\tlearn: 0.0893817\ttotal: 27s\tremaining: 1m 6s\n",
      "290:\tlearn: 0.0891428\ttotal: 27.1s\tremaining: 1m 6s\n",
      "291:\tlearn: 0.0891042\ttotal: 27.2s\tremaining: 1m 5s\n",
      "292:\tlearn: 0.0889019\ttotal: 27.3s\tremaining: 1m 5s\n",
      "293:\tlearn: 0.0888683\ttotal: 27.4s\tremaining: 1m 5s\n",
      "294:\tlearn: 0.0886291\ttotal: 27.4s\tremaining: 1m 5s\n",
      "295:\tlearn: 0.0882892\ttotal: 27.5s\tremaining: 1m 5s\n",
      "296:\tlearn: 0.0882295\ttotal: 27.6s\tremaining: 1m 5s\n",
      "297:\tlearn: 0.0878572\ttotal: 27.7s\tremaining: 1m 5s\n",
      "298:\tlearn: 0.0878249\ttotal: 27.8s\tremaining: 1m 5s\n",
      "299:\tlearn: 0.0877909\ttotal: 27.9s\tremaining: 1m 5s\n",
      "300:\tlearn: 0.0875608\ttotal: 28s\tremaining: 1m 5s\n",
      "301:\tlearn: 0.0873222\ttotal: 28.1s\tremaining: 1m 4s\n",
      "302:\tlearn: 0.0870059\ttotal: 28.2s\tremaining: 1m 4s\n",
      "303:\tlearn: 0.0867108\ttotal: 28.3s\tremaining: 1m 4s\n",
      "304:\tlearn: 0.0864730\ttotal: 28.4s\tremaining: 1m 4s\n",
      "305:\tlearn: 0.0863461\ttotal: 28.5s\tremaining: 1m 4s\n",
      "306:\tlearn: 0.0861284\ttotal: 28.6s\tremaining: 1m 4s\n",
      "307:\tlearn: 0.0858884\ttotal: 28.6s\tremaining: 1m 4s\n",
      "308:\tlearn: 0.0857011\ttotal: 28.7s\tremaining: 1m 4s\n",
      "309:\tlearn: 0.0854122\ttotal: 28.8s\tremaining: 1m 4s\n",
      "310:\tlearn: 0.0853611\ttotal: 28.9s\tremaining: 1m 4s\n",
      "311:\tlearn: 0.0851802\ttotal: 29s\tremaining: 1m 3s\n",
      "312:\tlearn: 0.0851576\ttotal: 29.1s\tremaining: 1m 3s\n",
      "313:\tlearn: 0.0849091\ttotal: 29.2s\tremaining: 1m 3s\n",
      "314:\tlearn: 0.0848060\ttotal: 29.3s\tremaining: 1m 3s\n"
     ]
    },
    {
     "name": "stdout",
     "output_type": "stream",
     "text": [
      "315:\tlearn: 0.0844908\ttotal: 29.4s\tremaining: 1m 3s\n",
      "316:\tlearn: 0.0841413\ttotal: 29.5s\tremaining: 1m 3s\n",
      "317:\tlearn: 0.0839216\ttotal: 29.6s\tremaining: 1m 3s\n",
      "318:\tlearn: 0.0836666\ttotal: 29.7s\tremaining: 1m 3s\n",
      "319:\tlearn: 0.0836036\ttotal: 29.7s\tremaining: 1m 3s\n",
      "320:\tlearn: 0.0835797\ttotal: 29.8s\tremaining: 1m 3s\n",
      "321:\tlearn: 0.0833235\ttotal: 29.9s\tremaining: 1m 3s\n",
      "322:\tlearn: 0.0833008\ttotal: 30s\tremaining: 1m 2s\n",
      "323:\tlearn: 0.0832335\ttotal: 30.1s\tremaining: 1m 2s\n",
      "324:\tlearn: 0.0829664\ttotal: 30.2s\tremaining: 1m 2s\n",
      "325:\tlearn: 0.0825882\ttotal: 30.3s\tremaining: 1m 2s\n",
      "326:\tlearn: 0.0825634\ttotal: 30.4s\tremaining: 1m 2s\n",
      "327:\tlearn: 0.0822961\ttotal: 30.5s\tremaining: 1m 2s\n",
      "328:\tlearn: 0.0820404\ttotal: 30.6s\tremaining: 1m 2s\n",
      "329:\tlearn: 0.0817481\ttotal: 30.6s\tremaining: 1m 2s\n",
      "330:\tlearn: 0.0814775\ttotal: 30.7s\tremaining: 1m 2s\n",
      "331:\tlearn: 0.0812923\ttotal: 30.8s\tremaining: 1m 2s\n",
      "332:\tlearn: 0.0810947\ttotal: 30.9s\tremaining: 1m 1s\n",
      "333:\tlearn: 0.0809552\ttotal: 31s\tremaining: 1m 1s\n",
      "334:\tlearn: 0.0809111\ttotal: 31.1s\tremaining: 1m 1s\n",
      "335:\tlearn: 0.0806144\ttotal: 31.2s\tremaining: 1m 1s\n",
      "336:\tlearn: 0.0803149\ttotal: 31.3s\tremaining: 1m 1s\n",
      "337:\tlearn: 0.0800293\ttotal: 31.4s\tremaining: 1m 1s\n",
      "338:\tlearn: 0.0799136\ttotal: 31.5s\tremaining: 1m 1s\n",
      "339:\tlearn: 0.0796637\ttotal: 31.6s\tremaining: 1m 1s\n",
      "340:\tlearn: 0.0793626\ttotal: 31.7s\tremaining: 1m 1s\n",
      "341:\tlearn: 0.0790951\ttotal: 31.7s\tremaining: 1m 1s\n",
      "342:\tlearn: 0.0790724\ttotal: 31.8s\tremaining: 1m\n",
      "343:\tlearn: 0.0788040\ttotal: 31.9s\tremaining: 1m\n",
      "344:\tlearn: 0.0785060\ttotal: 32s\tremaining: 1m\n",
      "345:\tlearn: 0.0782233\ttotal: 32.1s\tremaining: 1m\n",
      "346:\tlearn: 0.0782008\ttotal: 32.2s\tremaining: 1m\n",
      "347:\tlearn: 0.0781715\ttotal: 32.3s\tremaining: 1m\n",
      "348:\tlearn: 0.0781362\ttotal: 32.4s\tremaining: 1m\n",
      "349:\tlearn: 0.0779411\ttotal: 32.5s\tremaining: 1m\n",
      "350:\tlearn: 0.0779199\ttotal: 32.6s\tremaining: 1m\n",
      "351:\tlearn: 0.0777170\ttotal: 32.6s\tremaining: 1m\n",
      "352:\tlearn: 0.0774743\ttotal: 32.7s\tremaining: 1m\n",
      "353:\tlearn: 0.0772006\ttotal: 32.8s\tremaining: 59.9s\n",
      "354:\tlearn: 0.0770015\ttotal: 32.9s\tremaining: 59.8s\n",
      "355:\tlearn: 0.0767202\ttotal: 33s\tremaining: 59.7s\n",
      "356:\tlearn: 0.0764926\ttotal: 33.1s\tremaining: 59.6s\n",
      "357:\tlearn: 0.0762431\ttotal: 33.2s\tremaining: 59.5s\n",
      "358:\tlearn: 0.0760078\ttotal: 33.3s\tremaining: 59.4s\n",
      "359:\tlearn: 0.0758178\ttotal: 33.4s\tremaining: 59.3s\n",
      "360:\tlearn: 0.0757973\ttotal: 33.5s\tremaining: 59.2s\n",
      "361:\tlearn: 0.0757691\ttotal: 33.6s\tremaining: 59.1s\n",
      "362:\tlearn: 0.0755462\ttotal: 33.6s\tremaining: 59s\n",
      "363:\tlearn: 0.0754344\ttotal: 33.7s\tremaining: 58.9s\n",
      "364:\tlearn: 0.0753929\ttotal: 33.8s\tremaining: 58.8s\n",
      "365:\tlearn: 0.0753725\ttotal: 33.9s\tremaining: 58.7s\n",
      "366:\tlearn: 0.0750878\ttotal: 34s\tremaining: 58.6s\n",
      "367:\tlearn: 0.0747457\ttotal: 34.1s\tremaining: 58.5s\n",
      "368:\tlearn: 0.0746535\ttotal: 34.2s\tremaining: 58.5s\n",
      "369:\tlearn: 0.0744384\ttotal: 34.3s\tremaining: 58.4s\n",
      "370:\tlearn: 0.0742238\ttotal: 34.4s\tremaining: 58.3s\n",
      "371:\tlearn: 0.0742036\ttotal: 34.5s\tremaining: 58.2s\n",
      "372:\tlearn: 0.0740658\ttotal: 34.5s\tremaining: 58.1s\n",
      "373:\tlearn: 0.0740303\ttotal: 34.6s\tremaining: 58s\n",
      "374:\tlearn: 0.0737798\ttotal: 34.7s\tremaining: 57.9s\n",
      "375:\tlearn: 0.0734699\ttotal: 34.8s\tremaining: 57.8s\n",
      "376:\tlearn: 0.0733049\ttotal: 34.9s\tremaining: 57.7s\n",
      "377:\tlearn: 0.0729797\ttotal: 35s\tremaining: 57.6s\n",
      "378:\tlearn: 0.0727616\ttotal: 35.1s\tremaining: 57.5s\n",
      "379:\tlearn: 0.0727419\ttotal: 35.2s\tremaining: 57.4s\n",
      "380:\tlearn: 0.0724831\ttotal: 35.3s\tremaining: 57.3s\n",
      "381:\tlearn: 0.0723104\ttotal: 35.4s\tremaining: 57.2s\n",
      "382:\tlearn: 0.0722758\ttotal: 35.5s\tremaining: 57.1s\n",
      "383:\tlearn: 0.0721397\ttotal: 35.5s\tremaining: 57s\n",
      "384:\tlearn: 0.0721205\ttotal: 35.6s\tremaining: 56.9s\n",
      "385:\tlearn: 0.0720892\ttotal: 35.7s\tremaining: 56.8s\n",
      "386:\tlearn: 0.0720704\ttotal: 35.8s\tremaining: 56.7s\n",
      "387:\tlearn: 0.0718210\ttotal: 35.9s\tremaining: 56.6s\n",
      "388:\tlearn: 0.0715504\ttotal: 36s\tremaining: 56.5s\n",
      "389:\tlearn: 0.0714374\ttotal: 36.1s\tremaining: 56.4s\n",
      "390:\tlearn: 0.0711486\ttotal: 36.2s\tremaining: 56.3s\n",
      "391:\tlearn: 0.0709136\ttotal: 36.3s\tremaining: 56.3s\n",
      "392:\tlearn: 0.0708949\ttotal: 36.4s\tremaining: 56.2s\n",
      "393:\tlearn: 0.0707950\ttotal: 36.4s\tremaining: 56.1s\n",
      "394:\tlearn: 0.0705786\ttotal: 36.5s\tremaining: 56s\n",
      "395:\tlearn: 0.0702950\ttotal: 36.6s\tremaining: 55.9s\n",
      "396:\tlearn: 0.0700563\ttotal: 36.7s\tremaining: 55.8s\n",
      "397:\tlearn: 0.0700381\ttotal: 36.8s\tremaining: 55.7s\n",
      "398:\tlearn: 0.0698756\ttotal: 36.9s\tremaining: 55.6s\n",
      "399:\tlearn: 0.0696712\ttotal: 37s\tremaining: 55.5s\n",
      "400:\tlearn: 0.0695833\ttotal: 37.1s\tremaining: 55.4s\n",
      "401:\tlearn: 0.0695559\ttotal: 37.2s\tremaining: 55.3s\n",
      "402:\tlearn: 0.0694569\ttotal: 37.3s\tremaining: 55.2s\n",
      "403:\tlearn: 0.0693042\ttotal: 37.3s\tremaining: 55.1s\n",
      "404:\tlearn: 0.0690435\ttotal: 37.4s\tremaining: 55s\n",
      "405:\tlearn: 0.0689037\ttotal: 37.5s\tremaining: 54.9s\n",
      "406:\tlearn: 0.0687522\ttotal: 37.6s\tremaining: 54.8s\n",
      "407:\tlearn: 0.0687344\ttotal: 37.7s\tremaining: 54.7s\n",
      "408:\tlearn: 0.0685702\ttotal: 37.8s\tremaining: 54.6s\n",
      "409:\tlearn: 0.0683994\ttotal: 37.9s\tremaining: 54.5s\n",
      "410:\tlearn: 0.0681984\ttotal: 38s\tremaining: 54.4s\n",
      "411:\tlearn: 0.0680090\ttotal: 38.1s\tremaining: 54.3s\n",
      "412:\tlearn: 0.0677913\ttotal: 38.2s\tremaining: 54.3s\n",
      "413:\tlearn: 0.0677737\ttotal: 38.3s\tremaining: 54.2s\n",
      "414:\tlearn: 0.0676106\ttotal: 38.4s\tremaining: 54.1s\n",
      "415:\tlearn: 0.0674730\ttotal: 38.4s\tremaining: 54s\n",
      "416:\tlearn: 0.0672017\ttotal: 38.5s\tremaining: 53.9s\n",
      "417:\tlearn: 0.0669915\ttotal: 38.6s\tremaining: 53.8s\n",
      "418:\tlearn: 0.0669616\ttotal: 38.7s\tremaining: 53.7s\n",
      "419:\tlearn: 0.0669445\ttotal: 38.8s\tremaining: 53.6s\n",
      "420:\tlearn: 0.0666903\ttotal: 38.9s\tremaining: 53.5s\n",
      "421:\tlearn: 0.0664953\ttotal: 39s\tremaining: 53.4s\n",
      "422:\tlearn: 0.0664784\ttotal: 39.1s\tremaining: 53.3s\n",
      "423:\tlearn: 0.0664260\ttotal: 39.2s\tremaining: 53.2s\n",
      "424:\tlearn: 0.0663525\ttotal: 39.3s\tremaining: 53.1s\n",
      "425:\tlearn: 0.0660972\ttotal: 39.3s\tremaining: 53s\n",
      "426:\tlearn: 0.0659723\ttotal: 39.4s\tremaining: 52.9s\n",
      "427:\tlearn: 0.0657951\ttotal: 39.5s\tremaining: 52.8s\n",
      "428:\tlearn: 0.0655788\ttotal: 39.6s\tremaining: 52.7s\n",
      "429:\tlearn: 0.0655488\ttotal: 39.7s\tremaining: 52.6s\n",
      "430:\tlearn: 0.0653506\ttotal: 39.8s\tremaining: 52.5s\n",
      "431:\tlearn: 0.0651071\ttotal: 39.9s\tremaining: 52.4s\n",
      "432:\tlearn: 0.0649502\ttotal: 40s\tremaining: 52.4s\n",
      "433:\tlearn: 0.0645927\ttotal: 40.1s\tremaining: 52.3s\n",
      "434:\tlearn: 0.0644208\ttotal: 40.2s\tremaining: 52.2s\n",
      "435:\tlearn: 0.0642202\ttotal: 40.3s\tremaining: 52.1s\n",
      "436:\tlearn: 0.0642038\ttotal: 40.3s\tremaining: 52s\n",
      "437:\tlearn: 0.0640577\ttotal: 40.4s\tremaining: 51.9s\n",
      "438:\tlearn: 0.0640418\ttotal: 40.5s\tremaining: 51.8s\n",
      "439:\tlearn: 0.0638038\ttotal: 40.6s\tremaining: 51.7s\n",
      "440:\tlearn: 0.0636214\ttotal: 40.7s\tremaining: 51.6s\n",
      "441:\tlearn: 0.0634421\ttotal: 40.8s\tremaining: 51.5s\n",
      "442:\tlearn: 0.0632936\ttotal: 40.9s\tremaining: 51.4s\n",
      "443:\tlearn: 0.0632778\ttotal: 41s\tremaining: 51.3s\n",
      "444:\tlearn: 0.0630905\ttotal: 41.1s\tremaining: 51.2s\n",
      "445:\tlearn: 0.0629578\ttotal: 41.1s\tremaining: 51.1s\n",
      "446:\tlearn: 0.0629275\ttotal: 41.2s\tremaining: 51s\n",
      "447:\tlearn: 0.0629035\ttotal: 41.3s\tremaining: 50.9s\n",
      "448:\tlearn: 0.0627428\ttotal: 41.4s\tremaining: 50.8s\n",
      "449:\tlearn: 0.0625714\ttotal: 41.5s\tremaining: 50.7s\n",
      "450:\tlearn: 0.0625561\ttotal: 41.6s\tremaining: 50.6s\n",
      "451:\tlearn: 0.0625316\ttotal: 41.7s\tremaining: 50.5s\n",
      "452:\tlearn: 0.0623608\ttotal: 41.8s\tremaining: 50.4s\n",
      "453:\tlearn: 0.0621933\ttotal: 41.9s\tremaining: 50.4s\n",
      "454:\tlearn: 0.0621701\ttotal: 42s\tremaining: 50.3s\n",
      "455:\tlearn: 0.0621552\ttotal: 42s\tremaining: 50.2s\n",
      "456:\tlearn: 0.0619682\ttotal: 42.1s\tremaining: 50.1s\n",
      "457:\tlearn: 0.0619458\ttotal: 42.2s\tremaining: 50s\n",
      "458:\tlearn: 0.0618154\ttotal: 42.3s\tremaining: 49.9s\n",
      "459:\tlearn: 0.0616107\ttotal: 42.4s\tremaining: 49.8s\n",
      "460:\tlearn: 0.0614911\ttotal: 42.5s\tremaining: 49.7s\n",
      "461:\tlearn: 0.0613555\ttotal: 42.6s\tremaining: 49.6s\n",
      "462:\tlearn: 0.0612279\ttotal: 42.7s\tremaining: 49.5s\n",
      "463:\tlearn: 0.0612133\ttotal: 42.8s\tremaining: 49.4s\n",
      "464:\tlearn: 0.0609736\ttotal: 42.9s\tremaining: 49.3s\n",
      "465:\tlearn: 0.0608733\ttotal: 43s\tremaining: 49.2s\n",
      "466:\tlearn: 0.0608429\ttotal: 43s\tremaining: 49.1s\n",
      "467:\tlearn: 0.0606500\ttotal: 43.1s\tremaining: 49s\n",
      "468:\tlearn: 0.0604857\ttotal: 43.2s\tremaining: 48.9s\n",
      "469:\tlearn: 0.0604715\ttotal: 43.3s\tremaining: 48.8s\n",
      "470:\tlearn: 0.0602767\ttotal: 43.4s\tremaining: 48.7s\n",
      "471:\tlearn: 0.0601475\ttotal: 43.5s\tremaining: 48.7s\n",
      "472:\tlearn: 0.0600177\ttotal: 43.6s\tremaining: 48.6s\n",
      "473:\tlearn: 0.0598845\ttotal: 43.7s\tremaining: 48.5s\n",
      "474:\tlearn: 0.0597505\ttotal: 43.8s\tremaining: 48.4s\n",
      "475:\tlearn: 0.0595705\ttotal: 43.9s\tremaining: 48.3s\n"
     ]
    },
    {
     "name": "stdout",
     "output_type": "stream",
     "text": [
      "476:\tlearn: 0.0595568\ttotal: 44s\tremaining: 48.2s\n",
      "477:\tlearn: 0.0594562\ttotal: 44s\tremaining: 48.1s\n",
      "478:\tlearn: 0.0594337\ttotal: 44.1s\tremaining: 48s\n",
      "479:\tlearn: 0.0593312\ttotal: 44.2s\tremaining: 47.9s\n",
      "480:\tlearn: 0.0591136\ttotal: 44.3s\tremaining: 47.8s\n",
      "481:\tlearn: 0.0591002\ttotal: 44.4s\tremaining: 47.7s\n",
      "482:\tlearn: 0.0589536\ttotal: 44.5s\tremaining: 47.6s\n",
      "483:\tlearn: 0.0588203\ttotal: 44.6s\tremaining: 47.5s\n",
      "484:\tlearn: 0.0587001\ttotal: 44.7s\tremaining: 47.5s\n",
      "485:\tlearn: 0.0585506\ttotal: 44.8s\tremaining: 47.4s\n",
      "486:\tlearn: 0.0584092\ttotal: 44.9s\tremaining: 47.3s\n",
      "487:\tlearn: 0.0581944\ttotal: 45s\tremaining: 47.2s\n",
      "488:\tlearn: 0.0580558\ttotal: 45.1s\tremaining: 47.1s\n",
      "489:\tlearn: 0.0579856\ttotal: 45.2s\tremaining: 47s\n",
      "490:\tlearn: 0.0578698\ttotal: 45.2s\tremaining: 46.9s\n",
      "491:\tlearn: 0.0577764\ttotal: 45.3s\tremaining: 46.8s\n",
      "492:\tlearn: 0.0577633\ttotal: 45.4s\tremaining: 46.7s\n",
      "493:\tlearn: 0.0576561\ttotal: 45.5s\tremaining: 46.6s\n",
      "494:\tlearn: 0.0575628\ttotal: 45.6s\tremaining: 46.5s\n",
      "495:\tlearn: 0.0575340\ttotal: 45.7s\tremaining: 46.4s\n",
      "496:\tlearn: 0.0573547\ttotal: 45.8s\tremaining: 46.3s\n",
      "497:\tlearn: 0.0572646\ttotal: 45.9s\tremaining: 46.3s\n",
      "498:\tlearn: 0.0572518\ttotal: 46s\tremaining: 46.2s\n",
      "499:\tlearn: 0.0570439\ttotal: 46.1s\tremaining: 46.1s\n",
      "500:\tlearn: 0.0570241\ttotal: 46.2s\tremaining: 46s\n",
      "501:\tlearn: 0.0570116\ttotal: 46.3s\tremaining: 45.9s\n",
      "502:\tlearn: 0.0568666\ttotal: 46.3s\tremaining: 45.8s\n",
      "503:\tlearn: 0.0567478\ttotal: 46.4s\tremaining: 45.7s\n",
      "504:\tlearn: 0.0567285\ttotal: 46.5s\tremaining: 45.6s\n",
      "505:\tlearn: 0.0565654\ttotal: 46.6s\tremaining: 45.5s\n",
      "506:\tlearn: 0.0565533\ttotal: 46.7s\tremaining: 45.4s\n",
      "507:\tlearn: 0.0565291\ttotal: 46.8s\tremaining: 45.3s\n",
      "508:\tlearn: 0.0563070\ttotal: 46.9s\tremaining: 45.2s\n",
      "509:\tlearn: 0.0562951\ttotal: 47s\tremaining: 45.1s\n",
      "510:\tlearn: 0.0561356\ttotal: 47.1s\tremaining: 45.1s\n",
      "511:\tlearn: 0.0559798\ttotal: 47.2s\tremaining: 45s\n",
      "512:\tlearn: 0.0557929\ttotal: 47.3s\tremaining: 44.9s\n",
      "513:\tlearn: 0.0556595\ttotal: 47.4s\tremaining: 44.8s\n",
      "514:\tlearn: 0.0555768\ttotal: 47.5s\tremaining: 44.7s\n",
      "515:\tlearn: 0.0553942\ttotal: 47.5s\tremaining: 44.6s\n",
      "516:\tlearn: 0.0552536\ttotal: 47.7s\tremaining: 44.5s\n",
      "517:\tlearn: 0.0552418\ttotal: 47.7s\tremaining: 44.4s\n",
      "518:\tlearn: 0.0551256\ttotal: 47.8s\tremaining: 44.3s\n",
      "519:\tlearn: 0.0550412\ttotal: 47.9s\tremaining: 44.2s\n",
      "520:\tlearn: 0.0548868\ttotal: 48s\tremaining: 44.1s\n",
      "521:\tlearn: 0.0548751\ttotal: 48.1s\tremaining: 44s\n",
      "522:\tlearn: 0.0548520\ttotal: 48.2s\tremaining: 43.9s\n",
      "523:\tlearn: 0.0547271\ttotal: 48.3s\tremaining: 43.9s\n",
      "524:\tlearn: 0.0545621\ttotal: 48.4s\tremaining: 43.8s\n",
      "525:\tlearn: 0.0543905\ttotal: 48.5s\tremaining: 43.7s\n",
      "526:\tlearn: 0.0543790\ttotal: 48.6s\tremaining: 43.6s\n",
      "527:\tlearn: 0.0542801\ttotal: 48.7s\tremaining: 43.5s\n",
      "528:\tlearn: 0.0542688\ttotal: 48.7s\tremaining: 43.4s\n",
      "529:\tlearn: 0.0541927\ttotal: 48.8s\tremaining: 43.3s\n",
      "530:\tlearn: 0.0541816\ttotal: 48.9s\tremaining: 43.2s\n",
      "531:\tlearn: 0.0540146\ttotal: 49s\tremaining: 43.1s\n",
      "532:\tlearn: 0.0539969\ttotal: 49.1s\tremaining: 43s\n",
      "533:\tlearn: 0.0538704\ttotal: 49.2s\tremaining: 42.9s\n",
      "534:\tlearn: 0.0538594\ttotal: 49.3s\tremaining: 42.8s\n",
      "535:\tlearn: 0.0536601\ttotal: 49.4s\tremaining: 42.7s\n",
      "536:\tlearn: 0.0535331\ttotal: 49.5s\tremaining: 42.7s\n",
      "537:\tlearn: 0.0533855\ttotal: 49.6s\tremaining: 42.6s\n",
      "538:\tlearn: 0.0533233\ttotal: 49.7s\tremaining: 42.5s\n",
      "539:\tlearn: 0.0531755\ttotal: 49.7s\tremaining: 42.4s\n",
      "540:\tlearn: 0.0531647\ttotal: 49.8s\tremaining: 42.3s\n",
      "541:\tlearn: 0.0529772\ttotal: 49.9s\tremaining: 42.2s\n",
      "542:\tlearn: 0.0529365\ttotal: 50s\tremaining: 42.1s\n",
      "543:\tlearn: 0.0529195\ttotal: 50.1s\tremaining: 42s\n",
      "544:\tlearn: 0.0527832\ttotal: 50.2s\tremaining: 41.9s\n",
      "545:\tlearn: 0.0526219\ttotal: 50.3s\tremaining: 41.8s\n",
      "546:\tlearn: 0.0524762\ttotal: 50.4s\tremaining: 41.7s\n",
      "547:\tlearn: 0.0523401\ttotal: 50.5s\tremaining: 41.6s\n",
      "548:\tlearn: 0.0522897\ttotal: 50.6s\tremaining: 41.5s\n",
      "549:\tlearn: 0.0521432\ttotal: 50.7s\tremaining: 41.4s\n",
      "550:\tlearn: 0.0521325\ttotal: 50.7s\tremaining: 41.4s\n",
      "551:\tlearn: 0.0520060\ttotal: 50.8s\tremaining: 41.3s\n",
      "552:\tlearn: 0.0519956\ttotal: 50.9s\tremaining: 41.2s\n",
      "553:\tlearn: 0.0518366\ttotal: 51s\tremaining: 41.1s\n",
      "554:\tlearn: 0.0516902\ttotal: 51.1s\tremaining: 41s\n",
      "555:\tlearn: 0.0515201\ttotal: 51.2s\tremaining: 40.9s\n",
      "556:\tlearn: 0.0515098\ttotal: 51.3s\tremaining: 40.8s\n",
      "557:\tlearn: 0.0513391\ttotal: 51.4s\tremaining: 40.7s\n",
      "558:\tlearn: 0.0513151\ttotal: 51.5s\tremaining: 40.6s\n",
      "559:\tlearn: 0.0512960\ttotal: 51.5s\tremaining: 40.5s\n",
      "560:\tlearn: 0.0512438\ttotal: 51.6s\tremaining: 40.4s\n",
      "561:\tlearn: 0.0512279\ttotal: 51.7s\tremaining: 40.3s\n",
      "562:\tlearn: 0.0511205\ttotal: 51.8s\tremaining: 40.2s\n",
      "563:\tlearn: 0.0509871\ttotal: 51.9s\tremaining: 40.1s\n",
      "564:\tlearn: 0.0509770\ttotal: 52s\tremaining: 40s\n",
      "565:\tlearn: 0.0509670\ttotal: 52.1s\tremaining: 39.9s\n",
      "566:\tlearn: 0.0507810\ttotal: 52.2s\tremaining: 39.9s\n",
      "567:\tlearn: 0.0507654\ttotal: 52.3s\tremaining: 39.8s\n",
      "568:\tlearn: 0.0506383\ttotal: 52.4s\tremaining: 39.7s\n",
      "569:\tlearn: 0.0505117\ttotal: 52.5s\tremaining: 39.6s\n",
      "570:\tlearn: 0.0504962\ttotal: 52.6s\tremaining: 39.5s\n",
      "571:\tlearn: 0.0503616\ttotal: 52.7s\tremaining: 39.4s\n",
      "572:\tlearn: 0.0502303\ttotal: 52.7s\tremaining: 39.3s\n",
      "573:\tlearn: 0.0500794\ttotal: 52.8s\tremaining: 39.2s\n",
      "574:\tlearn: 0.0499949\ttotal: 52.9s\tremaining: 39.1s\n",
      "575:\tlearn: 0.0498919\ttotal: 53s\tremaining: 39s\n",
      "576:\tlearn: 0.0498820\ttotal: 53.1s\tremaining: 38.9s\n",
      "577:\tlearn: 0.0498723\ttotal: 53.2s\tremaining: 38.8s\n",
      "578:\tlearn: 0.0497269\ttotal: 53.3s\tremaining: 38.8s\n",
      "579:\tlearn: 0.0496137\ttotal: 53.4s\tremaining: 38.7s\n",
      "580:\tlearn: 0.0495983\ttotal: 53.5s\tremaining: 38.6s\n",
      "581:\tlearn: 0.0494792\ttotal: 53.6s\tremaining: 38.5s\n",
      "582:\tlearn: 0.0494296\ttotal: 53.7s\tremaining: 38.4s\n",
      "583:\tlearn: 0.0492996\ttotal: 53.7s\tremaining: 38.3s\n",
      "584:\tlearn: 0.0492900\ttotal: 53.8s\tremaining: 38.2s\n",
      "585:\tlearn: 0.0491708\ttotal: 53.9s\tremaining: 38.1s\n",
      "586:\tlearn: 0.0491614\ttotal: 54s\tremaining: 38s\n",
      "587:\tlearn: 0.0491521\ttotal: 54.1s\tremaining: 37.9s\n",
      "588:\tlearn: 0.0490452\ttotal: 54.2s\tremaining: 37.8s\n",
      "589:\tlearn: 0.0489895\ttotal: 54.3s\tremaining: 37.7s\n",
      "590:\tlearn: 0.0488833\ttotal: 54.4s\tremaining: 37.6s\n",
      "591:\tlearn: 0.0488625\ttotal: 54.5s\tremaining: 37.5s\n",
      "592:\tlearn: 0.0487912\ttotal: 54.6s\tremaining: 37.4s\n",
      "593:\tlearn: 0.0487819\ttotal: 54.6s\tremaining: 37.3s\n",
      "594:\tlearn: 0.0486909\ttotal: 54.7s\tremaining: 37.3s\n",
      "595:\tlearn: 0.0486644\ttotal: 54.8s\tremaining: 37.2s\n",
      "596:\tlearn: 0.0486553\ttotal: 54.9s\tremaining: 37.1s\n",
      "597:\tlearn: 0.0486399\ttotal: 55s\tremaining: 37s\n",
      "598:\tlearn: 0.0485275\ttotal: 55.1s\tremaining: 36.9s\n",
      "599:\tlearn: 0.0485185\ttotal: 55.2s\tremaining: 36.8s\n",
      "600:\tlearn: 0.0484111\ttotal: 55.3s\tremaining: 36.7s\n",
      "601:\tlearn: 0.0483717\ttotal: 55.4s\tremaining: 36.6s\n",
      "602:\tlearn: 0.0482637\ttotal: 55.4s\tremaining: 36.5s\n",
      "603:\tlearn: 0.0482493\ttotal: 55.5s\tremaining: 36.4s\n",
      "604:\tlearn: 0.0481501\ttotal: 55.6s\tremaining: 36.3s\n",
      "605:\tlearn: 0.0479803\ttotal: 55.7s\tremaining: 36.2s\n",
      "606:\tlearn: 0.0479713\ttotal: 55.8s\tremaining: 36.1s\n",
      "607:\tlearn: 0.0478228\ttotal: 55.9s\tremaining: 36s\n",
      "608:\tlearn: 0.0477012\ttotal: 56s\tremaining: 35.9s\n",
      "609:\tlearn: 0.0476923\ttotal: 56.1s\tremaining: 35.9s\n",
      "610:\tlearn: 0.0475907\ttotal: 56.2s\tremaining: 35.8s\n",
      "611:\tlearn: 0.0474387\ttotal: 56.3s\tremaining: 35.7s\n",
      "612:\tlearn: 0.0473455\ttotal: 56.4s\tremaining: 35.6s\n",
      "613:\tlearn: 0.0472210\ttotal: 56.5s\tremaining: 35.5s\n",
      "614:\tlearn: 0.0471980\ttotal: 56.5s\tremaining: 35.4s\n",
      "615:\tlearn: 0.0471891\ttotal: 56.6s\tremaining: 35.3s\n",
      "616:\tlearn: 0.0470447\ttotal: 56.7s\tremaining: 35.2s\n",
      "617:\tlearn: 0.0469562\ttotal: 56.8s\tremaining: 35.1s\n",
      "618:\tlearn: 0.0468637\ttotal: 56.9s\tremaining: 35s\n",
      "619:\tlearn: 0.0468550\ttotal: 57s\tremaining: 34.9s\n",
      "620:\tlearn: 0.0468464\ttotal: 57.1s\tremaining: 34.8s\n",
      "621:\tlearn: 0.0466866\ttotal: 57.2s\tremaining: 34.7s\n",
      "622:\tlearn: 0.0465022\ttotal: 57.3s\tremaining: 34.6s\n",
      "623:\tlearn: 0.0464936\ttotal: 57.3s\tremaining: 34.6s\n",
      "624:\tlearn: 0.0463879\ttotal: 57.4s\tremaining: 34.5s\n",
      "625:\tlearn: 0.0463795\ttotal: 57.5s\tremaining: 34.4s\n",
      "626:\tlearn: 0.0462862\ttotal: 57.6s\tremaining: 34.3s\n",
      "627:\tlearn: 0.0461463\ttotal: 57.7s\tremaining: 34.2s\n",
      "628:\tlearn: 0.0461310\ttotal: 57.8s\tremaining: 34.1s\n",
      "629:\tlearn: 0.0460598\ttotal: 57.9s\tremaining: 34s\n",
      "630:\tlearn: 0.0459000\ttotal: 58s\tremaining: 33.9s\n",
      "631:\tlearn: 0.0458915\ttotal: 58.1s\tremaining: 33.8s\n",
      "632:\tlearn: 0.0458832\ttotal: 58.2s\tremaining: 33.7s\n",
      "633:\tlearn: 0.0458647\ttotal: 58.2s\tremaining: 33.6s\n",
      "634:\tlearn: 0.0456931\ttotal: 58.3s\tremaining: 33.5s\n",
      "635:\tlearn: 0.0456748\ttotal: 58.4s\tremaining: 33.4s\n",
      "636:\tlearn: 0.0455917\ttotal: 58.5s\tremaining: 33.3s\n"
     ]
    },
    {
     "name": "stdout",
     "output_type": "stream",
     "text": [
      "637:\tlearn: 0.0455039\ttotal: 58.6s\tremaining: 33.3s\n",
      "638:\tlearn: 0.0453706\ttotal: 58.7s\tremaining: 33.2s\n",
      "639:\tlearn: 0.0453623\ttotal: 58.8s\tremaining: 33.1s\n",
      "640:\tlearn: 0.0453542\ttotal: 58.9s\tremaining: 33s\n",
      "641:\tlearn: 0.0452312\ttotal: 59s\tremaining: 32.9s\n",
      "642:\tlearn: 0.0452232\ttotal: 59.1s\tremaining: 32.8s\n",
      "643:\tlearn: 0.0451234\ttotal: 59.1s\tremaining: 32.7s\n",
      "644:\tlearn: 0.0451101\ttotal: 59.2s\tremaining: 32.6s\n",
      "645:\tlearn: 0.0451022\ttotal: 59.3s\tremaining: 32.5s\n",
      "646:\tlearn: 0.0450608\ttotal: 59.4s\tremaining: 32.4s\n",
      "647:\tlearn: 0.0450373\ttotal: 59.5s\tremaining: 32.3s\n",
      "648:\tlearn: 0.0449595\ttotal: 59.6s\tremaining: 32.2s\n",
      "649:\tlearn: 0.0448307\ttotal: 59.7s\tremaining: 32.1s\n",
      "650:\tlearn: 0.0448179\ttotal: 59.8s\tremaining: 32s\n",
      "651:\tlearn: 0.0448100\ttotal: 59.9s\tremaining: 32s\n",
      "652:\tlearn: 0.0448022\ttotal: 60s\tremaining: 31.9s\n",
      "653:\tlearn: 0.0446896\ttotal: 1m\tremaining: 31.8s\n",
      "654:\tlearn: 0.0446770\ttotal: 1m\tremaining: 31.7s\n",
      "655:\tlearn: 0.0445569\ttotal: 1m\tremaining: 31.6s\n",
      "656:\tlearn: 0.0445143\ttotal: 1m\tremaining: 31.5s\n",
      "657:\tlearn: 0.0444226\ttotal: 1m\tremaining: 31.4s\n",
      "658:\tlearn: 0.0444149\ttotal: 1m\tremaining: 31.3s\n",
      "659:\tlearn: 0.0444025\ttotal: 1m\tremaining: 31.2s\n",
      "660:\tlearn: 0.0443949\ttotal: 1m\tremaining: 31.1s\n",
      "661:\tlearn: 0.0442580\ttotal: 1m\tremaining: 31s\n",
      "662:\tlearn: 0.0442504\ttotal: 1m\tremaining: 30.9s\n",
      "663:\tlearn: 0.0441366\ttotal: 1m\tremaining: 30.9s\n",
      "664:\tlearn: 0.0441205\ttotal: 1m 1s\tremaining: 30.8s\n",
      "665:\tlearn: 0.0440557\ttotal: 1m 1s\tremaining: 30.7s\n",
      "666:\tlearn: 0.0440436\ttotal: 1m 1s\tremaining: 30.6s\n",
      "667:\tlearn: 0.0439299\ttotal: 1m 1s\tremaining: 30.5s\n",
      "668:\tlearn: 0.0438567\ttotal: 1m 1s\tremaining: 30.4s\n",
      "669:\tlearn: 0.0438369\ttotal: 1m 1s\tremaining: 30.3s\n",
      "670:\tlearn: 0.0438294\ttotal: 1m 1s\tremaining: 30.2s\n",
      "671:\tlearn: 0.0436846\ttotal: 1m 1s\tremaining: 30.1s\n",
      "672:\tlearn: 0.0436166\ttotal: 1m 1s\tremaining: 30s\n",
      "673:\tlearn: 0.0436092\ttotal: 1m 1s\tremaining: 29.9s\n",
      "674:\tlearn: 0.0434690\ttotal: 1m 1s\tremaining: 29.8s\n",
      "675:\tlearn: 0.0433868\ttotal: 1m 2s\tremaining: 29.7s\n",
      "676:\tlearn: 0.0432919\ttotal: 1m 2s\tremaining: 29.6s\n",
      "677:\tlearn: 0.0432209\ttotal: 1m 2s\tremaining: 29.6s\n",
      "678:\tlearn: 0.0432135\ttotal: 1m 2s\tremaining: 29.5s\n",
      "679:\tlearn: 0.0432012\ttotal: 1m 2s\tremaining: 29.4s\n",
      "680:\tlearn: 0.0431845\ttotal: 1m 2s\tremaining: 29.3s\n",
      "681:\tlearn: 0.0431772\ttotal: 1m 2s\tremaining: 29.2s\n",
      "682:\tlearn: 0.0430813\ttotal: 1m 2s\tremaining: 29.1s\n",
      "683:\tlearn: 0.0430555\ttotal: 1m 2s\tremaining: 29s\n",
      "684:\tlearn: 0.0429647\ttotal: 1m 2s\tremaining: 28.9s\n",
      "685:\tlearn: 0.0428485\ttotal: 1m 2s\tremaining: 28.8s\n",
      "686:\tlearn: 0.0428312\ttotal: 1m 3s\tremaining: 28.7s\n",
      "687:\tlearn: 0.0427791\ttotal: 1m 3s\tremaining: 28.6s\n",
      "688:\tlearn: 0.0427719\ttotal: 1m 3s\tremaining: 28.5s\n",
      "689:\tlearn: 0.0426789\ttotal: 1m 3s\tremaining: 28.4s\n",
      "690:\tlearn: 0.0426717\ttotal: 1m 3s\tremaining: 28.3s\n",
      "691:\tlearn: 0.0426646\ttotal: 1m 3s\tremaining: 28.3s\n",
      "692:\tlearn: 0.0425439\ttotal: 1m 3s\tremaining: 28.2s\n",
      "693:\tlearn: 0.0424336\ttotal: 1m 3s\tremaining: 28.1s\n",
      "694:\tlearn: 0.0424265\ttotal: 1m 3s\tremaining: 28s\n",
      "695:\tlearn: 0.0424149\ttotal: 1m 3s\tremaining: 27.9s\n",
      "696:\tlearn: 0.0423787\ttotal: 1m 3s\tremaining: 27.8s\n",
      "697:\tlearn: 0.0423644\ttotal: 1m 4s\tremaining: 27.7s\n",
      "698:\tlearn: 0.0423575\ttotal: 1m 4s\tremaining: 27.6s\n",
      "699:\tlearn: 0.0422651\ttotal: 1m 4s\tremaining: 27.5s\n",
      "700:\tlearn: 0.0421937\ttotal: 1m 4s\tremaining: 27.4s\n",
      "701:\tlearn: 0.0420018\ttotal: 1m 4s\tremaining: 27.3s\n",
      "702:\tlearn: 0.0419281\ttotal: 1m 4s\tremaining: 27.2s\n",
      "703:\tlearn: 0.0417537\ttotal: 1m 4s\tremaining: 27.1s\n",
      "704:\tlearn: 0.0416918\ttotal: 1m 4s\tremaining: 27.1s\n",
      "705:\tlearn: 0.0415638\ttotal: 1m 4s\tremaining: 27s\n",
      "706:\tlearn: 0.0414912\ttotal: 1m 4s\tremaining: 26.9s\n",
      "707:\tlearn: 0.0414843\ttotal: 1m 4s\tremaining: 26.8s\n",
      "708:\tlearn: 0.0413692\ttotal: 1m 5s\tremaining: 26.7s\n",
      "709:\tlearn: 0.0413624\ttotal: 1m 5s\tremaining: 26.6s\n",
      "710:\tlearn: 0.0413186\ttotal: 1m 5s\tremaining: 26.5s\n",
      "711:\tlearn: 0.0411984\ttotal: 1m 5s\tremaining: 26.4s\n",
      "712:\tlearn: 0.0410943\ttotal: 1m 5s\tremaining: 26.3s\n",
      "713:\tlearn: 0.0409548\ttotal: 1m 5s\tremaining: 26.2s\n",
      "714:\tlearn: 0.0409117\ttotal: 1m 5s\tremaining: 26.1s\n",
      "715:\tlearn: 0.0408602\ttotal: 1m 5s\tremaining: 26s\n",
      "716:\tlearn: 0.0408459\ttotal: 1m 5s\tremaining: 25.9s\n",
      "717:\tlearn: 0.0408392\ttotal: 1m 5s\tremaining: 25.9s\n",
      "718:\tlearn: 0.0408273\ttotal: 1m 5s\tremaining: 25.8s\n",
      "719:\tlearn: 0.0408163\ttotal: 1m 6s\tremaining: 25.7s\n",
      "720:\tlearn: 0.0408097\ttotal: 1m 6s\tremaining: 25.6s\n",
      "721:\tlearn: 0.0407084\ttotal: 1m 6s\tremaining: 25.5s\n",
      "722:\tlearn: 0.0406344\ttotal: 1m 6s\tremaining: 25.4s\n",
      "723:\tlearn: 0.0406278\ttotal: 1m 6s\tremaining: 25.3s\n",
      "724:\tlearn: 0.0406213\ttotal: 1m 6s\tremaining: 25.2s\n",
      "725:\tlearn: 0.0406106\ttotal: 1m 6s\tremaining: 25.1s\n",
      "726:\tlearn: 0.0405494\ttotal: 1m 6s\tremaining: 25s\n",
      "727:\tlearn: 0.0405429\ttotal: 1m 6s\tremaining: 24.9s\n",
      "728:\tlearn: 0.0405321\ttotal: 1m 6s\tremaining: 24.8s\n",
      "729:\tlearn: 0.0404215\ttotal: 1m 6s\tremaining: 24.7s\n",
      "730:\tlearn: 0.0404151\ttotal: 1m 6s\tremaining: 24.7s\n",
      "731:\tlearn: 0.0404087\ttotal: 1m 7s\tremaining: 24.6s\n",
      "732:\tlearn: 0.0403186\ttotal: 1m 7s\tremaining: 24.5s\n",
      "733:\tlearn: 0.0402897\ttotal: 1m 7s\tremaining: 24.4s\n",
      "734:\tlearn: 0.0401904\ttotal: 1m 7s\tremaining: 24.3s\n",
      "735:\tlearn: 0.0401772\ttotal: 1m 7s\tremaining: 24.2s\n",
      "736:\tlearn: 0.0401709\ttotal: 1m 7s\tremaining: 24.1s\n",
      "737:\tlearn: 0.0400973\ttotal: 1m 7s\tremaining: 24s\n",
      "738:\tlearn: 0.0399896\ttotal: 1m 7s\tremaining: 23.9s\n",
      "739:\tlearn: 0.0399264\ttotal: 1m 7s\tremaining: 23.8s\n",
      "740:\tlearn: 0.0398983\ttotal: 1m 7s\tremaining: 23.7s\n",
      "741:\tlearn: 0.0398230\ttotal: 1m 7s\tremaining: 23.6s\n",
      "742:\tlearn: 0.0397608\ttotal: 1m 8s\tremaining: 23.5s\n",
      "743:\tlearn: 0.0396824\ttotal: 1m 8s\tremaining: 23.5s\n",
      "744:\tlearn: 0.0396398\ttotal: 1m 8s\tremaining: 23.4s\n",
      "745:\tlearn: 0.0396335\ttotal: 1m 8s\tremaining: 23.3s\n",
      "746:\tlearn: 0.0396232\ttotal: 1m 8s\tremaining: 23.2s\n",
      "747:\tlearn: 0.0395184\ttotal: 1m 8s\tremaining: 23.1s\n",
      "748:\tlearn: 0.0394260\ttotal: 1m 8s\tremaining: 23s\n",
      "749:\tlearn: 0.0393468\ttotal: 1m 8s\tremaining: 22.9s\n",
      "750:\tlearn: 0.0392495\ttotal: 1m 8s\tremaining: 22.8s\n",
      "751:\tlearn: 0.0391778\ttotal: 1m 8s\tremaining: 22.7s\n",
      "752:\tlearn: 0.0391619\ttotal: 1m 8s\tremaining: 22.6s\n",
      "753:\tlearn: 0.0391556\ttotal: 1m 9s\tremaining: 22.5s\n",
      "754:\tlearn: 0.0391494\ttotal: 1m 9s\tremaining: 22.4s\n",
      "755:\tlearn: 0.0391384\ttotal: 1m 9s\tremaining: 22.3s\n",
      "756:\tlearn: 0.0390545\ttotal: 1m 9s\tremaining: 22.3s\n",
      "757:\tlearn: 0.0390198\ttotal: 1m 9s\tremaining: 22.2s\n",
      "758:\tlearn: 0.0390137\ttotal: 1m 9s\tremaining: 22.1s\n",
      "759:\tlearn: 0.0388621\ttotal: 1m 9s\tremaining: 22s\n",
      "760:\tlearn: 0.0388512\ttotal: 1m 9s\tremaining: 21.9s\n",
      "761:\tlearn: 0.0387441\ttotal: 1m 9s\tremaining: 21.8s\n",
      "762:\tlearn: 0.0387108\ttotal: 1m 9s\tremaining: 21.7s\n",
      "763:\tlearn: 0.0386611\ttotal: 1m 9s\tremaining: 21.6s\n",
      "764:\tlearn: 0.0386551\ttotal: 1m 10s\tremaining: 21.5s\n",
      "765:\tlearn: 0.0386452\ttotal: 1m 10s\tremaining: 21.4s\n",
      "766:\tlearn: 0.0385856\ttotal: 1m 10s\tremaining: 21.3s\n",
      "767:\tlearn: 0.0385699\ttotal: 1m 10s\tremaining: 21.3s\n",
      "768:\tlearn: 0.0385601\ttotal: 1m 10s\tremaining: 21.2s\n",
      "769:\tlearn: 0.0385478\ttotal: 1m 10s\tremaining: 21.1s\n",
      "770:\tlearn: 0.0385419\ttotal: 1m 10s\tremaining: 21s\n",
      "771:\tlearn: 0.0385202\ttotal: 1m 10s\tremaining: 20.9s\n",
      "772:\tlearn: 0.0384392\ttotal: 1m 10s\tremaining: 20.8s\n",
      "773:\tlearn: 0.0384333\ttotal: 1m 10s\tremaining: 20.7s\n",
      "774:\tlearn: 0.0383443\ttotal: 1m 10s\tremaining: 20.6s\n",
      "775:\tlearn: 0.0382591\ttotal: 1m 11s\tremaining: 20.5s\n",
      "776:\tlearn: 0.0382533\ttotal: 1m 11s\tremaining: 20.4s\n",
      "777:\tlearn: 0.0381973\ttotal: 1m 11s\tremaining: 20.3s\n",
      "778:\tlearn: 0.0380535\ttotal: 1m 11s\tremaining: 20.2s\n",
      "779:\tlearn: 0.0380426\ttotal: 1m 11s\tremaining: 20.1s\n",
      "780:\tlearn: 0.0379034\ttotal: 1m 11s\tremaining: 20.1s\n",
      "781:\tlearn: 0.0378933\ttotal: 1m 11s\tremaining: 20s\n",
      "782:\tlearn: 0.0378838\ttotal: 1m 11s\tremaining: 19.9s\n",
      "783:\tlearn: 0.0377568\ttotal: 1m 11s\tremaining: 19.8s\n",
      "784:\tlearn: 0.0377510\ttotal: 1m 11s\tremaining: 19.7s\n",
      "785:\tlearn: 0.0376606\ttotal: 1m 11s\tremaining: 19.6s\n",
      "786:\tlearn: 0.0376549\ttotal: 1m 12s\tremaining: 19.5s\n",
      "787:\tlearn: 0.0375963\ttotal: 1m 12s\tremaining: 19.4s\n",
      "788:\tlearn: 0.0375155\ttotal: 1m 12s\tremaining: 19.3s\n",
      "789:\tlearn: 0.0374322\ttotal: 1m 12s\tremaining: 19.2s\n",
      "790:\tlearn: 0.0373962\ttotal: 1m 12s\tremaining: 19.1s\n",
      "791:\tlearn: 0.0373905\ttotal: 1m 12s\tremaining: 19s\n",
      "792:\tlearn: 0.0373150\ttotal: 1m 12s\tremaining: 19s\n",
      "793:\tlearn: 0.0372363\ttotal: 1m 12s\tremaining: 18.9s\n",
      "794:\tlearn: 0.0372307\ttotal: 1m 12s\tremaining: 18.8s\n",
      "795:\tlearn: 0.0371653\ttotal: 1m 12s\tremaining: 18.7s\n",
      "796:\tlearn: 0.0371270\ttotal: 1m 12s\tremaining: 18.6s\n",
      "797:\tlearn: 0.0371097\ttotal: 1m 13s\tremaining: 18.5s\n"
     ]
    },
    {
     "name": "stdout",
     "output_type": "stream",
     "text": [
      "798:\tlearn: 0.0370064\ttotal: 1m 13s\tremaining: 18.4s\n",
      "799:\tlearn: 0.0369772\ttotal: 1m 13s\tremaining: 18.3s\n",
      "800:\tlearn: 0.0369266\ttotal: 1m 13s\tremaining: 18.2s\n",
      "801:\tlearn: 0.0369173\ttotal: 1m 13s\tremaining: 18.1s\n",
      "802:\tlearn: 0.0368117\ttotal: 1m 13s\tremaining: 18s\n",
      "803:\tlearn: 0.0367572\ttotal: 1m 13s\tremaining: 17.9s\n",
      "804:\tlearn: 0.0366917\ttotal: 1m 13s\tremaining: 17.9s\n",
      "805:\tlearn: 0.0366863\ttotal: 1m 13s\tremaining: 17.8s\n",
      "806:\tlearn: 0.0365730\ttotal: 1m 13s\tremaining: 17.7s\n",
      "807:\tlearn: 0.0364936\ttotal: 1m 13s\tremaining: 17.6s\n",
      "808:\tlearn: 0.0364802\ttotal: 1m 14s\tremaining: 17.5s\n",
      "809:\tlearn: 0.0364695\ttotal: 1m 14s\tremaining: 17.4s\n",
      "810:\tlearn: 0.0364641\ttotal: 1m 14s\tremaining: 17.3s\n",
      "811:\tlearn: 0.0363894\ttotal: 1m 14s\tremaining: 17.2s\n",
      "812:\tlearn: 0.0363302\ttotal: 1m 14s\tremaining: 17.1s\n",
      "813:\tlearn: 0.0362390\ttotal: 1m 14s\tremaining: 17s\n",
      "814:\tlearn: 0.0362337\ttotal: 1m 14s\tremaining: 16.9s\n",
      "815:\tlearn: 0.0362248\ttotal: 1m 14s\tremaining: 16.8s\n",
      "816:\tlearn: 0.0361301\ttotal: 1m 14s\tremaining: 16.8s\n",
      "817:\tlearn: 0.0360601\ttotal: 1m 14s\tremaining: 16.7s\n",
      "818:\tlearn: 0.0360548\ttotal: 1m 14s\tremaining: 16.6s\n",
      "819:\tlearn: 0.0360185\ttotal: 1m 15s\tremaining: 16.5s\n",
      "820:\tlearn: 0.0359557\ttotal: 1m 15s\tremaining: 16.4s\n",
      "821:\tlearn: 0.0358937\ttotal: 1m 15s\tremaining: 16.3s\n",
      "822:\tlearn: 0.0357749\ttotal: 1m 15s\tremaining: 16.2s\n",
      "823:\tlearn: 0.0357697\ttotal: 1m 15s\tremaining: 16.1s\n",
      "824:\tlearn: 0.0357563\ttotal: 1m 15s\tremaining: 16s\n",
      "825:\tlearn: 0.0356618\ttotal: 1m 15s\tremaining: 15.9s\n",
      "826:\tlearn: 0.0355696\ttotal: 1m 15s\tremaining: 15.8s\n",
      "827:\tlearn: 0.0355603\ttotal: 1m 15s\tremaining: 15.7s\n",
      "828:\tlearn: 0.0355102\ttotal: 1m 15s\tremaining: 15.6s\n",
      "829:\tlearn: 0.0355050\ttotal: 1m 15s\tremaining: 15.6s\n",
      "830:\tlearn: 0.0354965\ttotal: 1m 16s\tremaining: 15.5s\n",
      "831:\tlearn: 0.0354915\ttotal: 1m 16s\tremaining: 15.4s\n",
      "832:\tlearn: 0.0353825\ttotal: 1m 16s\tremaining: 15.3s\n",
      "833:\tlearn: 0.0353740\ttotal: 1m 16s\tremaining: 15.2s\n",
      "834:\tlearn: 0.0353689\ttotal: 1m 16s\tremaining: 15.1s\n",
      "835:\tlearn: 0.0352847\ttotal: 1m 16s\tremaining: 15s\n",
      "836:\tlearn: 0.0352104\ttotal: 1m 16s\tremaining: 14.9s\n",
      "837:\tlearn: 0.0352054\ttotal: 1m 16s\tremaining: 14.8s\n",
      "838:\tlearn: 0.0351152\ttotal: 1m 16s\tremaining: 14.7s\n",
      "839:\tlearn: 0.0350997\ttotal: 1m 16s\tremaining: 14.6s\n",
      "840:\tlearn: 0.0350055\ttotal: 1m 16s\tremaining: 14.6s\n",
      "841:\tlearn: 0.0349936\ttotal: 1m 17s\tremaining: 14.5s\n",
      "842:\tlearn: 0.0349474\ttotal: 1m 17s\tremaining: 14.4s\n",
      "843:\tlearn: 0.0348691\ttotal: 1m 17s\tremaining: 14.3s\n",
      "844:\tlearn: 0.0348558\ttotal: 1m 17s\tremaining: 14.2s\n",
      "845:\tlearn: 0.0348048\ttotal: 1m 17s\tremaining: 14.1s\n",
      "846:\tlearn: 0.0347998\ttotal: 1m 17s\tremaining: 14s\n",
      "847:\tlearn: 0.0347949\ttotal: 1m 17s\tremaining: 13.9s\n",
      "848:\tlearn: 0.0347901\ttotal: 1m 17s\tremaining: 13.8s\n",
      "849:\tlearn: 0.0347819\ttotal: 1m 17s\tremaining: 13.7s\n",
      "850:\tlearn: 0.0347188\ttotal: 1m 17s\tremaining: 13.6s\n",
      "851:\tlearn: 0.0347090\ttotal: 1m 17s\tremaining: 13.5s\n",
      "852:\tlearn: 0.0346487\ttotal: 1m 18s\tremaining: 13.5s\n",
      "853:\tlearn: 0.0346026\ttotal: 1m 18s\tremaining: 13.4s\n",
      "854:\tlearn: 0.0345977\ttotal: 1m 18s\tremaining: 13.3s\n",
      "855:\tlearn: 0.0345325\ttotal: 1m 18s\tremaining: 13.2s\n",
      "856:\tlearn: 0.0344188\ttotal: 1m 18s\tremaining: 13.1s\n",
      "857:\tlearn: 0.0343615\ttotal: 1m 18s\tremaining: 13s\n",
      "858:\tlearn: 0.0343567\ttotal: 1m 18s\tremaining: 12.9s\n",
      "859:\tlearn: 0.0342685\ttotal: 1m 18s\tremaining: 12.8s\n",
      "860:\tlearn: 0.0342638\ttotal: 1m 18s\tremaining: 12.7s\n",
      "861:\tlearn: 0.0342014\ttotal: 1m 18s\tremaining: 12.6s\n",
      "862:\tlearn: 0.0341938\ttotal: 1m 18s\tremaining: 12.5s\n",
      "863:\tlearn: 0.0340942\ttotal: 1m 19s\tremaining: 12.4s\n",
      "864:\tlearn: 0.0340895\ttotal: 1m 19s\tremaining: 12.3s\n",
      "865:\tlearn: 0.0340329\ttotal: 1m 19s\tremaining: 12.3s\n",
      "866:\tlearn: 0.0340283\ttotal: 1m 19s\tremaining: 12.2s\n",
      "867:\tlearn: 0.0339395\ttotal: 1m 19s\tremaining: 12.1s\n",
      "868:\tlearn: 0.0339288\ttotal: 1m 19s\tremaining: 12s\n",
      "869:\tlearn: 0.0339242\ttotal: 1m 19s\tremaining: 11.9s\n",
      "870:\tlearn: 0.0338416\ttotal: 1m 19s\tremaining: 11.8s\n",
      "871:\tlearn: 0.0338370\ttotal: 1m 19s\tremaining: 11.7s\n",
      "872:\tlearn: 0.0337963\ttotal: 1m 19s\tremaining: 11.6s\n",
      "873:\tlearn: 0.0337200\ttotal: 1m 19s\tremaining: 11.5s\n",
      "874:\tlearn: 0.0336983\ttotal: 1m 20s\tremaining: 11.4s\n",
      "875:\tlearn: 0.0336893\ttotal: 1m 20s\tremaining: 11.3s\n",
      "876:\tlearn: 0.0336804\ttotal: 1m 20s\tremaining: 11.3s\n",
      "877:\tlearn: 0.0336146\ttotal: 1m 20s\tremaining: 11.2s\n",
      "878:\tlearn: 0.0335878\ttotal: 1m 20s\tremaining: 11.1s\n",
      "879:\tlearn: 0.0335002\ttotal: 1m 20s\tremaining: 11s\n",
      "880:\tlearn: 0.0334000\ttotal: 1m 20s\tremaining: 10.9s\n",
      "881:\tlearn: 0.0333912\ttotal: 1m 20s\tremaining: 10.8s\n",
      "882:\tlearn: 0.0333867\ttotal: 1m 20s\tremaining: 10.7s\n",
      "883:\tlearn: 0.0333321\ttotal: 1m 20s\tremaining: 10.6s\n",
      "884:\tlearn: 0.0332617\ttotal: 1m 20s\tremaining: 10.5s\n",
      "885:\tlearn: 0.0332572\ttotal: 1m 21s\tremaining: 10.4s\n",
      "886:\tlearn: 0.0331942\ttotal: 1m 21s\tremaining: 10.3s\n",
      "887:\tlearn: 0.0331821\ttotal: 1m 21s\tremaining: 10.2s\n",
      "888:\tlearn: 0.0331741\ttotal: 1m 21s\tremaining: 10.2s\n",
      "889:\tlearn: 0.0331296\ttotal: 1m 21s\tremaining: 10.1s\n",
      "890:\tlearn: 0.0330743\ttotal: 1m 21s\tremaining: 9.97s\n",
      "891:\tlearn: 0.0330139\ttotal: 1m 21s\tremaining: 9.88s\n",
      "892:\tlearn: 0.0329364\ttotal: 1m 21s\tremaining: 9.79s\n",
      "893:\tlearn: 0.0329319\ttotal: 1m 21s\tremaining: 9.7s\n",
      "894:\tlearn: 0.0329275\ttotal: 1m 21s\tremaining: 9.6s\n",
      "895:\tlearn: 0.0329148\ttotal: 1m 21s\tremaining: 9.51s\n",
      "896:\tlearn: 0.0329074\ttotal: 1m 22s\tremaining: 9.42s\n",
      "897:\tlearn: 0.0329001\ttotal: 1m 22s\tremaining: 9.33s\n",
      "898:\tlearn: 0.0328356\ttotal: 1m 22s\tremaining: 9.24s\n",
      "899:\tlearn: 0.0328312\ttotal: 1m 22s\tremaining: 9.15s\n",
      "900:\tlearn: 0.0328269\ttotal: 1m 22s\tremaining: 9.05s\n",
      "901:\tlearn: 0.0327433\ttotal: 1m 22s\tremaining: 8.96s\n",
      "902:\tlearn: 0.0326903\ttotal: 1m 22s\tremaining: 8.87s\n",
      "903:\tlearn: 0.0326443\ttotal: 1m 22s\tremaining: 8.78s\n",
      "904:\tlearn: 0.0325694\ttotal: 1m 22s\tremaining: 8.69s\n",
      "905:\tlearn: 0.0324946\ttotal: 1m 22s\tremaining: 8.6s\n",
      "906:\tlearn: 0.0323715\ttotal: 1m 22s\tremaining: 8.51s\n",
      "907:\tlearn: 0.0323672\ttotal: 1m 23s\tremaining: 8.41s\n",
      "908:\tlearn: 0.0322905\ttotal: 1m 23s\tremaining: 8.32s\n",
      "909:\tlearn: 0.0322025\ttotal: 1m 23s\tremaining: 8.23s\n",
      "910:\tlearn: 0.0321387\ttotal: 1m 23s\tremaining: 8.14s\n",
      "911:\tlearn: 0.0320786\ttotal: 1m 23s\tremaining: 8.05s\n",
      "912:\tlearn: 0.0320744\ttotal: 1m 23s\tremaining: 7.96s\n",
      "913:\tlearn: 0.0319863\ttotal: 1m 23s\tremaining: 7.87s\n",
      "914:\tlearn: 0.0319745\ttotal: 1m 23s\tremaining: 7.78s\n",
      "915:\tlearn: 0.0319703\ttotal: 1m 23s\tremaining: 7.68s\n",
      "916:\tlearn: 0.0319661\ttotal: 1m 23s\tremaining: 7.59s\n",
      "917:\tlearn: 0.0319567\ttotal: 1m 23s\tremaining: 7.5s\n",
      "918:\tlearn: 0.0318877\ttotal: 1m 24s\tremaining: 7.41s\n",
      "919:\tlearn: 0.0318723\ttotal: 1m 24s\tremaining: 7.32s\n",
      "920:\tlearn: 0.0318681\ttotal: 1m 24s\tremaining: 7.22s\n",
      "921:\tlearn: 0.0318610\ttotal: 1m 24s\tremaining: 7.13s\n",
      "922:\tlearn: 0.0317798\ttotal: 1m 24s\tremaining: 7.04s\n",
      "923:\tlearn: 0.0317757\ttotal: 1m 24s\tremaining: 6.95s\n",
      "924:\tlearn: 0.0317688\ttotal: 1m 24s\tremaining: 6.86s\n",
      "925:\tlearn: 0.0317002\ttotal: 1m 24s\tremaining: 6.77s\n",
      "926:\tlearn: 0.0316808\ttotal: 1m 24s\tremaining: 6.67s\n",
      "927:\tlearn: 0.0316017\ttotal: 1m 24s\tremaining: 6.58s\n",
      "928:\tlearn: 0.0315975\ttotal: 1m 24s\tremaining: 6.49s\n",
      "929:\tlearn: 0.0315906\ttotal: 1m 25s\tremaining: 6.4s\n",
      "930:\tlearn: 0.0315578\ttotal: 1m 25s\tremaining: 6.31s\n",
      "931:\tlearn: 0.0315537\ttotal: 1m 25s\tremaining: 6.22s\n",
      "932:\tlearn: 0.0315445\ttotal: 1m 25s\tremaining: 6.13s\n",
      "933:\tlearn: 0.0314723\ttotal: 1m 25s\tremaining: 6.04s\n",
      "934:\tlearn: 0.0313907\ttotal: 1m 25s\tremaining: 5.95s\n",
      "935:\tlearn: 0.0313520\ttotal: 1m 25s\tremaining: 5.85s\n",
      "936:\tlearn: 0.0313380\ttotal: 1m 25s\tremaining: 5.76s\n",
      "937:\tlearn: 0.0313310\ttotal: 1m 25s\tremaining: 5.67s\n",
      "938:\tlearn: 0.0313270\ttotal: 1m 25s\tremaining: 5.58s\n",
      "939:\tlearn: 0.0312537\ttotal: 1m 25s\tremaining: 5.49s\n",
      "940:\tlearn: 0.0312359\ttotal: 1m 26s\tremaining: 5.4s\n",
      "941:\tlearn: 0.0311862\ttotal: 1m 26s\tremaining: 5.3s\n",
      "942:\tlearn: 0.0311821\ttotal: 1m 26s\tremaining: 5.21s\n",
      "943:\tlearn: 0.0311782\ttotal: 1m 26s\tremaining: 5.12s\n",
      "944:\tlearn: 0.0311692\ttotal: 1m 26s\tremaining: 5.03s\n",
      "945:\tlearn: 0.0311652\ttotal: 1m 26s\tremaining: 4.94s\n",
      "946:\tlearn: 0.0311585\ttotal: 1m 26s\tremaining: 4.85s\n",
      "947:\tlearn: 0.0310948\ttotal: 1m 26s\tremaining: 4.76s\n",
      "948:\tlearn: 0.0310135\ttotal: 1m 26s\tremaining: 4.66s\n",
      "949:\tlearn: 0.0310067\ttotal: 1m 26s\tremaining: 4.57s\n",
      "950:\tlearn: 0.0309507\ttotal: 1m 26s\tremaining: 4.48s\n",
      "951:\tlearn: 0.0309468\ttotal: 1m 27s\tremaining: 4.39s\n",
      "952:\tlearn: 0.0308700\ttotal: 1m 27s\tremaining: 4.3s\n",
      "953:\tlearn: 0.0308250\ttotal: 1m 27s\tremaining: 4.21s\n",
      "954:\tlearn: 0.0307454\ttotal: 1m 27s\tremaining: 4.12s\n"
     ]
    },
    {
     "name": "stdout",
     "output_type": "stream",
     "text": [
      "955:\tlearn: 0.0307388\ttotal: 1m 27s\tremaining: 4.02s\n",
      "956:\tlearn: 0.0307329\ttotal: 1m 27s\tremaining: 3.93s\n",
      "957:\tlearn: 0.0307046\ttotal: 1m 27s\tremaining: 3.84s\n",
      "958:\tlearn: 0.0306432\ttotal: 1m 27s\tremaining: 3.75s\n",
      "959:\tlearn: 0.0306394\ttotal: 1m 27s\tremaining: 3.66s\n",
      "960:\tlearn: 0.0305718\ttotal: 1m 27s\tremaining: 3.57s\n",
      "961:\tlearn: 0.0304864\ttotal: 1m 27s\tremaining: 3.48s\n",
      "962:\tlearn: 0.0304825\ttotal: 1m 28s\tremaining: 3.38s\n",
      "963:\tlearn: 0.0304787\ttotal: 1m 28s\tremaining: 3.29s\n",
      "964:\tlearn: 0.0304282\ttotal: 1m 28s\tremaining: 3.2s\n",
      "965:\tlearn: 0.0304244\ttotal: 1m 28s\tremaining: 3.11s\n",
      "966:\tlearn: 0.0303406\ttotal: 1m 28s\tremaining: 3.02s\n",
      "967:\tlearn: 0.0303268\ttotal: 1m 28s\tremaining: 2.92s\n",
      "968:\tlearn: 0.0302514\ttotal: 1m 28s\tremaining: 2.83s\n",
      "969:\tlearn: 0.0301850\ttotal: 1m 28s\tremaining: 2.74s\n",
      "970:\tlearn: 0.0301187\ttotal: 1m 28s\tremaining: 2.65s\n",
      "971:\tlearn: 0.0300624\ttotal: 1m 28s\tremaining: 2.56s\n",
      "972:\tlearn: 0.0300449\ttotal: 1m 28s\tremaining: 2.47s\n",
      "973:\tlearn: 0.0299754\ttotal: 1m 29s\tremaining: 2.38s\n",
      "974:\tlearn: 0.0299255\ttotal: 1m 29s\tremaining: 2.29s\n",
      "975:\tlearn: 0.0299217\ttotal: 1m 29s\tremaining: 2.19s\n",
      "976:\tlearn: 0.0299152\ttotal: 1m 29s\tremaining: 2.1s\n",
      "977:\tlearn: 0.0298469\ttotal: 1m 29s\tremaining: 2.01s\n",
      "978:\tlearn: 0.0298177\ttotal: 1m 29s\tremaining: 1.92s\n",
      "979:\tlearn: 0.0297608\ttotal: 1m 29s\tremaining: 1.83s\n",
      "980:\tlearn: 0.0297373\ttotal: 1m 29s\tremaining: 1.74s\n",
      "981:\tlearn: 0.0296884\ttotal: 1m 29s\tremaining: 1.65s\n",
      "982:\tlearn: 0.0296185\ttotal: 1m 29s\tremaining: 1.55s\n",
      "983:\tlearn: 0.0296147\ttotal: 1m 29s\tremaining: 1.46s\n",
      "984:\tlearn: 0.0296072\ttotal: 1m 30s\tremaining: 1.37s\n",
      "985:\tlearn: 0.0295422\ttotal: 1m 30s\tremaining: 1.28s\n",
      "986:\tlearn: 0.0295384\ttotal: 1m 30s\tremaining: 1.19s\n",
      "987:\tlearn: 0.0294664\ttotal: 1m 30s\tremaining: 1.1s\n",
      "988:\tlearn: 0.0294305\ttotal: 1m 30s\tremaining: 1s\n",
      "989:\tlearn: 0.0294269\ttotal: 1m 30s\tremaining: 914ms\n",
      "990:\tlearn: 0.0294030\ttotal: 1m 30s\tremaining: 823ms\n",
      "991:\tlearn: 0.0293478\ttotal: 1m 30s\tremaining: 731ms\n",
      "992:\tlearn: 0.0293415\ttotal: 1m 30s\tremaining: 640ms\n",
      "993:\tlearn: 0.0293379\ttotal: 1m 30s\tremaining: 548ms\n",
      "994:\tlearn: 0.0292971\ttotal: 1m 30s\tremaining: 457ms\n",
      "995:\tlearn: 0.0292888\ttotal: 1m 31s\tremaining: 366ms\n",
      "996:\tlearn: 0.0292820\ttotal: 1m 31s\tremaining: 274ms\n",
      "997:\tlearn: 0.0292676\ttotal: 1m 31s\tremaining: 183ms\n",
      "998:\tlearn: 0.0292412\ttotal: 1m 31s\tremaining: 91.4ms\n",
      "999:\tlearn: 0.0292377\ttotal: 1m 31s\tremaining: 0us\n",
      "0.972568578553616\n",
      "\n",
      "\n",
      "              precision    recall  f1-score   support\n",
      "\n",
      "    Negative       0.86      0.93      0.90       253\n",
      "    Positive       0.99      0.98      0.98      1752\n",
      "\n",
      "    accuracy                           0.97      2005\n",
      "   macro avg       0.93      0.95      0.94      2005\n",
      "weighted avg       0.97      0.97      0.97      2005\n",
      "\n"
     ]
    }
   ],
   "source": [
    "model_cbc = Pipeline(steps=[('victorizer', tvec),(\"ROS\", RandomOverSampler()), ('classifier', cbc)])\n",
    "\n",
    "model_cbc.fit(X_train,y_train)\n",
    "\n",
    "y_pred_model_cbc = model_cbc.predict(X_test)\n",
    "\n",
    "print(accuracy_score(y_test,y_pred_model_cbc))\n",
    "print('\\n')\n",
    "print(classification_report(y_test,y_pred_model_cbc))"
   ]
  },
  {
   "cell_type": "code",
   "execution_count": 38,
   "metadata": {
    "scrolled": true
   },
   "outputs": [
    {
     "data": {
      "text/plain": [
       "<AxesSubplot:>"
      ]
     },
     "execution_count": 38,
     "metadata": {},
     "output_type": "execute_result"
    },
    {
     "data": {
      "image/png": "[encoded data removed]",
      "text/plain": [
       "<Figure size 720x720 with 2 Axes>"
      ]
     },
     "metadata": {
      "needs_background": "light"
     },
     "output_type": "display_data"
    }
   ],
   "source": [
    "cm_model_cbc = confusion_matrix(y_test, y_pred_model_cbc)\n",
    "sns.heatmap(cm_model_cbc, annot=True, fmt='1')"
   ]
  },
  {
   "cell_type": "markdown",
   "metadata": {
    "cell_style": "center"
   },
   "source": [
    "> #### Write a review to test the model"
   ]
  },
  {
   "cell_type": "code",
   "execution_count": 39,
   "metadata": {
    "scrolled": true
   },
   "outputs": [
    {
     "name": "stdout",
     "output_type": "stream",
     "text": [
      "Negative feedback\n"
     ]
    }
   ],
   "source": [
    "example = ['The first time I try to live there, and God willing, the last timeI came around the time of the crowd, the apartments and hotels, and I decided to take them 😭Give us a bridal room 🤣 The sofa is red, Bluetooth speakersThe bed is bad, the air-conditioner is exactly above the bed, its old type, but it killed me with a coldAnd there is an air conditioner above the TV. You imagine air conditioning in a small room ☹️The bathroom is opposite the bed, and the door is closed and does not lockThe bathroom is large and has a jacuzzi, but the drawback is that the sink is very close to the chair (the cabin) with difficulty for one to sit.It has a small fridge and kettleThe room does not have a mirror. How is a bridal room?The room is narrow in the sense of the word, and the poor bride is the one who rents itPictures I tried to adjust too much']\n",
    "result = model_cbc.predict(example)\n",
    "\n",
    "for i in result:\n",
    "    if i == 0:\n",
    "        print(\"Positive feedback\")\n",
    "  \n",
    "    else:\n",
    "        print(\"Negative feedback\")"
   ]
  },
  {
   "cell_type": "markdown",
   "metadata": {},
   "source": [
    "* ### Light Gradient Boosting Machine (LightGBM) Classifier"
   ]
  },
  {
   "cell_type": "code",
   "execution_count": 40,
   "metadata": {
    "scrolled": true
   },
   "outputs": [
    {
     "name": "stdout",
     "output_type": "stream",
     "text": [
      "0.9755610972568578\n",
      "\n",
      "\n",
      "              precision    recall  f1-score   support\n",
      "\n",
      "    Negative       0.90      0.91      0.90       253\n",
      "    Positive       0.99      0.99      0.99      1752\n",
      "\n",
      "    accuracy                           0.98      2005\n",
      "   macro avg       0.94      0.95      0.94      2005\n",
      "weighted avg       0.98      0.98      0.98      2005\n",
      "\n"
     ]
    }
   ],
   "source": [
    "model_lgbm = Pipeline(steps=[('victorizer', tvec),(\"ROS\", RandomOverSampler()), ('classifier', lgbm)])\n",
    "\n",
    "model_lgbm.fit(X_train,y_train)\n",
    "\n",
    "y_pred_model_lgbm = model_lgbm.predict(X_test)\n",
    "\n",
    "print(accuracy_score(y_test,y_pred_model_lgbm))\n",
    "print('\\n')\n",
    "print(classification_report(y_test,y_pred_model_lgbm))"
   ]
  },
  {
   "cell_type": "code",
   "execution_count": 41,
   "metadata": {
    "scrolled": true
   },
   "outputs": [
    {
     "data": {
      "text/plain": [
       "<AxesSubplot:>"
      ]
     },
     "execution_count": 41,
     "metadata": {},
     "output_type": "execute_result"
    },
    {
     "data": {
      "image/png": "[encoded data removed]",
      "text/plain": [
       "<Figure size 720x720 with 2 Axes>"
      ]
     },
     "metadata": {
      "needs_background": "light"
     },
     "output_type": "display_data"
    }
   ],
   "source": [
    "cm_model_lgbm = confusion_matrix(y_test, y_pred_model_lgbm)\n",
    "sns.heatmap(cm_model_lgbm, annot=True, fmt='1')"
   ]
  },
  {
   "cell_type": "markdown",
   "metadata": {
    "cell_style": "center"
   },
   "source": [
    "> #### Write a review to test the model"
   ]
  },
  {
   "cell_type": "code",
   "execution_count": 42,
   "metadata": {
    "scrolled": true
   },
   "outputs": [
    {
     "name": "stdout",
     "output_type": "stream",
     "text": [
      "Negative feedback\n"
     ]
    }
   ],
   "source": [
    "example = ['The first time I try to live there, and God willing, the last timeI came around the time of the crowd, the apartments and hotels, and I decided to take them 😭Give us a bridal room 🤣 The sofa is red, Bluetooth speakersThe bed is bad, the air-conditioner is exactly above the bed, its old type, but it killed me with a coldAnd there is an air conditioner above the TV. You imagine air conditioning in a small room ☹️The bathroom is opposite the bed, and the door is closed and does not lockThe bathroom is large and has a jacuzzi, but the drawback is that the sink is very close to the chair (the cabin) with difficulty for one to sit.It has a small fridge and kettleThe room does not have a mirror. How is a bridal room?The room is narrow in the sense of the word, and the poor bride is the one who rents itPictures I tried to adjust too much']\n",
    "result = model_lgbm.predict(example)\n",
    "\n",
    "for i in result:\n",
    "    if i == 0:\n",
    "        print(\"Positive feedback\")\n",
    "  \n",
    "    else:\n",
    "        print(\"Negative feedback\")"
   ]
  },
  {
   "cell_type": "markdown",
   "metadata": {},
   "source": [
    "* ### Multi-Layer Perceptron (MLP) Classifier"
   ]
  },
  {
   "cell_type": "code",
   "execution_count": 43,
   "metadata": {
    "scrolled": true
   },
   "outputs": [
    {
     "name": "stdout",
     "output_type": "stream",
     "text": [
      "0.9865336658354115\n",
      "\n",
      "\n",
      "              precision    recall  f1-score   support\n",
      "\n",
      "    Negative       0.96      0.93      0.95       253\n",
      "    Positive       0.99      0.99      0.99      1752\n",
      "\n",
      "    accuracy                           0.99      2005\n",
      "   macro avg       0.97      0.96      0.97      2005\n",
      "weighted avg       0.99      0.99      0.99      2005\n",
      "\n"
     ]
    }
   ],
   "source": [
    "model_mlp = Pipeline(steps=[('victorizer', tvec),(\"ROS\", RandomOverSampler()), ('classifier', mlp)])\n",
    "\n",
    "model_mlp.fit(X_train,y_train)\n",
    "\n",
    "y_pred_model_mlp = model_mlp.predict(X_test)\n",
    "\n",
    "print(accuracy_score(y_test,y_pred_model_mlp))\n",
    "print('\\n')\n",
    "print(classification_report(y_test,y_pred_model_mlp))"
   ]
  },
  {
   "cell_type": "code",
   "execution_count": 44,
   "metadata": {
    "scrolled": true
   },
   "outputs": [
    {
     "data": {
      "text/plain": [
       "<AxesSubplot:>"
      ]
     },
     "execution_count": 44,
     "metadata": {},
     "output_type": "execute_result"
    },
    {
     "data": {
      "image/png": "[encoded data removed]",
      "text/plain": [
       "<Figure size 720x720 with 2 Axes>"
      ]
     },
     "metadata": {
      "needs_background": "light"
     },
     "output_type": "display_data"
    }
   ],
   "source": [
    "cm_model_mlp = confusion_matrix(y_test, y_pred_model_mlp)\n",
    "sns.heatmap(cm_model_mlp, annot=True, fmt='1')"
   ]
  },
  {
   "cell_type": "markdown",
   "metadata": {
    "cell_style": "center"
   },
   "source": [
    "> #### Write a review to test the model"
   ]
  },
  {
   "cell_type": "code",
   "execution_count": 45,
   "metadata": {
    "scrolled": true
   },
   "outputs": [
    {
     "name": "stdout",
     "output_type": "stream",
     "text": [
      "Negative feedback\n"
     ]
    }
   ],
   "source": [
    "example = ['The first time I try to live there, and God willing, the last timeI came around the time of the crowd, the apartments and hotels, and I decided to take them 😭Give us a bridal room 🤣 The sofa is red, Bluetooth speakersThe bed is bad, the air-conditioner is exactly above the bed, its old type, but it killed me with a coldAnd there is an air conditioner above the TV. You imagine air conditioning in a small room ☹️The bathroom is opposite the bed, and the door is closed and does not lockThe bathroom is large and has a jacuzzi, but the drawback is that the sink is very close to the chair (the cabin) with difficulty for one to sit.It has a small fridge and kettleThe room does not have a mirror. How is a bridal room?The room is narrow in the sense of the word, and the poor bride is the one who rents itPictures I tried to adjust too much']\n",
    "result = model_mlp.predict(example)\n",
    "\n",
    "for i in result:\n",
    "    if i == 0:\n",
    "        print(\"Positive feedback\")\n",
    "  \n",
    "    else:\n",
    "        print(\"Negative feedback\")"
   ]
  },
  {
   "cell_type": "markdown",
   "metadata": {},
   "source": [
    "* ### Saving the best supervised model"
   ]
  },
  {
   "cell_type": "code",
   "execution_count": 46,
   "metadata": {},
   "outputs": [
    {
     "data": {
      "text/plain": [
       "['supervised_model.pkl']"
      ]
     },
     "execution_count": 46,
     "metadata": {},
     "output_type": "execute_result"
    }
   ],
   "source": [
    "joblib.dump(model_lr, 'supervised_model.pkl')"
   ]
  },
  {
   "cell_type": "markdown",
   "metadata": {},
   "source": [
    "----"
   ]
  },
  {
   "cell_type": "markdown",
   "metadata": {},
   "source": [
    "# **Section 2: Unsupervised Learning**"
   ]
  },
  {
   "cell_type": "markdown",
   "metadata": {},
   "source": [
    "# **Part 1: K-Means Hyperparameter Tuning**"
   ]
  },
  {
   "cell_type": "code",
   "execution_count": 47,
   "metadata": {
    "scrolled": true
   },
   "outputs": [],
   "source": [
    "documents = df_sample['Cleaned_Review'].values.astype(\"U\")\n",
    "\n",
    "vectorizer = TfidfVectorizer(stop_words='english')\n",
    "features = vectorizer.fit_transform(documents)\n",
    "\n",
    "k = 2\n",
    "model = KMeans(n_clusters=k, init='k-means++', max_iter=100, n_init=1, random_state=42)\n",
    "model.fit(features)\n",
    "\n",
    "df_sample['cluster'] = model.labels_"
   ]
  },
  {
   "cell_type": "markdown",
   "metadata": {},
   "source": [
    "### Distribution of each rating"
   ]
  },
  {
   "cell_type": "code",
   "execution_count": 48,
   "metadata": {},
   "outputs": [],
   "source": [
    "df_sample['Sentiment_Unsupervised'] = df_sample['cluster'].apply(lambda x: 'Positive' if x == 0 else 'Negative')"
   ]
  },
  {
   "cell_type": "code",
   "execution_count": 49,
   "metadata": {
    "scrolled": false
   },
   "outputs": [
    {
     "data": {
      "image/png": "[encoded data removed]",
      "text/plain": [
       "<Figure size 864x360 with 1 Axes>"
      ]
     },
     "metadata": {
      "needs_background": "light"
     },
     "output_type": "display_data"
    }
   ],
   "source": [
    "total = len(df_sample)\n",
    "ax1 = plt.figure(figsize=(12,5))\n",
    "\n",
    "g = sns.countplot(x='Sentiment_Unsupervised', data=df_sample)\n",
    "g.set_title(\"Percentage of the reviews for each cluster\", fontsize=20)\n",
    "g.set_xlabel(\"Sentiment\", fontsize=17)\n",
    "g.set_ylabel(\"Percentage\", fontsize=17)\n",
    "sizes = []\n",
    "for p in g.patches:\n",
    "    height = p.get_height()\n",
    "    sizes.append(height)\n",
    "    g.text(p.get_x()+p.get_width()/2.,\n",
    "            height + 3,\n",
    "            '{:1.2f}%'.format(height/total*100),\n",
    "            ha=\"center\", fontsize=10) \n",
    "g.set_ylim(0, max(sizes) * 1.1);"
   ]
  },
  {
   "cell_type": "code",
   "execution_count": 50,
   "metadata": {
    "scrolled": true
   },
   "outputs": [
    {
     "data": {
      "text/plain": [
       "Positive    8358\n",
       "Negative    1663\n",
       "Name: Sentiment_Unsupervised, dtype: int64"
      ]
     },
     "execution_count": 50,
     "metadata": {},
     "output_type": "execute_result"
    }
   ],
   "source": [
    "df_sample['Sentiment_Unsupervised'] .value_counts()"
   ]
  },
  {
   "cell_type": "markdown",
   "metadata": {},
   "source": [
    "# **Part 2: Modeling**"
   ]
  },
  {
   "cell_type": "markdown",
   "metadata": {},
   "source": [
    "### Splitting the data into train dataset and test dataset"
   ]
  },
  {
   "cell_type": "code",
   "execution_count": 51,
   "metadata": {},
   "outputs": [],
   "source": [
    "X = df_sample.Cleaned_Review\n",
    "y = df_sample.Sentiment_Unsupervised"
   ]
  },
  {
   "cell_type": "code",
   "execution_count": 52,
   "metadata": {},
   "outputs": [],
   "source": [
    "X_train, X_test, y_train, y_test = train_test_split(X, y, test_size=0.2, random_state=101)"
   ]
  },
  {
   "cell_type": "markdown",
   "metadata": {},
   "source": [
    "### Initializing the models"
   ]
  },
  {
   "cell_type": "code",
   "execution_count": 53,
   "metadata": {},
   "outputs": [],
   "source": [
    "std_slc = StandardScaler()\n",
    "\n",
    "tvec = TfidfVectorizer()\n",
    "\n",
    "knn = KNeighborsClassifier() \n",
    "\n",
    "lr = LogisticRegression()\n",
    "\n",
    "sv = SVC()\n",
    "\n",
    "dt = DecisionTreeClassifier()\n",
    "\n",
    "rf = RandomForestClassifier()\n",
    "\n",
    "et = ExtraTreesClassifier()\n",
    "\n",
    "xgbc = xgb.XGBClassifier()\n",
    "\n",
    "nb = GaussianNB()\n",
    "\n",
    "cbc = CatBoostClassifier()\n",
    "\n",
    "lgbm = lgb.LGBMClassifier()\n",
    "\n",
    "mlp = MLPClassifier(hidden_layer_sizes=(8), max_iter=50, activation = 'relu', solver='adam')"
   ]
  },
  {
   "cell_type": "markdown",
   "metadata": {},
   "source": [
    "* ### K-Nearest Neighbors (KNN) Classifier"
   ]
  },
  {
   "cell_type": "code",
   "execution_count": 54,
   "metadata": {
    "scrolled": true
   },
   "outputs": [
    {
     "name": "stdout",
     "output_type": "stream",
     "text": [
      "0.940494988355686\n",
      "\n",
      "\n",
      "{'classifier__n_neighbors': 1, 'classifier__weights': 'uniform'}\n",
      "\n",
      "\n",
      "              precision    recall  f1-score   support\n",
      "\n",
      "    Negative       0.82      0.86      0.84       340\n",
      "    Positive       0.97      0.96      0.97      1665\n",
      "\n",
      "    accuracy                           0.94      2005\n",
      "   macro avg       0.89      0.91      0.90      2005\n",
      "weighted avg       0.95      0.94      0.94      2005\n",
      "\n"
     ]
    }
   ],
   "source": [
    "params = { 'classifier__n_neighbors': list(range(1, 20)),'classifier__weights': ['uniform', 'distance']}\n",
    "\n",
    "steps = [('victorizer', tvec),(\"ROS\", RandomOverSampler()), ('classifier', knn)]\n",
    "pipeline = Pipeline(steps)\n",
    "\n",
    "knn_rs_u = GridSearchCV(pipeline, param_grid=params, n_jobs = -1)\n",
    "\n",
    "knn_rs_u.fit(X_train,y_train)\n",
    "\n",
    "y_pred_knn_rs_u = knn_rs_u.predict(X_test)\n",
    "\n",
    "print(knn_rs_u.best_score_)\n",
    "print('\\n')\n",
    "print(knn_rs_u.best_params_)\n",
    "print('\\n')\n",
    "\n",
    "\n",
    "print(classification_report(y_test, y_pred_knn_rs_u))"
   ]
  },
  {
   "cell_type": "code",
   "execution_count": 55,
   "metadata": {
    "scrolled": true
   },
   "outputs": [
    {
     "data": {
      "text/plain": [
       "<AxesSubplot:>"
      ]
     },
     "execution_count": 55,
     "metadata": {},
     "output_type": "execute_result"
    },
    {
     "data": {
      "image/png": "[encoded data removed]",
      "text/plain": [
       "<Figure size 720x720 with 2 Axes>"
      ]
     },
     "metadata": {
      "needs_background": "light"
     },
     "output_type": "display_data"
    }
   ],
   "source": [
    "cm_knn_rs_u = confusion_matrix(y_test, y_pred_knn_rs_u)\n",
    "sns.heatmap(cm_knn_rs_u, annot=True, fmt='1')"
   ]
  },
  {
   "cell_type": "markdown",
   "metadata": {},
   "source": [
    "* ### Logistic Regression Classifier"
   ]
  },
  {
   "cell_type": "code",
   "execution_count": 56,
   "metadata": {
    "scrolled": true
   },
   "outputs": [
    {
     "name": "stdout",
     "output_type": "stream",
     "text": [
      "0.9900249376558603\n",
      "              precision    recall  f1-score   support\n",
      "\n",
      "    Negative       0.94      1.00      0.97       340\n",
      "    Positive       1.00      0.99      0.99      1665\n",
      "\n",
      "    accuracy                           0.99      2005\n",
      "   macro avg       0.97      0.99      0.98      2005\n",
      "weighted avg       0.99      0.99      0.99      2005\n",
      "\n"
     ]
    }
   ],
   "source": [
    "model_lr_u = Pipeline(steps=[('victorizer', tvec),(\"ROS\", RandomOverSampler()), ('classifier', lr)])\n",
    "\n",
    "model_lr_u.fit(X_train, y_train)\n",
    "\n",
    "y_pred_model_lr_u = model_lr_u.predict(X_test)\n",
    "\n",
    "print(accuracy_score(y_test,y_pred_model_lr_u))\n",
    "\n",
    "print(classification_report(y_test,y_pred_model_lr_u))"
   ]
  },
  {
   "cell_type": "code",
   "execution_count": 57,
   "metadata": {
    "scrolled": true
   },
   "outputs": [
    {
     "data": {
      "text/plain": [
       "<AxesSubplot:>"
      ]
     },
     "execution_count": 57,
     "metadata": {},
     "output_type": "execute_result"
    },
    {
     "data": {
      "image/png": "[encoded data removed]",
      "text/plain": [
       "<Figure size 720x720 with 2 Axes>"
      ]
     },
     "metadata": {
      "needs_background": "light"
     },
     "output_type": "display_data"
    }
   ],
   "source": [
    "cm_model_lr_u = confusion_matrix(y_test, y_pred_model_lr_u)\n",
    "sns.heatmap(cm_model_lr_u, annot=True, fmt='1')"
   ]
  },
  {
   "cell_type": "markdown",
   "metadata": {},
   "source": [
    "* ### Support Vector Classifier"
   ]
  },
  {
   "cell_type": "code",
   "execution_count": 58,
   "metadata": {},
   "outputs": [
    {
     "name": "stdout",
     "output_type": "stream",
     "text": [
      "0.9885286783042394\n",
      "\n",
      "\n",
      "              precision    recall  f1-score   support\n",
      "\n",
      "    Negative       1.00      0.94      0.97       340\n",
      "    Positive       0.99      1.00      0.99      1665\n",
      "\n",
      "    accuracy                           0.99      2005\n",
      "   macro avg       0.99      0.97      0.98      2005\n",
      "weighted avg       0.99      0.99      0.99      2005\n",
      "\n"
     ]
    }
   ],
   "source": [
    "model_SVC_u = Pipeline(steps=[('victorizer', tvec),(\"ROS\", RandomOverSampler()), ('classifier', sv)])\n",
    "\n",
    "model_SVC_u.fit(X_train,y_train)\n",
    "\n",
    "y_pred_model_SVC_u = model_SVC_u.predict(X_test)\n",
    "\n",
    "print(accuracy_score(y_test,y_pred_model_SVC_u))\n",
    "print('\\n')\n",
    "print(classification_report(y_test,y_pred_model_SVC_u))"
   ]
  },
  {
   "cell_type": "code",
   "execution_count": 59,
   "metadata": {
    "scrolled": true
   },
   "outputs": [
    {
     "data": {
      "text/plain": [
       "<AxesSubplot:>"
      ]
     },
     "execution_count": 59,
     "metadata": {},
     "output_type": "execute_result"
    },
    {
     "data": {
      "image/png": "[encoded data removed]",
      "text/plain": [
       "<Figure size 720x720 with 2 Axes>"
      ]
     },
     "metadata": {
      "needs_background": "light"
     },
     "output_type": "display_data"
    }
   ],
   "source": [
    "cm_model_SVC_u = confusion_matrix(y_test, y_pred_model_SVC_u)\n",
    "sns.heatmap(cm_model_SVC_u, annot=True, fmt='1')"
   ]
  },
  {
   "cell_type": "markdown",
   "metadata": {},
   "source": [
    "* ### Decision Tree Classifier"
   ]
  },
  {
   "cell_type": "code",
   "execution_count": 60,
   "metadata": {},
   "outputs": [
    {
     "name": "stdout",
     "output_type": "stream",
     "text": [
      "0.9376558603491272\n",
      "\n",
      "\n",
      "              precision    recall  f1-score   support\n",
      "\n",
      "    Negative       0.81      0.83      0.82       340\n",
      "    Positive       0.96      0.96      0.96      1665\n",
      "\n",
      "    accuracy                           0.94      2005\n",
      "   macro avg       0.89      0.89      0.89      2005\n",
      "weighted avg       0.94      0.94      0.94      2005\n",
      "\n"
     ]
    }
   ],
   "source": [
    "model_dt_u = Pipeline(steps=[('victorizer', tvec),(\"ROS\", RandomOverSampler()), ('classifier', dt)])\n",
    "\n",
    "model_dt_u.fit(X_train,y_train)\n",
    "\n",
    "y_pred_model_dt_u = model_dt_u.predict(X_test)\n",
    "\n",
    "print(accuracy_score(y_test,y_pred_model_dt_u))\n",
    "print('\\n')\n",
    "print(classification_report(y_test,y_pred_model_dt_u))"
   ]
  },
  {
   "cell_type": "code",
   "execution_count": 61,
   "metadata": {
    "scrolled": true
   },
   "outputs": [
    {
     "data": {
      "text/plain": [
       "<AxesSubplot:>"
      ]
     },
     "execution_count": 61,
     "metadata": {},
     "output_type": "execute_result"
    },
    {
     "data": {
      "image/png": "[encoded data removed]",
      "text/plain": [
       "<Figure size 720x720 with 2 Axes>"
      ]
     },
     "metadata": {
      "needs_background": "light"
     },
     "output_type": "display_data"
    }
   ],
   "source": [
    "cm_model_dt_u = confusion_matrix(y_test, y_pred_model_dt_u)\n",
    "sns.heatmap(cm_model_dt_u, annot=True, fmt='1')"
   ]
  },
  {
   "cell_type": "markdown",
   "metadata": {},
   "source": [
    "* ### Random Forest Classifier"
   ]
  },
  {
   "cell_type": "code",
   "execution_count": 62,
   "metadata": {
    "scrolled": true
   },
   "outputs": [
    {
     "name": "stdout",
     "output_type": "stream",
     "text": [
      "0.9680798004987531\n",
      "\n",
      "\n",
      "              precision    recall  f1-score   support\n",
      "\n",
      "    Negative       0.98      0.83      0.90       340\n",
      "    Positive       0.97      1.00      0.98      1665\n",
      "\n",
      "    accuracy                           0.97      2005\n",
      "   macro avg       0.97      0.91      0.94      2005\n",
      "weighted avg       0.97      0.97      0.97      2005\n",
      "\n"
     ]
    }
   ],
   "source": [
    "model_rf_u = Pipeline(steps=[('victorizer', tvec),(\"ROS\", RandomOverSampler(sampling_strategy=\"not majority\")), ('classifier', rf)])\n",
    "\n",
    "model_rf_u.fit(X_train,y_train)\n",
    "\n",
    "y_pred_model_rf_u = model_rf_u.predict(X_test)\n",
    "\n",
    "print(accuracy_score(y_test,y_pred_model_rf_u))\n",
    "print('\\n')\n",
    "print(classification_report(y_test,y_pred_model_rf_u))"
   ]
  },
  {
   "cell_type": "code",
   "execution_count": 63,
   "metadata": {
    "scrolled": true
   },
   "outputs": [
    {
     "data": {
      "text/plain": [
       "<AxesSubplot:>"
      ]
     },
     "execution_count": 63,
     "metadata": {},
     "output_type": "execute_result"
    },
    {
     "data": {
      "image/png": "[encoded data removed]",
      "text/plain": [
       "<Figure size 720x720 with 2 Axes>"
      ]
     },
     "metadata": {
      "needs_background": "light"
     },
     "output_type": "display_data"
    }
   ],
   "source": [
    "cm_model_rf_u = confusion_matrix(y_test, y_pred_model_rf_u)\n",
    "sns.heatmap(cm_model_rf_u, annot=True, fmt='1')"
   ]
  },
  {
   "cell_type": "markdown",
   "metadata": {},
   "source": [
    "* ### Extra Trees Classifier"
   ]
  },
  {
   "cell_type": "code",
   "execution_count": 64,
   "metadata": {
    "scrolled": true
   },
   "outputs": [
    {
     "name": "stdout",
     "output_type": "stream",
     "text": [
      "0.9571072319201995\n",
      "\n",
      "\n",
      "              precision    recall  f1-score   support\n",
      "\n",
      "    Negative       1.00      0.75      0.86       340\n",
      "    Positive       0.95      1.00      0.97      1665\n",
      "\n",
      "    accuracy                           0.96      2005\n",
      "   macro avg       0.97      0.87      0.92      2005\n",
      "weighted avg       0.96      0.96      0.95      2005\n",
      "\n"
     ]
    }
   ],
   "source": [
    "model_et_u = Pipeline(steps=[('victorizer', tvec),(\"ROS\", RandomOverSampler()), ('classifier', et)])\n",
    "\n",
    "model_et_u.fit(X_train,y_train)\n",
    "\n",
    "y_pred_model_et_u = model_et_u.predict(X_test)\n",
    "\n",
    "print(accuracy_score(y_test,y_pred_model_et_u))\n",
    "print('\\n')\n",
    "print(classification_report(y_test,y_pred_model_et_u))"
   ]
  },
  {
   "cell_type": "code",
   "execution_count": 65,
   "metadata": {
    "scrolled": true
   },
   "outputs": [
    {
     "data": {
      "text/plain": [
       "<AxesSubplot:>"
      ]
     },
     "execution_count": 65,
     "metadata": {},
     "output_type": "execute_result"
    },
    {
     "data": {
      "image/png": "[encoded data removed]",
      "text/plain": [
       "<Figure size 720x720 with 2 Axes>"
      ]
     },
     "metadata": {
      "needs_background": "light"
     },
     "output_type": "display_data"
    }
   ],
   "source": [
    "cm_model_et_u = confusion_matrix(y_test, y_pred_model_et_u)\n",
    "sns.heatmap(cm_model_et_u, annot=True, fmt='1')"
   ]
  },
  {
   "cell_type": "markdown",
   "metadata": {},
   "source": [
    "* ### XGBoost Classifier"
   ]
  },
  {
   "cell_type": "code",
   "execution_count": 66,
   "metadata": {
    "scrolled": true
   },
   "outputs": [
    {
     "name": "stdout",
     "output_type": "stream",
     "text": [
      "[09:33:22] WARNING: C:/Users/Administrator/workspace/xgboost-win64_release_1.5.1/src/learner.cc:1115: Starting in XGBoost 1.3.0, the default evaluation metric used with the objective 'binary:logistic' was changed from 'error' to 'logloss'. Explicitly set eval_metric if you'd like to restore the old behavior.\n",
      "0.9815461346633416\n",
      "\n",
      "\n",
      "              precision    recall  f1-score   support\n",
      "\n",
      "    Negative       0.94      0.95      0.95       340\n",
      "    Positive       0.99      0.99      0.99      1665\n",
      "\n",
      "    accuracy                           0.98      2005\n",
      "   macro avg       0.97      0.97      0.97      2005\n",
      "weighted avg       0.98      0.98      0.98      2005\n",
      "\n"
     ]
    }
   ],
   "source": [
    "model_xgb_u = Pipeline(steps=[('victorizer', tvec),(\"ROS\", RandomOverSampler(sampling_strategy=\"not majority\")), ('classifier', xgbc)])\n",
    "\n",
    "model_xgb_u.fit(X_train,y_train)\n",
    "\n",
    "y_pred_model_xgb_u = model_xgb_u.predict(X_test)\n",
    "\n",
    "print(accuracy_score(y_test,y_pred_model_xgb_u))\n",
    "print('\\n')\n",
    "print(classification_report(y_test,y_pred_model_xgb_u))"
   ]
  },
  {
   "cell_type": "code",
   "execution_count": 67,
   "metadata": {
    "scrolled": false
   },
   "outputs": [
    {
     "data": {
      "text/plain": [
       "<AxesSubplot:>"
      ]
     },
     "execution_count": 67,
     "metadata": {},
     "output_type": "execute_result"
    },
    {
     "data": {
      "image/png": "[encoded data removed]",
      "text/plain": [
       "<Figure size 720x720 with 2 Axes>"
      ]
     },
     "metadata": {
      "needs_background": "light"
     },
     "output_type": "display_data"
    }
   ],
   "source": [
    "cm_model_xgb_u = confusion_matrix(y_test, y_pred_model_xgb_u)\n",
    "sns.heatmap(cm_model_xgb_u, annot=True, fmt='1')"
   ]
  },
  {
   "cell_type": "markdown",
   "metadata": {},
   "source": [
    "* ### CatBoost Classifier"
   ]
  },
  {
   "cell_type": "code",
   "execution_count": 68,
   "metadata": {
    "scrolled": true
   },
   "outputs": [
    {
     "name": "stdout",
     "output_type": "stream",
     "text": [
      "Learning rate set to 0.03119\n",
      "0:\tlearn: 0.6491401\ttotal: 145ms\tremaining: 2m 25s\n",
      "1:\tlearn: 0.6015128\ttotal: 243ms\tremaining: 2m 1s\n",
      "2:\tlearn: 0.5537120\ttotal: 349ms\tremaining: 1m 56s\n",
      "3:\tlearn: 0.5137022\ttotal: 443ms\tremaining: 1m 50s\n",
      "4:\tlearn: 0.4837512\ttotal: 539ms\tremaining: 1m 47s\n",
      "5:\tlearn: 0.4584089\ttotal: 639ms\tremaining: 1m 45s\n",
      "6:\tlearn: 0.4305268\ttotal: 737ms\tremaining: 1m 44s\n",
      "7:\tlearn: 0.4006127\ttotal: 832ms\tremaining: 1m 43s\n",
      "8:\tlearn: 0.3706381\ttotal: 930ms\tremaining: 1m 42s\n",
      "9:\tlearn: 0.3488003\ttotal: 1.03s\tremaining: 1m 41s\n",
      "10:\tlearn: 0.3335654\ttotal: 1.12s\tremaining: 1m 40s\n",
      "11:\tlearn: 0.3069836\ttotal: 1.22s\tremaining: 1m 40s\n",
      "12:\tlearn: 0.2893570\ttotal: 1.31s\tremaining: 1m 39s\n",
      "13:\tlearn: 0.2787278\ttotal: 1.41s\tremaining: 1m 39s\n",
      "14:\tlearn: 0.2637355\ttotal: 1.5s\tremaining: 1m 38s\n",
      "15:\tlearn: 0.2522794\ttotal: 1.6s\tremaining: 1m 38s\n",
      "16:\tlearn: 0.2403600\ttotal: 1.7s\tremaining: 1m 38s\n",
      "17:\tlearn: 0.2297359\ttotal: 1.79s\tremaining: 1m 37s\n",
      "18:\tlearn: 0.2224951\ttotal: 1.89s\tremaining: 1m 37s\n",
      "19:\tlearn: 0.2145692\ttotal: 1.99s\tremaining: 1m 37s\n",
      "20:\tlearn: 0.2068481\ttotal: 2.1s\tremaining: 1m 37s\n",
      "21:\tlearn: 0.2021026\ttotal: 2.19s\tremaining: 1m 37s\n",
      "22:\tlearn: 0.1958581\ttotal: 2.28s\tremaining: 1m 37s\n",
      "23:\tlearn: 0.1897854\ttotal: 2.38s\tremaining: 1m 36s\n",
      "24:\tlearn: 0.1858694\ttotal: 2.47s\tremaining: 1m 36s\n",
      "25:\tlearn: 0.1804474\ttotal: 2.56s\tremaining: 1m 36s\n",
      "26:\tlearn: 0.1754398\ttotal: 2.66s\tremaining: 1m 35s\n",
      "27:\tlearn: 0.1718781\ttotal: 2.76s\tremaining: 1m 35s\n",
      "28:\tlearn: 0.1672817\ttotal: 2.85s\tremaining: 1m 35s\n",
      "29:\tlearn: 0.1627111\ttotal: 2.95s\tremaining: 1m 35s\n",
      "30:\tlearn: 0.1597723\ttotal: 3.05s\tremaining: 1m 35s\n",
      "31:\tlearn: 0.1558138\ttotal: 3.15s\tremaining: 1m 35s\n",
      "32:\tlearn: 0.1524753\ttotal: 3.24s\tremaining: 1m 35s\n",
      "33:\tlearn: 0.1492219\ttotal: 3.34s\tremaining: 1m 34s\n",
      "34:\tlearn: 0.1465323\ttotal: 3.44s\tremaining: 1m 34s\n",
      "35:\tlearn: 0.1441741\ttotal: 3.54s\tremaining: 1m 34s\n",
      "36:\tlearn: 0.1424863\ttotal: 3.64s\tremaining: 1m 34s\n",
      "37:\tlearn: 0.1406787\ttotal: 3.73s\tremaining: 1m 34s\n",
      "38:\tlearn: 0.1385310\ttotal: 3.83s\tremaining: 1m 34s\n",
      "39:\tlearn: 0.1361925\ttotal: 3.92s\tremaining: 1m 34s\n",
      "40:\tlearn: 0.1338294\ttotal: 4.02s\tremaining: 1m 34s\n",
      "41:\tlearn: 0.1318216\ttotal: 4.11s\tremaining: 1m 33s\n",
      "42:\tlearn: 0.1304172\ttotal: 4.21s\tremaining: 1m 33s\n",
      "43:\tlearn: 0.1286957\ttotal: 4.3s\tremaining: 1m 33s\n",
      "44:\tlearn: 0.1271025\ttotal: 4.4s\tremaining: 1m 33s\n",
      "45:\tlearn: 0.1259008\ttotal: 4.49s\tremaining: 1m 33s\n",
      "46:\tlearn: 0.1241917\ttotal: 4.59s\tremaining: 1m 33s\n",
      "47:\tlearn: 0.1225566\ttotal: 4.69s\tremaining: 1m 33s\n",
      "48:\tlearn: 0.1211043\ttotal: 4.78s\tremaining: 1m 32s\n",
      "49:\tlearn: 0.1197467\ttotal: 4.88s\tremaining: 1m 32s\n",
      "50:\tlearn: 0.1187868\ttotal: 4.97s\tremaining: 1m 32s\n",
      "51:\tlearn: 0.1173126\ttotal: 5.07s\tremaining: 1m 32s\n",
      "52:\tlearn: 0.1163740\ttotal: 5.16s\tremaining: 1m 32s\n",
      "53:\tlearn: 0.1150383\ttotal: 5.26s\tremaining: 1m 32s\n",
      "54:\tlearn: 0.1141506\ttotal: 5.35s\tremaining: 1m 31s\n",
      "55:\tlearn: 0.1131716\ttotal: 5.45s\tremaining: 1m 31s\n",
      "56:\tlearn: 0.1118780\ttotal: 5.54s\tremaining: 1m 31s\n",
      "57:\tlearn: 0.1104481\ttotal: 5.64s\tremaining: 1m 31s\n",
      "58:\tlearn: 0.1092997\ttotal: 5.73s\tremaining: 1m 31s\n",
      "59:\tlearn: 0.1086362\ttotal: 5.82s\tremaining: 1m 31s\n",
      "60:\tlearn: 0.1075517\ttotal: 5.92s\tremaining: 1m 31s\n",
      "61:\tlearn: 0.1064985\ttotal: 6.01s\tremaining: 1m 30s\n",
      "62:\tlearn: 0.1053295\ttotal: 6.11s\tremaining: 1m 30s\n",
      "63:\tlearn: 0.1045540\ttotal: 6.2s\tremaining: 1m 30s\n",
      "64:\tlearn: 0.1040266\ttotal: 6.3s\tremaining: 1m 30s\n",
      "65:\tlearn: 0.1034067\ttotal: 6.39s\tremaining: 1m 30s\n",
      "66:\tlearn: 0.1025426\ttotal: 6.48s\tremaining: 1m 30s\n",
      "67:\tlearn: 0.1014696\ttotal: 6.59s\tremaining: 1m 30s\n",
      "68:\tlearn: 0.1006559\ttotal: 6.69s\tremaining: 1m 30s\n",
      "69:\tlearn: 0.0997216\ttotal: 6.78s\tremaining: 1m 30s\n",
      "70:\tlearn: 0.0991757\ttotal: 6.88s\tremaining: 1m 29s\n",
      "71:\tlearn: 0.0984802\ttotal: 6.97s\tremaining: 1m 29s\n",
      "72:\tlearn: 0.0978183\ttotal: 7.07s\tremaining: 1m 29s\n",
      "73:\tlearn: 0.0968915\ttotal: 7.17s\tremaining: 1m 29s\n",
      "74:\tlearn: 0.0961568\ttotal: 7.26s\tremaining: 1m 29s\n",
      "75:\tlearn: 0.0956013\ttotal: 7.36s\tremaining: 1m 29s\n",
      "76:\tlearn: 0.0949552\ttotal: 7.45s\tremaining: 1m 29s\n",
      "77:\tlearn: 0.0943132\ttotal: 7.55s\tremaining: 1m 29s\n",
      "78:\tlearn: 0.0937519\ttotal: 7.64s\tremaining: 1m 29s\n",
      "79:\tlearn: 0.0932949\ttotal: 7.74s\tremaining: 1m 28s\n",
      "80:\tlearn: 0.0922776\ttotal: 7.83s\tremaining: 1m 28s\n",
      "81:\tlearn: 0.0917072\ttotal: 7.92s\tremaining: 1m 28s\n",
      "82:\tlearn: 0.0910951\ttotal: 8.02s\tremaining: 1m 28s\n",
      "83:\tlearn: 0.0907514\ttotal: 8.11s\tremaining: 1m 28s\n",
      "84:\tlearn: 0.0902131\ttotal: 8.21s\tremaining: 1m 28s\n",
      "85:\tlearn: 0.0893474\ttotal: 8.31s\tremaining: 1m 28s\n",
      "86:\tlearn: 0.0887602\ttotal: 8.4s\tremaining: 1m 28s\n",
      "87:\tlearn: 0.0883960\ttotal: 8.5s\tremaining: 1m 28s\n",
      "88:\tlearn: 0.0880050\ttotal: 8.59s\tremaining: 1m 27s\n",
      "89:\tlearn: 0.0876803\ttotal: 8.69s\tremaining: 1m 27s\n",
      "90:\tlearn: 0.0875180\ttotal: 8.78s\tremaining: 1m 27s\n",
      "91:\tlearn: 0.0870220\ttotal: 8.87s\tremaining: 1m 27s\n",
      "92:\tlearn: 0.0863760\ttotal: 8.96s\tremaining: 1m 27s\n",
      "93:\tlearn: 0.0858390\ttotal: 9.05s\tremaining: 1m 27s\n",
      "94:\tlearn: 0.0856119\ttotal: 9.15s\tremaining: 1m 27s\n",
      "95:\tlearn: 0.0850374\ttotal: 9.24s\tremaining: 1m 27s\n",
      "96:\tlearn: 0.0846022\ttotal: 9.33s\tremaining: 1m 26s\n",
      "97:\tlearn: 0.0842916\ttotal: 9.42s\tremaining: 1m 26s\n",
      "98:\tlearn: 0.0839890\ttotal: 9.51s\tremaining: 1m 26s\n",
      "99:\tlearn: 0.0832970\ttotal: 9.61s\tremaining: 1m 26s\n",
      "100:\tlearn: 0.0828389\ttotal: 9.7s\tremaining: 1m 26s\n",
      "101:\tlearn: 0.0821350\ttotal: 9.8s\tremaining: 1m 26s\n",
      "102:\tlearn: 0.0818981\ttotal: 9.89s\tremaining: 1m 26s\n",
      "103:\tlearn: 0.0814677\ttotal: 9.98s\tremaining: 1m 26s\n",
      "104:\tlearn: 0.0810457\ttotal: 10.1s\tremaining: 1m 25s\n",
      "105:\tlearn: 0.0805783\ttotal: 10.2s\tremaining: 1m 25s\n",
      "106:\tlearn: 0.0802743\ttotal: 10.3s\tremaining: 1m 25s\n",
      "107:\tlearn: 0.0799132\ttotal: 10.4s\tremaining: 1m 25s\n",
      "108:\tlearn: 0.0797721\ttotal: 10.4s\tremaining: 1m 25s\n",
      "109:\tlearn: 0.0793295\ttotal: 10.5s\tremaining: 1m 25s\n",
      "110:\tlearn: 0.0790502\ttotal: 10.6s\tremaining: 1m 25s\n",
      "111:\tlearn: 0.0786319\ttotal: 10.7s\tremaining: 1m 25s\n",
      "112:\tlearn: 0.0783387\ttotal: 10.8s\tremaining: 1m 24s\n",
      "113:\tlearn: 0.0780527\ttotal: 10.9s\tremaining: 1m 24s\n",
      "114:\tlearn: 0.0777833\ttotal: 11s\tremaining: 1m 24s\n",
      "115:\tlearn: 0.0774143\ttotal: 11.1s\tremaining: 1m 24s\n",
      "116:\tlearn: 0.0770094\ttotal: 11.2s\tremaining: 1m 24s\n",
      "117:\tlearn: 0.0765581\ttotal: 11.3s\tremaining: 1m 24s\n",
      "118:\tlearn: 0.0761063\ttotal: 11.4s\tremaining: 1m 24s\n",
      "119:\tlearn: 0.0758837\ttotal: 11.5s\tremaining: 1m 24s\n",
      "120:\tlearn: 0.0755249\ttotal: 11.6s\tremaining: 1m 24s\n",
      "121:\tlearn: 0.0749822\ttotal: 11.7s\tremaining: 1m 23s\n",
      "122:\tlearn: 0.0745301\ttotal: 11.8s\tremaining: 1m 23s\n",
      "123:\tlearn: 0.0739491\ttotal: 11.9s\tremaining: 1m 23s\n",
      "124:\tlearn: 0.0736217\ttotal: 11.9s\tremaining: 1m 23s\n",
      "125:\tlearn: 0.0732313\ttotal: 12s\tremaining: 1m 23s\n",
      "126:\tlearn: 0.0730396\ttotal: 12.1s\tremaining: 1m 23s\n",
      "127:\tlearn: 0.0726138\ttotal: 12.2s\tremaining: 1m 23s\n",
      "128:\tlearn: 0.0723923\ttotal: 12.3s\tremaining: 1m 23s\n",
      "129:\tlearn: 0.0722173\ttotal: 12.4s\tremaining: 1m 23s\n",
      "130:\tlearn: 0.0718849\ttotal: 12.5s\tremaining: 1m 22s\n",
      "131:\tlearn: 0.0715078\ttotal: 12.6s\tremaining: 1m 22s\n",
      "132:\tlearn: 0.0711413\ttotal: 12.7s\tremaining: 1m 22s\n",
      "133:\tlearn: 0.0707705\ttotal: 12.8s\tremaining: 1m 22s\n",
      "134:\tlearn: 0.0705132\ttotal: 12.9s\tremaining: 1m 22s\n",
      "135:\tlearn: 0.0701131\ttotal: 13s\tremaining: 1m 22s\n",
      "136:\tlearn: 0.0698608\ttotal: 13.1s\tremaining: 1m 22s\n",
      "137:\tlearn: 0.0695792\ttotal: 13.2s\tremaining: 1m 22s\n",
      "138:\tlearn: 0.0693124\ttotal: 13.3s\tremaining: 1m 22s\n",
      "139:\tlearn: 0.0691692\ttotal: 13.4s\tremaining: 1m 22s\n",
      "140:\tlearn: 0.0688146\ttotal: 13.5s\tremaining: 1m 21s\n",
      "141:\tlearn: 0.0686141\ttotal: 13.5s\tremaining: 1m 21s\n",
      "142:\tlearn: 0.0685556\ttotal: 13.6s\tremaining: 1m 21s\n",
      "143:\tlearn: 0.0685111\ttotal: 13.7s\tremaining: 1m 21s\n",
      "144:\tlearn: 0.0681575\ttotal: 13.8s\tremaining: 1m 21s\n",
      "145:\tlearn: 0.0679778\ttotal: 13.9s\tremaining: 1m 21s\n",
      "146:\tlearn: 0.0677990\ttotal: 14s\tremaining: 1m 21s\n",
      "147:\tlearn: 0.0675151\ttotal: 14.1s\tremaining: 1m 21s\n",
      "148:\tlearn: 0.0673852\ttotal: 14.2s\tremaining: 1m 21s\n",
      "149:\tlearn: 0.0672850\ttotal: 14.3s\tremaining: 1m 20s\n",
      "150:\tlearn: 0.0672501\ttotal: 14.4s\tremaining: 1m 20s\n",
      "151:\tlearn: 0.0667584\ttotal: 14.5s\tremaining: 1m 20s\n",
      "152:\tlearn: 0.0664685\ttotal: 14.6s\tremaining: 1m 20s\n",
      "153:\tlearn: 0.0664197\ttotal: 14.7s\tremaining: 1m 20s\n",
      "154:\tlearn: 0.0662050\ttotal: 14.8s\tremaining: 1m 20s\n",
      "155:\tlearn: 0.0659025\ttotal: 14.8s\tremaining: 1m 20s\n",
      "156:\tlearn: 0.0658568\ttotal: 14.9s\tremaining: 1m 20s\n"
     ]
    },
    {
     "name": "stdout",
     "output_type": "stream",
     "text": [
      "157:\tlearn: 0.0655331\ttotal: 15s\tremaining: 1m 20s\n",
      "158:\tlearn: 0.0654141\ttotal: 15.1s\tremaining: 1m 19s\n",
      "159:\tlearn: 0.0653659\ttotal: 15.2s\tremaining: 1m 19s\n",
      "160:\tlearn: 0.0650391\ttotal: 15.3s\tremaining: 1m 19s\n",
      "161:\tlearn: 0.0647397\ttotal: 15.4s\tremaining: 1m 19s\n",
      "162:\tlearn: 0.0645744\ttotal: 15.5s\tremaining: 1m 19s\n",
      "163:\tlearn: 0.0645459\ttotal: 15.6s\tremaining: 1m 19s\n",
      "164:\tlearn: 0.0645010\ttotal: 15.7s\tremaining: 1m 19s\n",
      "165:\tlearn: 0.0643895\ttotal: 15.8s\tremaining: 1m 19s\n",
      "166:\tlearn: 0.0641535\ttotal: 15.9s\tremaining: 1m 19s\n",
      "167:\tlearn: 0.0638088\ttotal: 16s\tremaining: 1m 19s\n",
      "168:\tlearn: 0.0637206\ttotal: 16s\tremaining: 1m 18s\n",
      "169:\tlearn: 0.0636985\ttotal: 16.1s\tremaining: 1m 18s\n",
      "170:\tlearn: 0.0633845\ttotal: 16.2s\tremaining: 1m 18s\n",
      "171:\tlearn: 0.0629748\ttotal: 16.3s\tremaining: 1m 18s\n",
      "172:\tlearn: 0.0626505\ttotal: 16.4s\tremaining: 1m 18s\n",
      "173:\tlearn: 0.0625380\ttotal: 16.5s\tremaining: 1m 18s\n",
      "174:\tlearn: 0.0624785\ttotal: 16.6s\tremaining: 1m 18s\n",
      "175:\tlearn: 0.0624292\ttotal: 16.7s\tremaining: 1m 18s\n",
      "176:\tlearn: 0.0622408\ttotal: 16.8s\tremaining: 1m 18s\n",
      "177:\tlearn: 0.0620345\ttotal: 16.9s\tremaining: 1m 18s\n",
      "178:\tlearn: 0.0617634\ttotal: 17s\tremaining: 1m 18s\n",
      "179:\tlearn: 0.0614261\ttotal: 17.1s\tremaining: 1m 17s\n",
      "180:\tlearn: 0.0612828\ttotal: 17.2s\tremaining: 1m 17s\n",
      "181:\tlearn: 0.0612583\ttotal: 17.3s\tremaining: 1m 17s\n",
      "182:\tlearn: 0.0612089\ttotal: 17.4s\tremaining: 1m 17s\n",
      "183:\tlearn: 0.0611656\ttotal: 17.5s\tremaining: 1m 17s\n",
      "184:\tlearn: 0.0611406\ttotal: 17.6s\tremaining: 1m 17s\n",
      "185:\tlearn: 0.0611211\ttotal: 17.7s\tremaining: 1m 17s\n",
      "186:\tlearn: 0.0608635\ttotal: 17.8s\tremaining: 1m 17s\n",
      "187:\tlearn: 0.0606584\ttotal: 17.9s\tremaining: 1m 17s\n",
      "188:\tlearn: 0.0603584\ttotal: 17.9s\tremaining: 1m 17s\n",
      "189:\tlearn: 0.0602086\ttotal: 18s\tremaining: 1m 16s\n",
      "190:\tlearn: 0.0600979\ttotal: 18.1s\tremaining: 1m 16s\n",
      "191:\tlearn: 0.0599414\ttotal: 18.2s\tremaining: 1m 16s\n",
      "192:\tlearn: 0.0596556\ttotal: 18.3s\tremaining: 1m 16s\n",
      "193:\tlearn: 0.0594403\ttotal: 18.4s\tremaining: 1m 16s\n",
      "194:\tlearn: 0.0593587\ttotal: 18.5s\tremaining: 1m 16s\n",
      "195:\tlearn: 0.0591802\ttotal: 18.6s\tremaining: 1m 16s\n",
      "196:\tlearn: 0.0591005\ttotal: 18.7s\tremaining: 1m 16s\n",
      "197:\tlearn: 0.0587916\ttotal: 18.8s\tremaining: 1m 16s\n",
      "198:\tlearn: 0.0584672\ttotal: 18.9s\tremaining: 1m 16s\n",
      "199:\tlearn: 0.0582485\ttotal: 19s\tremaining: 1m 15s\n",
      "200:\tlearn: 0.0580849\ttotal: 19.1s\tremaining: 1m 15s\n",
      "201:\tlearn: 0.0579562\ttotal: 19.2s\tremaining: 1m 15s\n",
      "202:\tlearn: 0.0577364\ttotal: 19.3s\tremaining: 1m 15s\n",
      "203:\tlearn: 0.0577097\ttotal: 19.4s\tremaining: 1m 15s\n",
      "204:\tlearn: 0.0576506\ttotal: 19.5s\tremaining: 1m 15s\n",
      "205:\tlearn: 0.0575886\ttotal: 19.5s\tremaining: 1m 15s\n",
      "206:\tlearn: 0.0575679\ttotal: 19.6s\tremaining: 1m 15s\n",
      "207:\tlearn: 0.0572739\ttotal: 19.7s\tremaining: 1m 15s\n",
      "208:\tlearn: 0.0570977\ttotal: 19.8s\tremaining: 1m 15s\n",
      "209:\tlearn: 0.0569753\ttotal: 19.9s\tremaining: 1m 15s\n",
      "210:\tlearn: 0.0569479\ttotal: 20s\tremaining: 1m 14s\n",
      "211:\tlearn: 0.0569033\ttotal: 20.1s\tremaining: 1m 14s\n",
      "212:\tlearn: 0.0566342\ttotal: 20.2s\tremaining: 1m 14s\n",
      "213:\tlearn: 0.0562177\ttotal: 20.3s\tremaining: 1m 14s\n",
      "214:\tlearn: 0.0561125\ttotal: 20.4s\tremaining: 1m 14s\n",
      "215:\tlearn: 0.0560744\ttotal: 20.5s\tremaining: 1m 14s\n",
      "216:\tlearn: 0.0560434\ttotal: 20.6s\tremaining: 1m 14s\n",
      "217:\tlearn: 0.0560184\ttotal: 20.7s\tremaining: 1m 14s\n",
      "218:\tlearn: 0.0558579\ttotal: 20.8s\tremaining: 1m 14s\n",
      "219:\tlearn: 0.0557675\ttotal: 20.9s\tremaining: 1m 13s\n",
      "220:\tlearn: 0.0556234\ttotal: 21s\tremaining: 1m 13s\n",
      "221:\tlearn: 0.0554548\ttotal: 21s\tremaining: 1m 13s\n",
      "222:\tlearn: 0.0554292\ttotal: 21.1s\tremaining: 1m 13s\n",
      "223:\tlearn: 0.0552683\ttotal: 21.2s\tremaining: 1m 13s\n",
      "224:\tlearn: 0.0552480\ttotal: 21.3s\tremaining: 1m 13s\n",
      "225:\tlearn: 0.0552245\ttotal: 21.4s\tremaining: 1m 13s\n",
      "226:\tlearn: 0.0549341\ttotal: 21.5s\tremaining: 1m 13s\n",
      "227:\tlearn: 0.0549085\ttotal: 21.6s\tremaining: 1m 13s\n",
      "228:\tlearn: 0.0548814\ttotal: 21.7s\tremaining: 1m 13s\n",
      "229:\tlearn: 0.0546992\ttotal: 21.8s\tremaining: 1m 12s\n",
      "230:\tlearn: 0.0546587\ttotal: 21.9s\tremaining: 1m 12s\n",
      "231:\tlearn: 0.0546326\ttotal: 22s\tremaining: 1m 12s\n",
      "232:\tlearn: 0.0545329\ttotal: 22.1s\tremaining: 1m 12s\n",
      "233:\tlearn: 0.0543635\ttotal: 22.2s\tremaining: 1m 12s\n",
      "234:\tlearn: 0.0543318\ttotal: 22.2s\tremaining: 1m 12s\n",
      "235:\tlearn: 0.0541331\ttotal: 22.3s\tremaining: 1m 12s\n",
      "236:\tlearn: 0.0539351\ttotal: 22.4s\tremaining: 1m 12s\n",
      "237:\tlearn: 0.0539162\ttotal: 22.5s\tremaining: 1m 12s\n",
      "238:\tlearn: 0.0538987\ttotal: 22.6s\tremaining: 1m 11s\n",
      "239:\tlearn: 0.0536462\ttotal: 22.7s\tremaining: 1m 11s\n",
      "240:\tlearn: 0.0536250\ttotal: 22.8s\tremaining: 1m 11s\n",
      "241:\tlearn: 0.0536039\ttotal: 22.9s\tremaining: 1m 11s\n",
      "242:\tlearn: 0.0535859\ttotal: 23s\tremaining: 1m 11s\n",
      "243:\tlearn: 0.0535663\ttotal: 23.1s\tremaining: 1m 11s\n",
      "244:\tlearn: 0.0534197\ttotal: 23.1s\tremaining: 1m 11s\n",
      "245:\tlearn: 0.0534027\ttotal: 23.2s\tremaining: 1m 11s\n",
      "246:\tlearn: 0.0533735\ttotal: 23.3s\tremaining: 1m 11s\n",
      "247:\tlearn: 0.0533426\ttotal: 23.4s\tremaining: 1m 11s\n",
      "248:\tlearn: 0.0533213\ttotal: 23.5s\tremaining: 1m 10s\n",
      "249:\tlearn: 0.0533036\ttotal: 23.6s\tremaining: 1m 10s\n",
      "250:\tlearn: 0.0532774\ttotal: 23.7s\tremaining: 1m 10s\n",
      "251:\tlearn: 0.0532618\ttotal: 23.8s\tremaining: 1m 10s\n",
      "252:\tlearn: 0.0532346\ttotal: 23.9s\tremaining: 1m 10s\n",
      "253:\tlearn: 0.0532182\ttotal: 24s\tremaining: 1m 10s\n",
      "254:\tlearn: 0.0529399\ttotal: 24.1s\tremaining: 1m 10s\n",
      "255:\tlearn: 0.0529210\ttotal: 24.2s\tremaining: 1m 10s\n",
      "256:\tlearn: 0.0528966\ttotal: 24.2s\tremaining: 1m 10s\n",
      "257:\tlearn: 0.0527698\ttotal: 24.3s\tremaining: 1m 10s\n",
      "258:\tlearn: 0.0525813\ttotal: 24.4s\tremaining: 1m 9s\n",
      "259:\tlearn: 0.0524753\ttotal: 24.5s\tremaining: 1m 9s\n",
      "260:\tlearn: 0.0524496\ttotal: 24.6s\tremaining: 1m 9s\n",
      "261:\tlearn: 0.0524321\ttotal: 24.7s\tremaining: 1m 9s\n",
      "262:\tlearn: 0.0521856\ttotal: 24.8s\tremaining: 1m 9s\n",
      "263:\tlearn: 0.0520606\ttotal: 24.9s\tremaining: 1m 9s\n",
      "264:\tlearn: 0.0520225\ttotal: 25s\tremaining: 1m 9s\n",
      "265:\tlearn: 0.0519572\ttotal: 25.1s\tremaining: 1m 9s\n",
      "266:\tlearn: 0.0519412\ttotal: 25.2s\tremaining: 1m 9s\n",
      "267:\tlearn: 0.0519248\ttotal: 25.3s\tremaining: 1m 8s\n",
      "268:\tlearn: 0.0519053\ttotal: 25.3s\tremaining: 1m 8s\n",
      "269:\tlearn: 0.0517785\ttotal: 25.4s\tremaining: 1m 8s\n",
      "270:\tlearn: 0.0514155\ttotal: 25.5s\tremaining: 1m 8s\n",
      "271:\tlearn: 0.0513907\ttotal: 25.6s\tremaining: 1m 8s\n",
      "272:\tlearn: 0.0513727\ttotal: 25.7s\tremaining: 1m 8s\n",
      "273:\tlearn: 0.0513403\ttotal: 25.8s\tremaining: 1m 8s\n",
      "274:\tlearn: 0.0513243\ttotal: 25.9s\tremaining: 1m 8s\n",
      "275:\tlearn: 0.0513068\ttotal: 26s\tremaining: 1m 8s\n",
      "276:\tlearn: 0.0511790\ttotal: 26.1s\tremaining: 1m 8s\n",
      "277:\tlearn: 0.0511611\ttotal: 26.2s\tremaining: 1m 7s\n",
      "278:\tlearn: 0.0511371\ttotal: 26.2s\tremaining: 1m 7s\n",
      "279:\tlearn: 0.0510003\ttotal: 26.3s\tremaining: 1m 7s\n",
      "280:\tlearn: 0.0506809\ttotal: 26.4s\tremaining: 1m 7s\n",
      "281:\tlearn: 0.0506423\ttotal: 26.5s\tremaining: 1m 7s\n",
      "282:\tlearn: 0.0505506\ttotal: 26.6s\tremaining: 1m 7s\n",
      "283:\tlearn: 0.0502682\ttotal: 26.7s\tremaining: 1m 7s\n",
      "284:\tlearn: 0.0502504\ttotal: 26.8s\tremaining: 1m 7s\n",
      "285:\tlearn: 0.0500243\ttotal: 26.9s\tremaining: 1m 7s\n",
      "286:\tlearn: 0.0498383\ttotal: 27s\tremaining: 1m 7s\n",
      "287:\tlearn: 0.0498215\ttotal: 27.1s\tremaining: 1m 6s\n",
      "288:\tlearn: 0.0497973\ttotal: 27.2s\tremaining: 1m 6s\n",
      "289:\tlearn: 0.0495850\ttotal: 27.3s\tremaining: 1m 6s\n",
      "290:\tlearn: 0.0495664\ttotal: 27.4s\tremaining: 1m 6s\n",
      "291:\tlearn: 0.0494417\ttotal: 27.4s\tremaining: 1m 6s\n",
      "292:\tlearn: 0.0494233\ttotal: 27.5s\tremaining: 1m 6s\n",
      "293:\tlearn: 0.0492878\ttotal: 27.6s\tremaining: 1m 6s\n",
      "294:\tlearn: 0.0491835\ttotal: 27.7s\tremaining: 1m 6s\n",
      "295:\tlearn: 0.0491635\ttotal: 27.8s\tremaining: 1m 6s\n",
      "296:\tlearn: 0.0490480\ttotal: 27.9s\tremaining: 1m 6s\n",
      "297:\tlearn: 0.0490313\ttotal: 28s\tremaining: 1m 5s\n",
      "298:\tlearn: 0.0488591\ttotal: 28.1s\tremaining: 1m 5s\n",
      "299:\tlearn: 0.0486124\ttotal: 28.2s\tremaining: 1m 5s\n",
      "300:\tlearn: 0.0485973\ttotal: 28.3s\tremaining: 1m 5s\n",
      "301:\tlearn: 0.0483150\ttotal: 28.4s\tremaining: 1m 5s\n",
      "302:\tlearn: 0.0481656\ttotal: 28.5s\tremaining: 1m 5s\n",
      "303:\tlearn: 0.0479291\ttotal: 28.6s\tremaining: 1m 5s\n",
      "304:\tlearn: 0.0479092\ttotal: 28.6s\tremaining: 1m 5s\n",
      "305:\tlearn: 0.0478935\ttotal: 28.7s\tremaining: 1m 5s\n",
      "306:\tlearn: 0.0478783\ttotal: 28.8s\tremaining: 1m 5s\n",
      "307:\tlearn: 0.0478564\ttotal: 28.9s\tremaining: 1m 4s\n",
      "308:\tlearn: 0.0478404\ttotal: 29s\tremaining: 1m 4s\n",
      "309:\tlearn: 0.0478250\ttotal: 29.1s\tremaining: 1m 4s\n",
      "310:\tlearn: 0.0478050\ttotal: 29.2s\tremaining: 1m 4s\n",
      "311:\tlearn: 0.0477900\ttotal: 29.3s\tremaining: 1m 4s\n",
      "312:\tlearn: 0.0477581\ttotal: 29.4s\tremaining: 1m 4s\n",
      "313:\tlearn: 0.0475603\ttotal: 29.5s\tremaining: 1m 4s\n"
     ]
    },
    {
     "name": "stdout",
     "output_type": "stream",
     "text": [
      "314:\tlearn: 0.0474189\ttotal: 29.5s\tremaining: 1m 4s\n",
      "315:\tlearn: 0.0473261\ttotal: 29.6s\tremaining: 1m 4s\n",
      "316:\tlearn: 0.0473110\ttotal: 29.7s\tremaining: 1m 4s\n",
      "317:\tlearn: 0.0471509\ttotal: 29.8s\tremaining: 1m 3s\n",
      "318:\tlearn: 0.0471205\ttotal: 29.9s\tremaining: 1m 3s\n",
      "319:\tlearn: 0.0470915\ttotal: 30s\tremaining: 1m 3s\n",
      "320:\tlearn: 0.0468199\ttotal: 30.1s\tremaining: 1m 3s\n",
      "321:\tlearn: 0.0466823\ttotal: 30.2s\tremaining: 1m 3s\n",
      "322:\tlearn: 0.0466651\ttotal: 30.3s\tremaining: 1m 3s\n",
      "323:\tlearn: 0.0466495\ttotal: 30.4s\tremaining: 1m 3s\n",
      "324:\tlearn: 0.0466255\ttotal: 30.5s\tremaining: 1m 3s\n",
      "325:\tlearn: 0.0466098\ttotal: 30.6s\tremaining: 1m 3s\n",
      "326:\tlearn: 0.0464551\ttotal: 30.7s\tremaining: 1m 3s\n",
      "327:\tlearn: 0.0463614\ttotal: 30.8s\tremaining: 1m 3s\n",
      "328:\tlearn: 0.0463400\ttotal: 30.9s\tremaining: 1m 2s\n",
      "329:\tlearn: 0.0463208\ttotal: 30.9s\tremaining: 1m 2s\n",
      "330:\tlearn: 0.0463060\ttotal: 31s\tremaining: 1m 2s\n",
      "331:\tlearn: 0.0460868\ttotal: 31.1s\tremaining: 1m 2s\n",
      "332:\tlearn: 0.0459467\ttotal: 31.2s\tremaining: 1m 2s\n",
      "333:\tlearn: 0.0459206\ttotal: 31.3s\tremaining: 1m 2s\n",
      "334:\tlearn: 0.0459023\ttotal: 31.4s\tremaining: 1m 2s\n",
      "335:\tlearn: 0.0458873\ttotal: 31.5s\tremaining: 1m 2s\n",
      "336:\tlearn: 0.0458578\ttotal: 31.6s\tremaining: 1m 2s\n",
      "337:\tlearn: 0.0457434\ttotal: 31.7s\tremaining: 1m 2s\n",
      "338:\tlearn: 0.0456460\ttotal: 31.8s\tremaining: 1m 1s\n",
      "339:\tlearn: 0.0454833\ttotal: 31.9s\tremaining: 1m 1s\n",
      "340:\tlearn: 0.0454601\ttotal: 32s\tremaining: 1m 1s\n",
      "341:\tlearn: 0.0452934\ttotal: 32s\tremaining: 1m 1s\n",
      "342:\tlearn: 0.0452669\ttotal: 32.1s\tremaining: 1m 1s\n",
      "343:\tlearn: 0.0452524\ttotal: 32.2s\tremaining: 1m 1s\n",
      "344:\tlearn: 0.0452390\ttotal: 32.3s\tremaining: 1m 1s\n",
      "345:\tlearn: 0.0450661\ttotal: 32.4s\tremaining: 1m 1s\n",
      "346:\tlearn: 0.0450440\ttotal: 32.5s\tremaining: 1m 1s\n",
      "347:\tlearn: 0.0450302\ttotal: 32.6s\tremaining: 1m 1s\n",
      "348:\tlearn: 0.0449995\ttotal: 32.7s\tremaining: 1m\n",
      "349:\tlearn: 0.0447131\ttotal: 32.8s\tremaining: 1m\n",
      "350:\tlearn: 0.0445327\ttotal: 32.9s\tremaining: 1m\n",
      "351:\tlearn: 0.0445084\ttotal: 33s\tremaining: 1m\n",
      "352:\tlearn: 0.0443446\ttotal: 33s\tremaining: 1m\n",
      "353:\tlearn: 0.0443257\ttotal: 33.1s\tremaining: 1m\n",
      "354:\tlearn: 0.0442018\ttotal: 33.2s\tremaining: 1m\n",
      "355:\tlearn: 0.0440652\ttotal: 33.3s\tremaining: 1m\n",
      "356:\tlearn: 0.0440512\ttotal: 33.4s\tremaining: 1m\n",
      "357:\tlearn: 0.0440376\ttotal: 33.5s\tremaining: 1m\n",
      "358:\tlearn: 0.0439534\ttotal: 33.6s\tremaining: 60s\n",
      "359:\tlearn: 0.0438702\ttotal: 33.7s\tremaining: 59.9s\n",
      "360:\tlearn: 0.0436793\ttotal: 33.8s\tremaining: 59.8s\n",
      "361:\tlearn: 0.0436514\ttotal: 33.9s\tremaining: 59.7s\n",
      "362:\tlearn: 0.0436379\ttotal: 34s\tremaining: 59.6s\n",
      "363:\tlearn: 0.0434164\ttotal: 34.1s\tremaining: 59.5s\n",
      "364:\tlearn: 0.0433950\ttotal: 34.2s\tremaining: 59.4s\n",
      "365:\tlearn: 0.0433069\ttotal: 34.2s\tremaining: 59.3s\n",
      "366:\tlearn: 0.0431291\ttotal: 34.3s\tremaining: 59.2s\n",
      "367:\tlearn: 0.0431087\ttotal: 34.4s\tremaining: 59.1s\n",
      "368:\tlearn: 0.0428683\ttotal: 34.5s\tremaining: 59s\n",
      "369:\tlearn: 0.0428467\ttotal: 34.6s\tremaining: 58.9s\n",
      "370:\tlearn: 0.0428222\ttotal: 34.7s\tremaining: 58.8s\n",
      "371:\tlearn: 0.0428090\ttotal: 34.8s\tremaining: 58.8s\n",
      "372:\tlearn: 0.0427959\ttotal: 34.9s\tremaining: 58.7s\n",
      "373:\tlearn: 0.0427041\ttotal: 35s\tremaining: 58.6s\n",
      "374:\tlearn: 0.0426829\ttotal: 35.1s\tremaining: 58.5s\n",
      "375:\tlearn: 0.0424835\ttotal: 35.2s\tremaining: 58.4s\n",
      "376:\tlearn: 0.0424704\ttotal: 35.3s\tremaining: 58.3s\n",
      "377:\tlearn: 0.0423624\ttotal: 35.4s\tremaining: 58.2s\n",
      "378:\tlearn: 0.0421071\ttotal: 35.5s\tremaining: 58.1s\n",
      "379:\tlearn: 0.0420947\ttotal: 35.5s\tremaining: 58s\n",
      "380:\tlearn: 0.0418978\ttotal: 35.6s\tremaining: 57.9s\n",
      "381:\tlearn: 0.0418722\ttotal: 35.7s\tremaining: 57.8s\n",
      "382:\tlearn: 0.0416653\ttotal: 35.8s\tremaining: 57.7s\n",
      "383:\tlearn: 0.0415153\ttotal: 35.9s\tremaining: 57.6s\n",
      "384:\tlearn: 0.0414956\ttotal: 36s\tremaining: 57.5s\n",
      "385:\tlearn: 0.0414834\ttotal: 36.1s\tremaining: 57.4s\n",
      "386:\tlearn: 0.0414007\ttotal: 36.2s\tremaining: 57.3s\n",
      "387:\tlearn: 0.0412541\ttotal: 36.3s\tremaining: 57.2s\n",
      "388:\tlearn: 0.0411007\ttotal: 36.4s\tremaining: 57.1s\n",
      "389:\tlearn: 0.0410753\ttotal: 36.5s\tremaining: 57s\n",
      "390:\tlearn: 0.0410150\ttotal: 36.5s\tremaining: 56.9s\n",
      "391:\tlearn: 0.0407600\ttotal: 36.6s\tremaining: 56.8s\n",
      "392:\tlearn: 0.0405964\ttotal: 36.7s\tremaining: 56.8s\n",
      "393:\tlearn: 0.0405815\ttotal: 36.8s\tremaining: 56.6s\n",
      "394:\tlearn: 0.0405695\ttotal: 36.9s\tremaining: 56.6s\n",
      "395:\tlearn: 0.0405576\ttotal: 37s\tremaining: 56.5s\n",
      "396:\tlearn: 0.0405293\ttotal: 37.1s\tremaining: 56.4s\n",
      "397:\tlearn: 0.0403928\ttotal: 37.2s\tremaining: 56.3s\n",
      "398:\tlearn: 0.0403742\ttotal: 37.3s\tremaining: 56.2s\n",
      "399:\tlearn: 0.0402687\ttotal: 37.4s\tremaining: 56.1s\n",
      "400:\tlearn: 0.0401541\ttotal: 37.5s\tremaining: 56s\n",
      "401:\tlearn: 0.0399122\ttotal: 37.6s\tremaining: 55.9s\n",
      "402:\tlearn: 0.0398902\ttotal: 37.7s\tremaining: 55.8s\n",
      "403:\tlearn: 0.0398784\ttotal: 37.8s\tremaining: 55.7s\n",
      "404:\tlearn: 0.0397432\ttotal: 37.9s\tremaining: 55.6s\n",
      "405:\tlearn: 0.0397238\ttotal: 37.9s\tremaining: 55.5s\n",
      "406:\tlearn: 0.0396274\ttotal: 38s\tremaining: 55.4s\n",
      "407:\tlearn: 0.0396045\ttotal: 38.1s\tremaining: 55.3s\n",
      "408:\tlearn: 0.0395930\ttotal: 38.2s\tremaining: 55.2s\n",
      "409:\tlearn: 0.0395042\ttotal: 38.3s\tremaining: 55.1s\n",
      "410:\tlearn: 0.0394600\ttotal: 38.4s\tremaining: 55s\n",
      "411:\tlearn: 0.0393309\ttotal: 38.5s\tremaining: 54.9s\n",
      "412:\tlearn: 0.0393196\ttotal: 38.6s\tremaining: 54.9s\n",
      "413:\tlearn: 0.0391804\ttotal: 38.7s\tremaining: 54.8s\n",
      "414:\tlearn: 0.0391615\ttotal: 38.8s\tremaining: 54.7s\n",
      "415:\tlearn: 0.0391503\ttotal: 38.9s\tremaining: 54.6s\n",
      "416:\tlearn: 0.0390345\ttotal: 39s\tremaining: 54.5s\n",
      "417:\tlearn: 0.0389395\ttotal: 39.1s\tremaining: 54.4s\n",
      "418:\tlearn: 0.0389285\ttotal: 39.2s\tremaining: 54.3s\n",
      "419:\tlearn: 0.0388715\ttotal: 39.2s\tremaining: 54.2s\n",
      "420:\tlearn: 0.0388004\ttotal: 39.3s\tremaining: 54.1s\n",
      "421:\tlearn: 0.0387826\ttotal: 39.4s\tremaining: 54s\n",
      "422:\tlearn: 0.0386554\ttotal: 39.5s\tremaining: 53.9s\n",
      "423:\tlearn: 0.0386347\ttotal: 39.6s\tremaining: 53.8s\n",
      "424:\tlearn: 0.0386141\ttotal: 39.7s\tremaining: 53.7s\n",
      "425:\tlearn: 0.0386032\ttotal: 39.8s\tremaining: 53.6s\n",
      "426:\tlearn: 0.0383967\ttotal: 39.9s\tremaining: 53.5s\n",
      "427:\tlearn: 0.0383859\ttotal: 40s\tremaining: 53.4s\n",
      "428:\tlearn: 0.0383753\ttotal: 40.1s\tremaining: 53.3s\n",
      "429:\tlearn: 0.0382775\ttotal: 40.2s\tremaining: 53.2s\n",
      "430:\tlearn: 0.0381382\ttotal: 40.3s\tremaining: 53.2s\n",
      "431:\tlearn: 0.0379761\ttotal: 40.4s\tremaining: 53.1s\n",
      "432:\tlearn: 0.0379601\ttotal: 40.5s\tremaining: 53s\n",
      "433:\tlearn: 0.0378213\ttotal: 40.5s\tremaining: 52.9s\n",
      "434:\tlearn: 0.0376981\ttotal: 40.6s\tremaining: 52.8s\n",
      "435:\tlearn: 0.0376875\ttotal: 40.7s\tremaining: 52.7s\n",
      "436:\tlearn: 0.0375730\ttotal: 40.8s\tremaining: 52.6s\n",
      "437:\tlearn: 0.0375122\ttotal: 40.9s\tremaining: 52.5s\n",
      "438:\tlearn: 0.0374960\ttotal: 41s\tremaining: 52.4s\n",
      "439:\tlearn: 0.0374355\ttotal: 41.1s\tremaining: 52.3s\n",
      "440:\tlearn: 0.0373583\ttotal: 41.2s\tremaining: 52.2s\n",
      "441:\tlearn: 0.0373356\ttotal: 41.3s\tremaining: 52.1s\n",
      "442:\tlearn: 0.0373253\ttotal: 41.4s\tremaining: 52s\n",
      "443:\tlearn: 0.0372045\ttotal: 41.5s\tremaining: 51.9s\n",
      "444:\tlearn: 0.0370635\ttotal: 41.6s\tremaining: 51.8s\n",
      "445:\tlearn: 0.0368510\ttotal: 41.6s\tremaining: 51.7s\n",
      "446:\tlearn: 0.0368359\ttotal: 41.7s\tremaining: 51.6s\n",
      "447:\tlearn: 0.0368257\ttotal: 41.8s\tremaining: 51.5s\n",
      "448:\tlearn: 0.0367578\ttotal: 41.9s\tremaining: 51.4s\n",
      "449:\tlearn: 0.0367478\ttotal: 42s\tremaining: 51.3s\n",
      "450:\tlearn: 0.0367379\ttotal: 42.1s\tremaining: 51.3s\n",
      "451:\tlearn: 0.0366198\ttotal: 42.2s\tremaining: 51.2s\n",
      "452:\tlearn: 0.0364723\ttotal: 42.3s\tremaining: 51.1s\n",
      "453:\tlearn: 0.0364206\ttotal: 42.4s\tremaining: 51s\n",
      "454:\tlearn: 0.0364108\ttotal: 42.5s\tremaining: 50.9s\n",
      "455:\tlearn: 0.0364011\ttotal: 42.6s\tremaining: 50.8s\n",
      "456:\tlearn: 0.0363286\ttotal: 42.6s\tremaining: 50.7s\n",
      "457:\tlearn: 0.0362363\ttotal: 42.7s\tremaining: 50.6s\n",
      "458:\tlearn: 0.0360745\ttotal: 42.8s\tremaining: 50.5s\n",
      "459:\tlearn: 0.0359592\ttotal: 42.9s\tremaining: 50.4s\n",
      "460:\tlearn: 0.0359496\ttotal: 43s\tremaining: 50.3s\n",
      "461:\tlearn: 0.0359294\ttotal: 43.1s\tremaining: 50.2s\n",
      "462:\tlearn: 0.0359144\ttotal: 43.2s\tremaining: 50.1s\n",
      "463:\tlearn: 0.0358832\ttotal: 43.3s\tremaining: 50s\n",
      "464:\tlearn: 0.0358219\ttotal: 43.4s\tremaining: 49.9s\n",
      "465:\tlearn: 0.0358124\ttotal: 43.5s\tremaining: 49.8s\n",
      "466:\tlearn: 0.0358031\ttotal: 43.6s\tremaining: 49.7s\n",
      "467:\tlearn: 0.0356667\ttotal: 43.7s\tremaining: 49.6s\n",
      "468:\tlearn: 0.0355518\ttotal: 43.8s\tremaining: 49.5s\n",
      "469:\tlearn: 0.0354919\ttotal: 43.8s\tremaining: 49.4s\n",
      "470:\tlearn: 0.0353731\ttotal: 43.9s\tremaining: 49.4s\n",
      "471:\tlearn: 0.0352462\ttotal: 44s\tremaining: 49.3s\n",
      "472:\tlearn: 0.0352371\ttotal: 44.1s\tremaining: 49.2s\n",
      "473:\tlearn: 0.0350931\ttotal: 44.2s\tremaining: 49.1s\n",
      "474:\tlearn: 0.0350841\ttotal: 44.3s\tremaining: 49s\n",
      "475:\tlearn: 0.0350144\ttotal: 44.4s\tremaining: 48.9s\n"
     ]
    },
    {
     "name": "stdout",
     "output_type": "stream",
     "text": [
      "476:\tlearn: 0.0348726\ttotal: 44.5s\tremaining: 48.8s\n",
      "477:\tlearn: 0.0348581\ttotal: 44.6s\tremaining: 48.7s\n",
      "478:\tlearn: 0.0348379\ttotal: 44.7s\tremaining: 48.6s\n",
      "479:\tlearn: 0.0348239\ttotal: 44.8s\tremaining: 48.5s\n",
      "480:\tlearn: 0.0347617\ttotal: 44.9s\tremaining: 48.4s\n",
      "481:\tlearn: 0.0347472\ttotal: 45s\tremaining: 48.3s\n",
      "482:\tlearn: 0.0347030\ttotal: 45s\tremaining: 48.2s\n",
      "483:\tlearn: 0.0346941\ttotal: 45.1s\tremaining: 48.1s\n",
      "484:\tlearn: 0.0345728\ttotal: 45.2s\tremaining: 48s\n",
      "485:\tlearn: 0.0345587\ttotal: 45.3s\tremaining: 47.9s\n",
      "486:\tlearn: 0.0343890\ttotal: 45.4s\tremaining: 47.8s\n",
      "487:\tlearn: 0.0343802\ttotal: 45.5s\tremaining: 47.7s\n",
      "488:\tlearn: 0.0343220\ttotal: 45.6s\tremaining: 47.6s\n",
      "489:\tlearn: 0.0343025\ttotal: 45.7s\tremaining: 47.5s\n",
      "490:\tlearn: 0.0342036\ttotal: 45.8s\tremaining: 47.5s\n",
      "491:\tlearn: 0.0341898\ttotal: 45.9s\tremaining: 47.4s\n",
      "492:\tlearn: 0.0341812\ttotal: 45.9s\tremaining: 47.3s\n",
      "493:\tlearn: 0.0339881\ttotal: 46s\tremaining: 47.2s\n",
      "494:\tlearn: 0.0338868\ttotal: 46.1s\tremaining: 47.1s\n",
      "495:\tlearn: 0.0337890\ttotal: 46.2s\tremaining: 47s\n",
      "496:\tlearn: 0.0337756\ttotal: 46.3s\tremaining: 46.9s\n",
      "497:\tlearn: 0.0337672\ttotal: 46.4s\tremaining: 46.8s\n",
      "498:\tlearn: 0.0337357\ttotal: 46.5s\tremaining: 46.7s\n",
      "499:\tlearn: 0.0336644\ttotal: 46.6s\tremaining: 46.6s\n",
      "500:\tlearn: 0.0335236\ttotal: 46.7s\tremaining: 46.5s\n",
      "501:\tlearn: 0.0334517\ttotal: 46.8s\tremaining: 46.4s\n",
      "502:\tlearn: 0.0334434\ttotal: 46.9s\tremaining: 46.3s\n",
      "503:\tlearn: 0.0333842\ttotal: 47s\tremaining: 46.2s\n",
      "504:\tlearn: 0.0333254\ttotal: 47.1s\tremaining: 46.1s\n",
      "505:\tlearn: 0.0332843\ttotal: 47.1s\tremaining: 46s\n",
      "506:\tlearn: 0.0331469\ttotal: 47.2s\tremaining: 45.9s\n",
      "507:\tlearn: 0.0330975\ttotal: 47.3s\tremaining: 45.8s\n",
      "508:\tlearn: 0.0330893\ttotal: 47.4s\tremaining: 45.7s\n",
      "509:\tlearn: 0.0329213\ttotal: 47.5s\tremaining: 45.7s\n",
      "510:\tlearn: 0.0329075\ttotal: 47.6s\tremaining: 45.6s\n",
      "511:\tlearn: 0.0328994\ttotal: 47.7s\tremaining: 45.5s\n",
      "512:\tlearn: 0.0328111\ttotal: 47.8s\tremaining: 45.4s\n",
      "513:\tlearn: 0.0327966\ttotal: 47.9s\tremaining: 45.3s\n",
      "514:\tlearn: 0.0327839\ttotal: 48s\tremaining: 45.2s\n",
      "515:\tlearn: 0.0326891\ttotal: 48.1s\tremaining: 45.1s\n",
      "516:\tlearn: 0.0326731\ttotal: 48.2s\tremaining: 45s\n",
      "517:\tlearn: 0.0326651\ttotal: 48.2s\tremaining: 44.9s\n",
      "518:\tlearn: 0.0325363\ttotal: 48.3s\tremaining: 44.8s\n",
      "519:\tlearn: 0.0325229\ttotal: 48.4s\tremaining: 44.7s\n",
      "520:\tlearn: 0.0324745\ttotal: 48.5s\tremaining: 44.6s\n",
      "521:\tlearn: 0.0324666\ttotal: 48.6s\tremaining: 44.5s\n",
      "522:\tlearn: 0.0323832\ttotal: 48.7s\tremaining: 44.4s\n",
      "523:\tlearn: 0.0323539\ttotal: 48.8s\tremaining: 44.3s\n",
      "524:\tlearn: 0.0323461\ttotal: 48.9s\tremaining: 44.2s\n",
      "525:\tlearn: 0.0322543\ttotal: 49s\tremaining: 44.1s\n",
      "526:\tlearn: 0.0321609\ttotal: 49.1s\tremaining: 44s\n",
      "527:\tlearn: 0.0321532\ttotal: 49.1s\tremaining: 43.9s\n",
      "528:\tlearn: 0.0320569\ttotal: 49.2s\tremaining: 43.8s\n",
      "529:\tlearn: 0.0319958\ttotal: 49.3s\tremaining: 43.7s\n",
      "530:\tlearn: 0.0319881\ttotal: 49.4s\tremaining: 43.6s\n",
      "531:\tlearn: 0.0319369\ttotal: 49.5s\tremaining: 43.6s\n",
      "532:\tlearn: 0.0319293\ttotal: 49.6s\tremaining: 43.5s\n",
      "533:\tlearn: 0.0318027\ttotal: 49.7s\tremaining: 43.4s\n",
      "534:\tlearn: 0.0317894\ttotal: 49.8s\tremaining: 43.3s\n",
      "535:\tlearn: 0.0317819\ttotal: 49.9s\tremaining: 43.2s\n",
      "536:\tlearn: 0.0317037\ttotal: 50s\tremaining: 43.1s\n",
      "537:\tlearn: 0.0316916\ttotal: 50.1s\tremaining: 43s\n",
      "538:\tlearn: 0.0316061\ttotal: 50.2s\tremaining: 42.9s\n",
      "539:\tlearn: 0.0315084\ttotal: 50.2s\tremaining: 42.8s\n",
      "540:\tlearn: 0.0315010\ttotal: 50.3s\tremaining: 42.7s\n",
      "541:\tlearn: 0.0314936\ttotal: 50.4s\tremaining: 42.6s\n",
      "542:\tlearn: 0.0314783\ttotal: 50.5s\tremaining: 42.5s\n",
      "543:\tlearn: 0.0313674\ttotal: 50.6s\tremaining: 42.4s\n",
      "544:\tlearn: 0.0313550\ttotal: 50.7s\tremaining: 42.3s\n",
      "545:\tlearn: 0.0313477\ttotal: 50.8s\tremaining: 42.2s\n",
      "546:\tlearn: 0.0312573\ttotal: 50.9s\tremaining: 42.1s\n",
      "547:\tlearn: 0.0311794\ttotal: 51s\tremaining: 42.1s\n",
      "548:\tlearn: 0.0310795\ttotal: 51.1s\tremaining: 42s\n",
      "549:\tlearn: 0.0310667\ttotal: 51.2s\tremaining: 41.9s\n",
      "550:\tlearn: 0.0310594\ttotal: 51.3s\tremaining: 41.8s\n",
      "551:\tlearn: 0.0309918\ttotal: 51.4s\tremaining: 41.7s\n",
      "552:\tlearn: 0.0309846\ttotal: 51.4s\tremaining: 41.6s\n",
      "553:\tlearn: 0.0308497\ttotal: 51.5s\tremaining: 41.5s\n",
      "554:\tlearn: 0.0308352\ttotal: 51.6s\tremaining: 41.4s\n",
      "555:\tlearn: 0.0307852\ttotal: 51.7s\tremaining: 41.3s\n",
      "556:\tlearn: 0.0307739\ttotal: 51.8s\tremaining: 41.2s\n",
      "557:\tlearn: 0.0307668\ttotal: 51.9s\tremaining: 41.1s\n",
      "558:\tlearn: 0.0306259\ttotal: 52s\tremaining: 41s\n",
      "559:\tlearn: 0.0306190\ttotal: 52.1s\tremaining: 40.9s\n",
      "560:\tlearn: 0.0304176\ttotal: 52.2s\tremaining: 40.8s\n",
      "561:\tlearn: 0.0303122\ttotal: 52.3s\tremaining: 40.7s\n",
      "562:\tlearn: 0.0302119\ttotal: 52.4s\tremaining: 40.6s\n",
      "563:\tlearn: 0.0301976\ttotal: 52.5s\tremaining: 40.5s\n",
      "564:\tlearn: 0.0301907\ttotal: 52.5s\tremaining: 40.5s\n",
      "565:\tlearn: 0.0300943\ttotal: 52.6s\tremaining: 40.4s\n",
      "566:\tlearn: 0.0300490\ttotal: 52.7s\tremaining: 40.3s\n",
      "567:\tlearn: 0.0300421\ttotal: 52.8s\tremaining: 40.2s\n",
      "568:\tlearn: 0.0300309\ttotal: 52.9s\tremaining: 40.1s\n",
      "569:\tlearn: 0.0299528\ttotal: 53s\tremaining: 40s\n",
      "570:\tlearn: 0.0299460\ttotal: 53.1s\tremaining: 39.9s\n",
      "571:\tlearn: 0.0299349\ttotal: 53.2s\tremaining: 39.8s\n",
      "572:\tlearn: 0.0298910\ttotal: 53.3s\tremaining: 39.7s\n",
      "573:\tlearn: 0.0298843\ttotal: 53.4s\tremaining: 39.6s\n",
      "574:\tlearn: 0.0298416\ttotal: 53.5s\tremaining: 39.5s\n",
      "575:\tlearn: 0.0297759\ttotal: 53.5s\tremaining: 39.4s\n",
      "576:\tlearn: 0.0296187\ttotal: 53.6s\tremaining: 39.3s\n",
      "577:\tlearn: 0.0296120\ttotal: 53.7s\tremaining: 39.2s\n",
      "578:\tlearn: 0.0295253\ttotal: 53.8s\tremaining: 39.1s\n",
      "579:\tlearn: 0.0295105\ttotal: 53.9s\tremaining: 39s\n",
      "580:\tlearn: 0.0293950\ttotal: 54s\tremaining: 38.9s\n",
      "581:\tlearn: 0.0293884\ttotal: 54.1s\tremaining: 38.9s\n",
      "582:\tlearn: 0.0293819\ttotal: 54.2s\tremaining: 38.8s\n",
      "583:\tlearn: 0.0292811\ttotal: 54.3s\tremaining: 38.7s\n",
      "584:\tlearn: 0.0292746\ttotal: 54.4s\tremaining: 38.6s\n",
      "585:\tlearn: 0.0292634\ttotal: 54.5s\tremaining: 38.5s\n",
      "586:\tlearn: 0.0291943\ttotal: 54.5s\tremaining: 38.4s\n",
      "587:\tlearn: 0.0291455\ttotal: 54.6s\tremaining: 38.3s\n",
      "588:\tlearn: 0.0290703\ttotal: 54.7s\tremaining: 38.2s\n",
      "589:\tlearn: 0.0290638\ttotal: 54.8s\tremaining: 38.1s\n",
      "590:\tlearn: 0.0290574\ttotal: 54.9s\tremaining: 38s\n",
      "591:\tlearn: 0.0289882\ttotal: 55s\tremaining: 37.9s\n",
      "592:\tlearn: 0.0289290\ttotal: 55.1s\tremaining: 37.8s\n",
      "593:\tlearn: 0.0289178\ttotal: 55.2s\tremaining: 37.7s\n",
      "594:\tlearn: 0.0289114\ttotal: 55.3s\tremaining: 37.6s\n",
      "595:\tlearn: 0.0288670\ttotal: 55.4s\tremaining: 37.5s\n",
      "596:\tlearn: 0.0288607\ttotal: 55.5s\tremaining: 37.4s\n",
      "597:\tlearn: 0.0288505\ttotal: 55.5s\tremaining: 37.3s\n",
      "598:\tlearn: 0.0288444\ttotal: 55.6s\tremaining: 37.2s\n",
      "599:\tlearn: 0.0288184\ttotal: 55.7s\tremaining: 37.2s\n",
      "600:\tlearn: 0.0287352\ttotal: 55.8s\tremaining: 37.1s\n",
      "601:\tlearn: 0.0286332\ttotal: 55.9s\tremaining: 37s\n",
      "602:\tlearn: 0.0285896\ttotal: 56s\tremaining: 36.9s\n",
      "603:\tlearn: 0.0284924\ttotal: 56.1s\tremaining: 36.8s\n",
      "604:\tlearn: 0.0284862\ttotal: 56.2s\tremaining: 36.7s\n",
      "605:\tlearn: 0.0283952\ttotal: 56.3s\tremaining: 36.6s\n",
      "606:\tlearn: 0.0283563\ttotal: 56.4s\tremaining: 36.5s\n",
      "607:\tlearn: 0.0283502\ttotal: 56.5s\tremaining: 36.4s\n",
      "608:\tlearn: 0.0283390\ttotal: 56.5s\tremaining: 36.3s\n",
      "609:\tlearn: 0.0283097\ttotal: 56.6s\tremaining: 36.2s\n",
      "610:\tlearn: 0.0283037\ttotal: 56.7s\tremaining: 36.1s\n",
      "611:\tlearn: 0.0282594\ttotal: 56.8s\tremaining: 36s\n",
      "612:\tlearn: 0.0281634\ttotal: 56.9s\tremaining: 35.9s\n",
      "613:\tlearn: 0.0281574\ttotal: 57s\tremaining: 35.8s\n",
      "614:\tlearn: 0.0280259\ttotal: 57.1s\tremaining: 35.7s\n",
      "615:\tlearn: 0.0280200\ttotal: 57.2s\tremaining: 35.7s\n",
      "616:\tlearn: 0.0279662\ttotal: 57.3s\tremaining: 35.6s\n",
      "617:\tlearn: 0.0279050\ttotal: 57.4s\tremaining: 35.5s\n",
      "618:\tlearn: 0.0278992\ttotal: 57.5s\tremaining: 35.4s\n",
      "619:\tlearn: 0.0278177\ttotal: 57.6s\tremaining: 35.3s\n",
      "620:\tlearn: 0.0278046\ttotal: 57.7s\tremaining: 35.2s\n",
      "621:\tlearn: 0.0277988\ttotal: 57.7s\tremaining: 35.1s\n",
      "622:\tlearn: 0.0277887\ttotal: 57.8s\tremaining: 35s\n",
      "623:\tlearn: 0.0277141\ttotal: 57.9s\tremaining: 34.9s\n",
      "624:\tlearn: 0.0277084\ttotal: 58s\tremaining: 34.8s\n",
      "625:\tlearn: 0.0276710\ttotal: 58.1s\tremaining: 34.7s\n",
      "626:\tlearn: 0.0276653\ttotal: 58.2s\tremaining: 34.6s\n",
      "627:\tlearn: 0.0276073\ttotal: 58.3s\tremaining: 34.5s\n",
      "628:\tlearn: 0.0274580\ttotal: 58.4s\tremaining: 34.4s\n",
      "629:\tlearn: 0.0274045\ttotal: 58.5s\tremaining: 34.3s\n",
      "630:\tlearn: 0.0273666\ttotal: 58.6s\tremaining: 34.3s\n",
      "631:\tlearn: 0.0273060\ttotal: 58.7s\tremaining: 34.2s\n",
      "632:\tlearn: 0.0272950\ttotal: 58.8s\tremaining: 34.1s\n",
      "633:\tlearn: 0.0272857\ttotal: 58.8s\tremaining: 34s\n",
      "634:\tlearn: 0.0271579\ttotal: 58.9s\tremaining: 33.9s\n"
     ]
    },
    {
     "name": "stdout",
     "output_type": "stream",
     "text": [
      "635:\tlearn: 0.0271523\ttotal: 59s\tremaining: 33.8s\n",
      "636:\tlearn: 0.0271467\ttotal: 59.1s\tremaining: 33.7s\n",
      "637:\tlearn: 0.0270514\ttotal: 59.2s\tremaining: 33.6s\n",
      "638:\tlearn: 0.0270459\ttotal: 59.3s\tremaining: 33.5s\n",
      "639:\tlearn: 0.0269531\ttotal: 59.4s\tremaining: 33.4s\n",
      "640:\tlearn: 0.0269065\ttotal: 59.5s\tremaining: 33.3s\n",
      "641:\tlearn: 0.0268301\ttotal: 59.6s\tremaining: 33.2s\n",
      "642:\tlearn: 0.0268183\ttotal: 59.7s\tremaining: 33.1s\n",
      "643:\tlearn: 0.0268091\ttotal: 59.8s\tremaining: 33s\n",
      "644:\tlearn: 0.0268000\ttotal: 59.8s\tremaining: 32.9s\n",
      "645:\tlearn: 0.0267946\ttotal: 59.9s\tremaining: 32.8s\n",
      "646:\tlearn: 0.0267126\ttotal: 1m\tremaining: 32.8s\n",
      "647:\tlearn: 0.0266751\ttotal: 1m\tremaining: 32.7s\n",
      "648:\tlearn: 0.0266307\ttotal: 1m\tremaining: 32.6s\n",
      "649:\tlearn: 0.0265516\ttotal: 1m\tremaining: 32.5s\n",
      "650:\tlearn: 0.0264499\ttotal: 1m\tremaining: 32.4s\n",
      "651:\tlearn: 0.0264445\ttotal: 1m\tremaining: 32.3s\n",
      "652:\tlearn: 0.0264392\ttotal: 1m\tremaining: 32.2s\n",
      "653:\tlearn: 0.0263821\ttotal: 1m\tremaining: 32.1s\n",
      "654:\tlearn: 0.0263247\ttotal: 1m\tremaining: 32s\n",
      "655:\tlearn: 0.0263194\ttotal: 1m\tremaining: 31.9s\n",
      "656:\tlearn: 0.0262771\ttotal: 1m\tremaining: 31.8s\n",
      "657:\tlearn: 0.0262671\ttotal: 1m 1s\tremaining: 31.7s\n",
      "658:\tlearn: 0.0262209\ttotal: 1m 1s\tremaining: 31.6s\n",
      "659:\tlearn: 0.0262075\ttotal: 1m 1s\tremaining: 31.5s\n",
      "660:\tlearn: 0.0261225\ttotal: 1m 1s\tremaining: 31.4s\n",
      "661:\tlearn: 0.0261171\ttotal: 1m 1s\tremaining: 31.4s\n",
      "662:\tlearn: 0.0260056\ttotal: 1m 1s\tremaining: 31.3s\n",
      "663:\tlearn: 0.0259957\ttotal: 1m 1s\tremaining: 31.2s\n",
      "664:\tlearn: 0.0259904\ttotal: 1m 1s\tremaining: 31.1s\n",
      "665:\tlearn: 0.0259660\ttotal: 1m 1s\tremaining: 31s\n",
      "666:\tlearn: 0.0259051\ttotal: 1m 1s\tremaining: 30.9s\n",
      "667:\tlearn: 0.0259000\ttotal: 1m 1s\tremaining: 30.8s\n",
      "668:\tlearn: 0.0258948\ttotal: 1m 2s\tremaining: 30.7s\n",
      "669:\tlearn: 0.0258093\ttotal: 1m 2s\tremaining: 30.6s\n",
      "670:\tlearn: 0.0258042\ttotal: 1m 2s\tremaining: 30.5s\n",
      "671:\tlearn: 0.0257576\ttotal: 1m 2s\tremaining: 30.4s\n",
      "672:\tlearn: 0.0257281\ttotal: 1m 2s\tremaining: 30.3s\n",
      "673:\tlearn: 0.0256391\ttotal: 1m 2s\tremaining: 30.2s\n",
      "674:\tlearn: 0.0256293\ttotal: 1m 2s\tremaining: 30.2s\n",
      "675:\tlearn: 0.0255563\ttotal: 1m 2s\tremaining: 30.1s\n",
      "676:\tlearn: 0.0255512\ttotal: 1m 2s\tremaining: 30s\n",
      "677:\tlearn: 0.0255429\ttotal: 1m 2s\tremaining: 29.9s\n",
      "678:\tlearn: 0.0254415\ttotal: 1m 2s\tremaining: 29.8s\n",
      "679:\tlearn: 0.0254277\ttotal: 1m 3s\tremaining: 29.7s\n",
      "680:\tlearn: 0.0254226\ttotal: 1m 3s\tremaining: 29.6s\n",
      "681:\tlearn: 0.0254176\ttotal: 1m 3s\tremaining: 29.5s\n",
      "682:\tlearn: 0.0254127\ttotal: 1m 3s\tremaining: 29.4s\n",
      "683:\tlearn: 0.0254043\ttotal: 1m 3s\tremaining: 29.3s\n",
      "684:\tlearn: 0.0253557\ttotal: 1m 3s\tremaining: 29.2s\n",
      "685:\tlearn: 0.0253508\ttotal: 1m 3s\tremaining: 29.1s\n",
      "686:\tlearn: 0.0253458\ttotal: 1m 3s\tremaining: 29s\n",
      "687:\tlearn: 0.0253089\ttotal: 1m 3s\tremaining: 28.9s\n",
      "688:\tlearn: 0.0252323\ttotal: 1m 3s\tremaining: 28.8s\n",
      "689:\tlearn: 0.0252229\ttotal: 1m 3s\tremaining: 28.7s\n",
      "690:\tlearn: 0.0251805\ttotal: 1m 4s\tremaining: 28.7s\n",
      "691:\tlearn: 0.0251725\ttotal: 1m 4s\tremaining: 28.6s\n",
      "692:\tlearn: 0.0251433\ttotal: 1m 4s\tremaining: 28.5s\n",
      "693:\tlearn: 0.0250525\ttotal: 1m 4s\tremaining: 28.4s\n",
      "694:\tlearn: 0.0250476\ttotal: 1m 4s\tremaining: 28.3s\n",
      "695:\tlearn: 0.0249928\ttotal: 1m 4s\tremaining: 28.2s\n",
      "696:\tlearn: 0.0249879\ttotal: 1m 4s\tremaining: 28.1s\n",
      "697:\tlearn: 0.0249347\ttotal: 1m 4s\tremaining: 28s\n",
      "698:\tlearn: 0.0248825\ttotal: 1m 4s\tremaining: 27.9s\n",
      "699:\tlearn: 0.0248298\ttotal: 1m 4s\tremaining: 27.8s\n",
      "700:\tlearn: 0.0248251\ttotal: 1m 5s\tremaining: 27.7s\n",
      "701:\tlearn: 0.0247636\ttotal: 1m 5s\tremaining: 27.6s\n",
      "702:\tlearn: 0.0247540\ttotal: 1m 5s\tremaining: 27.5s\n",
      "703:\tlearn: 0.0247493\ttotal: 1m 5s\tremaining: 27.4s\n",
      "704:\tlearn: 0.0247446\ttotal: 1m 5s\tremaining: 27.4s\n",
      "705:\tlearn: 0.0246137\ttotal: 1m 5s\tremaining: 27.3s\n",
      "706:\tlearn: 0.0246090\ttotal: 1m 5s\tremaining: 27.2s\n",
      "707:\tlearn: 0.0246011\ttotal: 1m 5s\tremaining: 27.1s\n",
      "708:\tlearn: 0.0244944\ttotal: 1m 5s\tremaining: 27s\n",
      "709:\tlearn: 0.0244632\ttotal: 1m 5s\tremaining: 26.9s\n",
      "710:\tlearn: 0.0244551\ttotal: 1m 5s\tremaining: 26.8s\n",
      "711:\tlearn: 0.0244504\ttotal: 1m 6s\tremaining: 26.7s\n",
      "712:\tlearn: 0.0244080\ttotal: 1m 6s\tremaining: 26.6s\n",
      "713:\tlearn: 0.0243976\ttotal: 1m 6s\tremaining: 26.5s\n",
      "714:\tlearn: 0.0243669\ttotal: 1m 6s\tremaining: 26.4s\n",
      "715:\tlearn: 0.0242948\ttotal: 1m 6s\tremaining: 26.3s\n",
      "716:\tlearn: 0.0242060\ttotal: 1m 6s\tremaining: 26.2s\n",
      "717:\tlearn: 0.0241981\ttotal: 1m 6s\tremaining: 26.1s\n",
      "718:\tlearn: 0.0241935\ttotal: 1m 6s\tremaining: 26.1s\n",
      "719:\tlearn: 0.0240980\ttotal: 1m 6s\tremaining: 26s\n",
      "720:\tlearn: 0.0240935\ttotal: 1m 6s\tremaining: 25.9s\n",
      "721:\tlearn: 0.0240584\ttotal: 1m 6s\tremaining: 25.8s\n",
      "722:\tlearn: 0.0239999\ttotal: 1m 7s\tremaining: 25.7s\n",
      "723:\tlearn: 0.0239923\ttotal: 1m 7s\tremaining: 25.6s\n",
      "724:\tlearn: 0.0239816\ttotal: 1m 7s\tremaining: 25.5s\n",
      "725:\tlearn: 0.0239526\ttotal: 1m 7s\tremaining: 25.4s\n",
      "726:\tlearn: 0.0239277\ttotal: 1m 7s\tremaining: 25.3s\n",
      "727:\tlearn: 0.0239232\ttotal: 1m 7s\tremaining: 25.2s\n",
      "728:\tlearn: 0.0239187\ttotal: 1m 7s\tremaining: 25.1s\n",
      "729:\tlearn: 0.0238290\ttotal: 1m 7s\tremaining: 25s\n",
      "730:\tlearn: 0.0238200\ttotal: 1m 7s\tremaining: 24.9s\n",
      "731:\tlearn: 0.0237647\ttotal: 1m 7s\tremaining: 24.9s\n",
      "732:\tlearn: 0.0237026\ttotal: 1m 7s\tremaining: 24.8s\n",
      "733:\tlearn: 0.0236982\ttotal: 1m 8s\tremaining: 24.7s\n",
      "734:\tlearn: 0.0236572\ttotal: 1m 8s\tremaining: 24.6s\n",
      "735:\tlearn: 0.0236528\ttotal: 1m 8s\tremaining: 24.5s\n",
      "736:\tlearn: 0.0236288\ttotal: 1m 8s\tremaining: 24.4s\n",
      "737:\tlearn: 0.0236214\ttotal: 1m 8s\tremaining: 24.3s\n",
      "738:\tlearn: 0.0235981\ttotal: 1m 8s\tremaining: 24.2s\n",
      "739:\tlearn: 0.0235938\ttotal: 1m 8s\tremaining: 24.1s\n",
      "740:\tlearn: 0.0235408\ttotal: 1m 8s\tremaining: 24s\n",
      "741:\tlearn: 0.0235365\ttotal: 1m 8s\tremaining: 23.9s\n",
      "742:\tlearn: 0.0235272\ttotal: 1m 8s\tremaining: 23.8s\n",
      "743:\tlearn: 0.0235199\ttotal: 1m 8s\tremaining: 23.7s\n",
      "744:\tlearn: 0.0235157\ttotal: 1m 9s\tremaining: 23.6s\n",
      "745:\tlearn: 0.0234791\ttotal: 1m 9s\tremaining: 23.6s\n",
      "746:\tlearn: 0.0234749\ttotal: 1m 9s\tremaining: 23.5s\n",
      "747:\tlearn: 0.0234655\ttotal: 1m 9s\tremaining: 23.4s\n",
      "748:\tlearn: 0.0234002\ttotal: 1m 9s\tremaining: 23.3s\n",
      "749:\tlearn: 0.0233699\ttotal: 1m 9s\tremaining: 23.2s\n",
      "750:\tlearn: 0.0233657\ttotal: 1m 9s\tremaining: 23.1s\n",
      "751:\tlearn: 0.0232972\ttotal: 1m 9s\tremaining: 23s\n",
      "752:\tlearn: 0.0232900\ttotal: 1m 9s\tremaining: 22.9s\n",
      "753:\tlearn: 0.0232442\ttotal: 1m 9s\tremaining: 22.8s\n",
      "754:\tlearn: 0.0232401\ttotal: 1m 10s\tremaining: 22.7s\n",
      "755:\tlearn: 0.0231876\ttotal: 1m 10s\tremaining: 22.6s\n",
      "756:\tlearn: 0.0231805\ttotal: 1m 10s\tremaining: 22.5s\n",
      "757:\tlearn: 0.0231763\ttotal: 1m 10s\tremaining: 22.4s\n",
      "758:\tlearn: 0.0231285\ttotal: 1m 10s\tremaining: 22.3s\n",
      "759:\tlearn: 0.0230364\ttotal: 1m 10s\tremaining: 22.3s\n",
      "760:\tlearn: 0.0230294\ttotal: 1m 10s\tremaining: 22.2s\n",
      "761:\tlearn: 0.0230253\ttotal: 1m 10s\tremaining: 22.1s\n",
      "762:\tlearn: 0.0230212\ttotal: 1m 10s\tremaining: 22s\n",
      "763:\tlearn: 0.0229397\ttotal: 1m 10s\tremaining: 21.9s\n",
      "764:\tlearn: 0.0229356\ttotal: 1m 10s\tremaining: 21.8s\n",
      "765:\tlearn: 0.0229287\ttotal: 1m 11s\tremaining: 21.7s\n",
      "766:\tlearn: 0.0229247\ttotal: 1m 11s\tremaining: 21.6s\n",
      "767:\tlearn: 0.0228424\ttotal: 1m 11s\tremaining: 21.5s\n",
      "768:\tlearn: 0.0228384\ttotal: 1m 11s\tremaining: 21.4s\n",
      "769:\tlearn: 0.0228315\ttotal: 1m 11s\tremaining: 21.3s\n",
      "770:\tlearn: 0.0227690\ttotal: 1m 11s\tremaining: 21.2s\n",
      "771:\tlearn: 0.0227648\ttotal: 1m 11s\tremaining: 21.1s\n",
      "772:\tlearn: 0.0227562\ttotal: 1m 11s\tremaining: 21s\n",
      "773:\tlearn: 0.0227241\ttotal: 1m 11s\tremaining: 21s\n",
      "774:\tlearn: 0.0226374\ttotal: 1m 11s\tremaining: 20.9s\n",
      "775:\tlearn: 0.0225619\ttotal: 1m 11s\tremaining: 20.8s\n",
      "776:\tlearn: 0.0225579\ttotal: 1m 12s\tremaining: 20.7s\n",
      "777:\tlearn: 0.0225511\ttotal: 1m 12s\tremaining: 20.6s\n",
      "778:\tlearn: 0.0225471\ttotal: 1m 12s\tremaining: 20.5s\n",
      "779:\tlearn: 0.0225155\ttotal: 1m 12s\tremaining: 20.4s\n",
      "780:\tlearn: 0.0225115\ttotal: 1m 12s\tremaining: 20.3s\n",
      "781:\tlearn: 0.0225076\ttotal: 1m 12s\tremaining: 20.2s\n",
      "782:\tlearn: 0.0224406\ttotal: 1m 12s\tremaining: 20.1s\n",
      "783:\tlearn: 0.0223829\ttotal: 1m 12s\tremaining: 20s\n",
      "784:\tlearn: 0.0223739\ttotal: 1m 12s\tremaining: 19.9s\n",
      "785:\tlearn: 0.0223700\ttotal: 1m 12s\tremaining: 19.8s\n",
      "786:\tlearn: 0.0223290\ttotal: 1m 12s\tremaining: 19.7s\n",
      "787:\tlearn: 0.0222885\ttotal: 1m 13s\tremaining: 19.6s\n",
      "788:\tlearn: 0.0221972\ttotal: 1m 13s\tremaining: 19.6s\n",
      "789:\tlearn: 0.0221903\ttotal: 1m 13s\tremaining: 19.5s\n",
      "790:\tlearn: 0.0221546\ttotal: 1m 13s\tremaining: 19.4s\n",
      "791:\tlearn: 0.0220987\ttotal: 1m 13s\tremaining: 19.3s\n",
      "792:\tlearn: 0.0220948\ttotal: 1m 13s\tremaining: 19.2s\n",
      "793:\tlearn: 0.0220909\ttotal: 1m 13s\tremaining: 19.1s\n",
      "794:\tlearn: 0.0220705\ttotal: 1m 13s\tremaining: 19s\n"
     ]
    },
    {
     "name": "stdout",
     "output_type": "stream",
     "text": [
      "795:\tlearn: 0.0219924\ttotal: 1m 13s\tremaining: 18.9s\n",
      "796:\tlearn: 0.0219858\ttotal: 1m 13s\tremaining: 18.8s\n",
      "797:\tlearn: 0.0219820\ttotal: 1m 13s\tremaining: 18.7s\n",
      "798:\tlearn: 0.0219258\ttotal: 1m 14s\tremaining: 18.6s\n",
      "799:\tlearn: 0.0219220\ttotal: 1m 14s\tremaining: 18.5s\n",
      "800:\tlearn: 0.0219155\ttotal: 1m 14s\tremaining: 18.4s\n",
      "801:\tlearn: 0.0218855\ttotal: 1m 14s\tremaining: 18.4s\n",
      "802:\tlearn: 0.0218817\ttotal: 1m 14s\tremaining: 18.3s\n",
      "803:\tlearn: 0.0217894\ttotal: 1m 14s\tremaining: 18.2s\n",
      "804:\tlearn: 0.0217429\ttotal: 1m 14s\tremaining: 18.1s\n",
      "805:\tlearn: 0.0217391\ttotal: 1m 14s\tremaining: 18s\n",
      "806:\tlearn: 0.0217312\ttotal: 1m 14s\tremaining: 17.9s\n",
      "807:\tlearn: 0.0217275\ttotal: 1m 14s\tremaining: 17.8s\n",
      "808:\tlearn: 0.0217195\ttotal: 1m 14s\tremaining: 17.7s\n",
      "809:\tlearn: 0.0217131\ttotal: 1m 15s\tremaining: 17.6s\n",
      "810:\tlearn: 0.0217094\ttotal: 1m 15s\tremaining: 17.5s\n",
      "811:\tlearn: 0.0216193\ttotal: 1m 15s\tremaining: 17.4s\n",
      "812:\tlearn: 0.0215806\ttotal: 1m 15s\tremaining: 17.3s\n",
      "813:\tlearn: 0.0215548\ttotal: 1m 15s\tremaining: 17.2s\n",
      "814:\tlearn: 0.0215511\ttotal: 1m 15s\tremaining: 17.1s\n",
      "815:\tlearn: 0.0214776\ttotal: 1m 15s\tremaining: 17.1s\n",
      "816:\tlearn: 0.0214740\ttotal: 1m 15s\tremaining: 17s\n",
      "817:\tlearn: 0.0213974\ttotal: 1m 15s\tremaining: 16.9s\n",
      "818:\tlearn: 0.0213908\ttotal: 1m 15s\tremaining: 16.8s\n",
      "819:\tlearn: 0.0213872\ttotal: 1m 15s\tremaining: 16.7s\n",
      "820:\tlearn: 0.0213344\ttotal: 1m 16s\tremaining: 16.6s\n",
      "821:\tlearn: 0.0213308\ttotal: 1m 16s\tremaining: 16.5s\n",
      "822:\tlearn: 0.0212917\ttotal: 1m 16s\tremaining: 16.4s\n",
      "823:\tlearn: 0.0212839\ttotal: 1m 16s\tremaining: 16.3s\n",
      "824:\tlearn: 0.0212552\ttotal: 1m 16s\tremaining: 16.2s\n",
      "825:\tlearn: 0.0211931\ttotal: 1m 16s\tremaining: 16.1s\n",
      "826:\tlearn: 0.0211895\ttotal: 1m 16s\tremaining: 16s\n",
      "827:\tlearn: 0.0211605\ttotal: 1m 16s\tremaining: 15.9s\n",
      "828:\tlearn: 0.0211534\ttotal: 1m 16s\tremaining: 15.8s\n",
      "829:\tlearn: 0.0210942\ttotal: 1m 16s\tremaining: 15.8s\n",
      "830:\tlearn: 0.0210625\ttotal: 1m 16s\tremaining: 15.7s\n",
      "831:\tlearn: 0.0210564\ttotal: 1m 17s\tremaining: 15.6s\n",
      "832:\tlearn: 0.0210528\ttotal: 1m 17s\tremaining: 15.5s\n",
      "833:\tlearn: 0.0210264\ttotal: 1m 17s\tremaining: 15.4s\n",
      "834:\tlearn: 0.0210229\ttotal: 1m 17s\tremaining: 15.3s\n",
      "835:\tlearn: 0.0210194\ttotal: 1m 17s\tremaining: 15.2s\n",
      "836:\tlearn: 0.0209959\ttotal: 1m 17s\tremaining: 15.1s\n",
      "837:\tlearn: 0.0209312\ttotal: 1m 17s\tremaining: 15s\n",
      "838:\tlearn: 0.0209231\ttotal: 1m 17s\tremaining: 14.9s\n",
      "839:\tlearn: 0.0209196\ttotal: 1m 17s\tremaining: 14.8s\n",
      "840:\tlearn: 0.0208930\ttotal: 1m 17s\tremaining: 14.7s\n",
      "841:\tlearn: 0.0208620\ttotal: 1m 18s\tremaining: 14.6s\n",
      "842:\tlearn: 0.0208586\ttotal: 1m 18s\tremaining: 14.5s\n",
      "843:\tlearn: 0.0208283\ttotal: 1m 18s\tremaining: 14.5s\n",
      "844:\tlearn: 0.0208223\ttotal: 1m 18s\tremaining: 14.4s\n",
      "845:\tlearn: 0.0207836\ttotal: 1m 18s\tremaining: 14.3s\n",
      "846:\tlearn: 0.0207802\ttotal: 1m 18s\tremaining: 14.2s\n",
      "847:\tlearn: 0.0207091\ttotal: 1m 18s\tremaining: 14.1s\n",
      "848:\tlearn: 0.0207031\ttotal: 1m 18s\tremaining: 14s\n",
      "849:\tlearn: 0.0206973\ttotal: 1m 18s\tremaining: 13.9s\n",
      "850:\tlearn: 0.0206939\ttotal: 1m 18s\tremaining: 13.8s\n",
      "851:\tlearn: 0.0206386\ttotal: 1m 18s\tremaining: 13.7s\n",
      "852:\tlearn: 0.0206324\ttotal: 1m 19s\tremaining: 13.6s\n",
      "853:\tlearn: 0.0206057\ttotal: 1m 19s\tremaining: 13.5s\n",
      "854:\tlearn: 0.0206023\ttotal: 1m 19s\tremaining: 13.4s\n",
      "855:\tlearn: 0.0205944\ttotal: 1m 19s\tremaining: 13.3s\n",
      "856:\tlearn: 0.0205576\ttotal: 1m 19s\tremaining: 13.2s\n",
      "857:\tlearn: 0.0204565\ttotal: 1m 19s\tremaining: 13.2s\n",
      "858:\tlearn: 0.0204491\ttotal: 1m 19s\tremaining: 13.1s\n",
      "859:\tlearn: 0.0204137\ttotal: 1m 19s\tremaining: 13s\n",
      "860:\tlearn: 0.0204103\ttotal: 1m 19s\tremaining: 12.9s\n",
      "861:\tlearn: 0.0203777\ttotal: 1m 19s\tremaining: 12.8s\n",
      "862:\tlearn: 0.0203256\ttotal: 1m 19s\tremaining: 12.7s\n",
      "863:\tlearn: 0.0203223\ttotal: 1m 20s\tremaining: 12.6s\n",
      "864:\tlearn: 0.0202936\ttotal: 1m 20s\tremaining: 12.5s\n",
      "865:\tlearn: 0.0202879\ttotal: 1m 20s\tremaining: 12.4s\n",
      "866:\tlearn: 0.0202113\ttotal: 1m 20s\tremaining: 12.3s\n",
      "867:\tlearn: 0.0202056\ttotal: 1m 20s\tremaining: 12.2s\n",
      "868:\tlearn: 0.0201554\ttotal: 1m 20s\tremaining: 12.1s\n",
      "869:\tlearn: 0.0201496\ttotal: 1m 20s\tremaining: 12s\n",
      "870:\tlearn: 0.0201464\ttotal: 1m 20s\tremaining: 11.9s\n",
      "871:\tlearn: 0.0200451\ttotal: 1m 20s\tremaining: 11.9s\n",
      "872:\tlearn: 0.0200418\ttotal: 1m 20s\tremaining: 11.8s\n",
      "873:\tlearn: 0.0200386\ttotal: 1m 20s\tremaining: 11.7s\n",
      "874:\tlearn: 0.0200330\ttotal: 1m 21s\tremaining: 11.6s\n",
      "875:\tlearn: 0.0200298\ttotal: 1m 21s\tremaining: 11.5s\n",
      "876:\tlearn: 0.0199940\ttotal: 1m 21s\tremaining: 11.4s\n",
      "877:\tlearn: 0.0199908\ttotal: 1m 21s\tremaining: 11.3s\n",
      "878:\tlearn: 0.0199566\ttotal: 1m 21s\tremaining: 11.2s\n",
      "879:\tlearn: 0.0199490\ttotal: 1m 21s\tremaining: 11.1s\n",
      "880:\tlearn: 0.0199458\ttotal: 1m 21s\tremaining: 11s\n",
      "881:\tlearn: 0.0198982\ttotal: 1m 21s\tremaining: 10.9s\n",
      "882:\tlearn: 0.0198951\ttotal: 1m 21s\tremaining: 10.8s\n",
      "883:\tlearn: 0.0198695\ttotal: 1m 21s\tremaining: 10.7s\n",
      "884:\tlearn: 0.0198622\ttotal: 1m 22s\tremaining: 10.7s\n",
      "885:\tlearn: 0.0198394\ttotal: 1m 22s\tremaining: 10.6s\n",
      "886:\tlearn: 0.0197999\ttotal: 1m 22s\tremaining: 10.5s\n",
      "887:\tlearn: 0.0197967\ttotal: 1m 22s\tremaining: 10.4s\n",
      "888:\tlearn: 0.0197937\ttotal: 1m 22s\tremaining: 10.3s\n",
      "889:\tlearn: 0.0197884\ttotal: 1m 22s\tremaining: 10.2s\n",
      "890:\tlearn: 0.0197432\ttotal: 1m 22s\tremaining: 10.1s\n",
      "891:\tlearn: 0.0197380\ttotal: 1m 22s\tremaining: 10s\n",
      "892:\tlearn: 0.0197068\ttotal: 1m 22s\tremaining: 9.91s\n",
      "893:\tlearn: 0.0197016\ttotal: 1m 22s\tremaining: 9.82s\n",
      "894:\tlearn: 0.0196985\ttotal: 1m 22s\tremaining: 9.73s\n",
      "895:\tlearn: 0.0196575\ttotal: 1m 23s\tremaining: 9.63s\n",
      "896:\tlearn: 0.0196545\ttotal: 1m 23s\tremaining: 9.54s\n",
      "897:\tlearn: 0.0195915\ttotal: 1m 23s\tremaining: 9.45s\n",
      "898:\tlearn: 0.0195863\ttotal: 1m 23s\tremaining: 9.36s\n",
      "899:\tlearn: 0.0195832\ttotal: 1m 23s\tremaining: 9.26s\n",
      "900:\tlearn: 0.0195151\ttotal: 1m 23s\tremaining: 9.17s\n",
      "901:\tlearn: 0.0195120\ttotal: 1m 23s\tremaining: 9.08s\n",
      "902:\tlearn: 0.0194579\ttotal: 1m 23s\tremaining: 8.99s\n",
      "903:\tlearn: 0.0194506\ttotal: 1m 23s\tremaining: 8.89s\n",
      "904:\tlearn: 0.0194244\ttotal: 1m 23s\tremaining: 8.8s\n",
      "905:\tlearn: 0.0194214\ttotal: 1m 23s\tremaining: 8.71s\n",
      "906:\tlearn: 0.0194033\ttotal: 1m 24s\tremaining: 8.62s\n",
      "907:\tlearn: 0.0193401\ttotal: 1m 24s\tremaining: 8.52s\n",
      "908:\tlearn: 0.0193348\ttotal: 1m 24s\tremaining: 8.43s\n",
      "909:\tlearn: 0.0193318\ttotal: 1m 24s\tremaining: 8.34s\n",
      "910:\tlearn: 0.0192989\ttotal: 1m 24s\tremaining: 8.24s\n",
      "911:\tlearn: 0.0192934\ttotal: 1m 24s\tremaining: 8.15s\n",
      "912:\tlearn: 0.0192498\ttotal: 1m 24s\tremaining: 8.06s\n",
      "913:\tlearn: 0.0192442\ttotal: 1m 24s\tremaining: 7.96s\n",
      "914:\tlearn: 0.0192412\ttotal: 1m 24s\tremaining: 7.87s\n",
      "915:\tlearn: 0.0192339\ttotal: 1m 24s\tremaining: 7.78s\n",
      "916:\tlearn: 0.0192115\ttotal: 1m 24s\tremaining: 7.69s\n",
      "917:\tlearn: 0.0191888\ttotal: 1m 25s\tremaining: 7.59s\n",
      "918:\tlearn: 0.0191066\ttotal: 1m 25s\tremaining: 7.5s\n",
      "919:\tlearn: 0.0191011\ttotal: 1m 25s\tremaining: 7.41s\n",
      "920:\tlearn: 0.0190982\ttotal: 1m 25s\tremaining: 7.32s\n",
      "921:\tlearn: 0.0190665\ttotal: 1m 25s\tremaining: 7.22s\n",
      "922:\tlearn: 0.0190594\ttotal: 1m 25s\tremaining: 7.13s\n",
      "923:\tlearn: 0.0190565\ttotal: 1m 25s\tremaining: 7.04s\n",
      "924:\tlearn: 0.0190536\ttotal: 1m 25s\tremaining: 6.95s\n",
      "925:\tlearn: 0.0190324\ttotal: 1m 25s\tremaining: 6.85s\n",
      "926:\tlearn: 0.0190295\ttotal: 1m 25s\tremaining: 6.76s\n",
      "927:\tlearn: 0.0190267\ttotal: 1m 25s\tremaining: 6.67s\n",
      "928:\tlearn: 0.0189826\ttotal: 1m 26s\tremaining: 6.58s\n",
      "929:\tlearn: 0.0189771\ttotal: 1m 26s\tremaining: 6.48s\n",
      "930:\tlearn: 0.0189700\ttotal: 1m 26s\tremaining: 6.39s\n",
      "931:\tlearn: 0.0189671\ttotal: 1m 26s\tremaining: 6.3s\n",
      "932:\tlearn: 0.0189217\ttotal: 1m 26s\tremaining: 6.2s\n",
      "933:\tlearn: 0.0188608\ttotal: 1m 26s\tremaining: 6.11s\n",
      "934:\tlearn: 0.0188529\ttotal: 1m 26s\tremaining: 6.02s\n",
      "935:\tlearn: 0.0188466\ttotal: 1m 26s\tremaining: 5.93s\n",
      "936:\tlearn: 0.0188438\ttotal: 1m 26s\tremaining: 5.83s\n",
      "937:\tlearn: 0.0187567\ttotal: 1m 26s\tremaining: 5.74s\n",
      "938:\tlearn: 0.0187157\ttotal: 1m 26s\tremaining: 5.65s\n",
      "939:\tlearn: 0.0187108\ttotal: 1m 27s\tremaining: 5.56s\n",
      "940:\tlearn: 0.0187080\ttotal: 1m 27s\tremaining: 5.46s\n",
      "941:\tlearn: 0.0186788\ttotal: 1m 27s\tremaining: 5.37s\n",
      "942:\tlearn: 0.0186168\ttotal: 1m 27s\tremaining: 5.28s\n",
      "943:\tlearn: 0.0186115\ttotal: 1m 27s\tremaining: 5.19s\n",
      "944:\tlearn: 0.0185677\ttotal: 1m 27s\tremaining: 5.09s\n",
      "945:\tlearn: 0.0185649\ttotal: 1m 27s\tremaining: 5s\n",
      "946:\tlearn: 0.0185621\ttotal: 1m 27s\tremaining: 4.91s\n",
      "947:\tlearn: 0.0185572\ttotal: 1m 27s\tremaining: 4.82s\n",
      "948:\tlearn: 0.0185545\ttotal: 1m 27s\tremaining: 4.72s\n",
      "949:\tlearn: 0.0185329\ttotal: 1m 27s\tremaining: 4.63s\n",
      "950:\tlearn: 0.0185280\ttotal: 1m 28s\tremaining: 4.54s\n"
     ]
    },
    {
     "name": "stdout",
     "output_type": "stream",
     "text": [
      "951:\tlearn: 0.0184235\ttotal: 1m 28s\tremaining: 4.45s\n",
      "952:\tlearn: 0.0184179\ttotal: 1m 28s\tremaining: 4.35s\n",
      "953:\tlearn: 0.0184152\ttotal: 1m 28s\tremaining: 4.26s\n",
      "954:\tlearn: 0.0183969\ttotal: 1m 28s\tremaining: 4.17s\n",
      "955:\tlearn: 0.0183942\ttotal: 1m 28s\tremaining: 4.07s\n",
      "956:\tlearn: 0.0183890\ttotal: 1m 28s\tremaining: 3.98s\n",
      "957:\tlearn: 0.0183545\ttotal: 1m 28s\tremaining: 3.89s\n",
      "958:\tlearn: 0.0183166\ttotal: 1m 28s\tremaining: 3.8s\n",
      "959:\tlearn: 0.0183139\ttotal: 1m 28s\tremaining: 3.7s\n",
      "960:\tlearn: 0.0183112\ttotal: 1m 28s\tremaining: 3.61s\n",
      "961:\tlearn: 0.0183063\ttotal: 1m 29s\tremaining: 3.52s\n",
      "962:\tlearn: 0.0183036\ttotal: 1m 29s\tremaining: 3.42s\n",
      "963:\tlearn: 0.0182927\ttotal: 1m 29s\tremaining: 3.33s\n",
      "964:\tlearn: 0.0182480\ttotal: 1m 29s\tremaining: 3.24s\n",
      "965:\tlearn: 0.0182198\ttotal: 1m 29s\tremaining: 3.15s\n",
      "966:\tlearn: 0.0182151\ttotal: 1m 29s\tremaining: 3.05s\n",
      "967:\tlearn: 0.0181703\ttotal: 1m 29s\tremaining: 2.96s\n",
      "968:\tlearn: 0.0181654\ttotal: 1m 29s\tremaining: 2.87s\n",
      "969:\tlearn: 0.0181627\ttotal: 1m 29s\tremaining: 2.78s\n",
      "970:\tlearn: 0.0181600\ttotal: 1m 29s\tremaining: 2.68s\n",
      "971:\tlearn: 0.0181570\ttotal: 1m 29s\tremaining: 2.59s\n",
      "972:\tlearn: 0.0181131\ttotal: 1m 30s\tremaining: 2.5s\n",
      "973:\tlearn: 0.0181024\ttotal: 1m 30s\tremaining: 2.41s\n",
      "974:\tlearn: 0.0180426\ttotal: 1m 30s\tremaining: 2.31s\n",
      "975:\tlearn: 0.0180379\ttotal: 1m 30s\tremaining: 2.22s\n",
      "976:\tlearn: 0.0180169\ttotal: 1m 30s\tremaining: 2.13s\n",
      "977:\tlearn: 0.0179799\ttotal: 1m 30s\tremaining: 2.04s\n",
      "978:\tlearn: 0.0179773\ttotal: 1m 30s\tremaining: 1.94s\n",
      "979:\tlearn: 0.0179499\ttotal: 1m 30s\tremaining: 1.85s\n",
      "980:\tlearn: 0.0179450\ttotal: 1m 30s\tremaining: 1.76s\n",
      "981:\tlearn: 0.0179073\ttotal: 1m 30s\tremaining: 1.67s\n",
      "982:\tlearn: 0.0178747\ttotal: 1m 30s\tremaining: 1.57s\n",
      "983:\tlearn: 0.0178721\ttotal: 1m 31s\tremaining: 1.48s\n",
      "984:\tlearn: 0.0178353\ttotal: 1m 31s\tremaining: 1.39s\n",
      "985:\tlearn: 0.0178307\ttotal: 1m 31s\tremaining: 1.29s\n",
      "986:\tlearn: 0.0178221\ttotal: 1m 31s\tremaining: 1.2s\n",
      "987:\tlearn: 0.0177888\ttotal: 1m 31s\tremaining: 1.11s\n",
      "988:\tlearn: 0.0177862\ttotal: 1m 31s\tremaining: 1.02s\n",
      "989:\tlearn: 0.0177837\ttotal: 1m 31s\tremaining: 925ms\n",
      "990:\tlearn: 0.0177222\ttotal: 1m 31s\tremaining: 833ms\n",
      "991:\tlearn: 0.0177196\ttotal: 1m 31s\tremaining: 740ms\n",
      "992:\tlearn: 0.0176584\ttotal: 1m 31s\tremaining: 648ms\n",
      "993:\tlearn: 0.0175899\ttotal: 1m 31s\tremaining: 555ms\n",
      "994:\tlearn: 0.0175401\ttotal: 1m 32s\tremaining: 463ms\n",
      "995:\tlearn: 0.0175376\ttotal: 1m 32s\tremaining: 370ms\n",
      "996:\tlearn: 0.0175222\ttotal: 1m 32s\tremaining: 278ms\n",
      "997:\tlearn: 0.0174678\ttotal: 1m 32s\tremaining: 185ms\n",
      "998:\tlearn: 0.0174653\ttotal: 1m 32s\tremaining: 92.5ms\n",
      "999:\tlearn: 0.0174153\ttotal: 1m 32s\tremaining: 0us\n",
      "0.9810473815461347\n",
      "\n",
      "\n",
      "              precision    recall  f1-score   support\n",
      "\n",
      "    Negative       0.93      0.96      0.95       340\n",
      "    Positive       0.99      0.98      0.99      1665\n",
      "\n",
      "    accuracy                           0.98      2005\n",
      "   macro avg       0.96      0.97      0.97      2005\n",
      "weighted avg       0.98      0.98      0.98      2005\n",
      "\n"
     ]
    }
   ],
   "source": [
    "model_cbc_u = Pipeline(steps=[('victorizer', tvec),(\"ROS\", RandomOverSampler()), ('classifier', cbc)])\n",
    "\n",
    "model_cbc_u.fit(X_train,y_train)\n",
    "\n",
    "y_pred_model_cbc_u = model_cbc_u.predict(X_test)\n",
    "\n",
    "print(accuracy_score(y_test,y_pred_model_cbc_u))\n",
    "print('\\n')\n",
    "print(classification_report(y_test,y_pred_model_cbc_u))"
   ]
  },
  {
   "cell_type": "code",
   "execution_count": 69,
   "metadata": {
    "scrolled": false
   },
   "outputs": [
    {
     "data": {
      "text/plain": [
       "<AxesSubplot:>"
      ]
     },
     "execution_count": 69,
     "metadata": {},
     "output_type": "execute_result"
    },
    {
     "data": {
      "image/png": "[encoded data removed]",
      "text/plain": [
       "<Figure size 720x720 with 2 Axes>"
      ]
     },
     "metadata": {
      "needs_background": "light"
     },
     "output_type": "display_data"
    }
   ],
   "source": [
    "cm_model_cbc_u = confusion_matrix(y_test, y_pred_model_cbc_u)\n",
    "sns.heatmap(cm_model_cbc_u, annot=True, fmt='1')"
   ]
  },
  {
   "cell_type": "markdown",
   "metadata": {},
   "source": [
    "* ### Light Gradient Boosting Machine (LightGBM) Classifier"
   ]
  },
  {
   "cell_type": "code",
   "execution_count": 70,
   "metadata": {},
   "outputs": [
    {
     "name": "stdout",
     "output_type": "stream",
     "text": [
      "0.9815461346633416\n",
      "\n",
      "\n",
      "              precision    recall  f1-score   support\n",
      "\n",
      "    Negative       0.94      0.95      0.95       340\n",
      "    Positive       0.99      0.99      0.99      1665\n",
      "\n",
      "    accuracy                           0.98      2005\n",
      "   macro avg       0.96      0.97      0.97      2005\n",
      "weighted avg       0.98      0.98      0.98      2005\n",
      "\n"
     ]
    }
   ],
   "source": [
    "model_lgbm_u = Pipeline(steps=[('victorizer', tvec),(\"ROS\", RandomOverSampler()), ('classifier', lgbm)])\n",
    "\n",
    "model_lgbm_u.fit(X_train,y_train)\n",
    "\n",
    "y_pred_model_lgbm_u = model_lgbm_u.predict(X_test)\n",
    "\n",
    "print(accuracy_score(y_test,y_pred_model_lgbm_u))\n",
    "print('\\n')\n",
    "print(classification_report(y_test,y_pred_model_lgbm_u))"
   ]
  },
  {
   "cell_type": "code",
   "execution_count": 71,
   "metadata": {
    "scrolled": true
   },
   "outputs": [
    {
     "data": {
      "text/plain": [
       "<AxesSubplot:>"
      ]
     },
     "execution_count": 71,
     "metadata": {},
     "output_type": "execute_result"
    },
    {
     "data": {
      "image/png": "[encoded data removed]",
      "text/plain": [
       "<Figure size 720x720 with 2 Axes>"
      ]
     },
     "metadata": {
      "needs_background": "light"
     },
     "output_type": "display_data"
    }
   ],
   "source": [
    "cm_model_lgbm_u = confusion_matrix(y_test, y_pred_model_lgbm_u)\n",
    "sns.heatmap(cm_model_lgbm_u, annot=True, fmt='1')"
   ]
  },
  {
   "cell_type": "markdown",
   "metadata": {},
   "source": [
    "* ### Multi-Layer Perceptron (MLP) Classifier"
   ]
  },
  {
   "cell_type": "code",
   "execution_count": 72,
   "metadata": {
    "scrolled": true
   },
   "outputs": [
    {
     "name": "stdout",
     "output_type": "stream",
     "text": [
      "0.9730673316708229\n",
      "\n",
      "\n",
      "              precision    recall  f1-score   support\n",
      "\n",
      "    Negative       0.93      0.91      0.92       340\n",
      "    Positive       0.98      0.99      0.98      1665\n",
      "\n",
      "    accuracy                           0.97      2005\n",
      "   macro avg       0.96      0.95      0.95      2005\n",
      "weighted avg       0.97      0.97      0.97      2005\n",
      "\n"
     ]
    }
   ],
   "source": [
    "model_mlp_u = Pipeline(steps=[('victorizer', tvec),(\"ROS\", RandomOverSampler()), ('classifier', mlp)])\n",
    "\n",
    "model_mlp_u.fit(X_train,y_train)\n",
    "\n",
    "y_pred_model_mlp_u = model_mlp_u.predict(X_test)\n",
    "\n",
    "print(accuracy_score(y_test,y_pred_model_mlp_u))\n",
    "print('\\n')\n",
    "print(classification_report(y_test,y_pred_model_mlp_u))"
   ]
  },
  {
   "cell_type": "code",
   "execution_count": 73,
   "metadata": {
    "scrolled": false
   },
   "outputs": [
    {
     "data": {
      "text/plain": [
       "<AxesSubplot:>"
      ]
     },
     "execution_count": 73,
     "metadata": {},
     "output_type": "execute_result"
    },
    {
     "data": {
      "image/png": "[encoded data removed]",
      "text/plain": [
       "<Figure size 720x720 with 2 Axes>"
      ]
     },
     "metadata": {
      "needs_background": "light"
     },
     "output_type": "display_data"
    }
   ],
   "source": [
    "cm_model_mlp_u = confusion_matrix(y_test, y_pred_model_mlp_u)\n",
    "sns.heatmap(cm_model_mlp_u, annot=True, fmt='1')"
   ]
  },
  {
   "cell_type": "markdown",
   "metadata": {},
   "source": [
    "* ### Saving the best unsupervised model"
   ]
  },
  {
   "cell_type": "code",
   "execution_count": 74,
   "metadata": {},
   "outputs": [
    {
     "data": {
      "text/plain": [
       "['unsupervised_model.pkl']"
      ]
     },
     "execution_count": 74,
     "metadata": {},
     "output_type": "execute_result"
    }
   ],
   "source": [
    "joblib.dump(model_lr, 'unsupervised_model.pkl')"
   ]
  }
 ],
 "metadata": {
  "kernelspec": {
   "display_name": "Python 3",
   "language": "python",
   "name": "python3"
  },
  "language_info": {
   "codemirror_mode": {
    "name": "ipython",
    "version": 3
   },
   "file_extension": ".py",
   "mimetype": "text/x-python",
   "name": "python",
   "nbconvert_exporter": "python",
   "pygments_lexer": "ipython3",
   "version": "3.7.9"
  },
  "toc": {
   "base_numbering": 1,
   "nav_menu": {},
   "number_sections": false,
   "sideBar": true,
   "skip_h1_title": false,
   "title_cell": "Table of Contents",
   "title_sidebar": "Contents",
   "toc_cell": false,
   "toc_position": {},
   "toc_section_display": true,
   "toc_window_display": false
  }
 },
 "nbformat": 4,
 "nbformat_minor": 5
}
